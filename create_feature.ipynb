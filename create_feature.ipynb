{
  "nbformat": 4,
  "nbformat_minor": 0,
  "metadata": {
    "colab": {
      "provenance": [],
      "authorship_tag": "ABX9TyMvlY+iLDx8M9X7hESwd9sE",
      "include_colab_link": true
    },
    "kernelspec": {
      "name": "python3",
      "display_name": "Python 3"
    },
    "language_info": {
      "name": "python"
    }
  },
  "cells": [
    {
      "cell_type": "markdown",
      "metadata": {
        "id": "view-in-github",
        "colab_type": "text"
      },
      "source": [
        "<a href=\"https://colab.research.google.com/github/EgorSolovei/VK-recommendation-system/blob/main/create_feature.ipynb\" target=\"_parent\"><img src=\"https://colab.research.google.com/assets/colab-badge.svg\" alt=\"Open In Colab\"/></a>"
      ]
    },
    {
      "cell_type": "code",
      "source": [
        "%%capture\n",
        "! pip install sketch"
      ],
      "metadata": {
        "id": "3GABS33IO2ZY"
      },
      "execution_count": 1,
      "outputs": []
    },
    {
      "cell_type": "code",
      "execution_count": 2,
      "metadata": {
        "colab": {
          "base_uri": "https://localhost:8080/"
        },
        "id": "iAKBiB7LNTHz",
        "outputId": "3e544d16-5524-4e94-bc47-be55250d0276"
      },
      "outputs": [
        {
          "output_type": "stream",
          "name": "stdout",
          "text": [
            "Drive already mounted at /content/drive/; to attempt to forcibly remount, call drive.mount(\"/content/drive/\", force_remount=True).\n"
          ]
        }
      ],
      "source": [
        "import pandas as pd\n",
        "import numpy as np\n",
        "import sketch\n",
        "from google.colab import drive\n",
        "\n",
        "drive.mount('/content/drive/')"
      ]
    },
    {
      "cell_type": "markdown",
      "source": [
        "## Data download"
      ],
      "metadata": {
        "id": "NhBjoEwf_HOa"
      }
    },
    {
      "cell_type": "code",
      "source": [
        "# файл, который обрабывается в NN_recomd. Если дождаться конца обработки будет примерно 3Гб, а так ...мб\n",
        "user_movie = pd.read_csv('/content/drive/MyDrive/Colab_Notebooks/ML_&_AI/Pratice/NN/VK recomd/data/user_movie.csv')\n",
        "user_movie.drop(columns='Unnamed: 0', inplace=True)\n",
        "user_movie.head()"
      ],
      "metadata": {
        "id": "F8O_Bt8qNe68",
        "colab": {
          "base_uri": "https://localhost:8080/",
          "height": 235
        },
        "outputId": "5638eec8-feba-4f9d-9f66-c6e348a57c9d"
      },
      "execution_count": 3,
      "outputs": [
        {
          "output_type": "execute_result",
          "data": {
            "text/plain": [
              "   userId    1    2    5    6   10   11   16   19   20  ...  47868  103449  \\\n",
              "0       4  4.0  4.0  2.0  4.5  4.0  3.5  4.0  2.0  2.5  ...    0.0     0.0   \n",
              "1       5  0.0  0.0  0.0  0.0  0.0  0.0  0.0  0.0  0.0  ...    0.0     0.0   \n",
              "2       6  0.0  0.0  0.0  0.0  4.0  0.0  0.0  0.0  0.0  ...    0.0     0.0   \n",
              "3       8  0.0  0.0  3.0  0.0  0.0  0.0  0.0  0.0  0.0  ...    0.0     0.0   \n",
              "4      10  5.0  0.0  0.0  0.0  0.0  0.0  0.0  0.0  0.0  ...    0.0     0.0   \n",
              "\n",
              "   69498  130044  819  6499  166149  6588  87549  4955  \n",
              "0    0.0     0.0  0.0   0.0     0.0   0.0    0.0   0.0  \n",
              "1    0.0     0.0  0.0   0.0     0.0   0.0    0.0   0.0  \n",
              "2    0.0     0.0  0.0   0.0     0.0   0.0    0.0   0.0  \n",
              "3    0.0     0.0  0.0   0.0     0.0   0.0    0.0   0.0  \n",
              "4    0.0     0.0  0.0   0.0     0.0   0.0    0.0   0.0  \n",
              "\n",
              "[5 rows x 13628 columns]"
            ],
            "text/html": [
              "\n",
              "  <div id=\"df-9eaf794f-44d9-485b-9229-a6acbb3b7c1c\">\n",
              "    <div class=\"colab-df-container\">\n",
              "      <div>\n",
              "<style scoped>\n",
              "    .dataframe tbody tr th:only-of-type {\n",
              "        vertical-align: middle;\n",
              "    }\n",
              "\n",
              "    .dataframe tbody tr th {\n",
              "        vertical-align: top;\n",
              "    }\n",
              "\n",
              "    .dataframe thead th {\n",
              "        text-align: right;\n",
              "    }\n",
              "</style>\n",
              "<table border=\"1\" class=\"dataframe\">\n",
              "  <thead>\n",
              "    <tr style=\"text-align: right;\">\n",
              "      <th></th>\n",
              "      <th>userId</th>\n",
              "      <th>1</th>\n",
              "      <th>2</th>\n",
              "      <th>5</th>\n",
              "      <th>6</th>\n",
              "      <th>10</th>\n",
              "      <th>11</th>\n",
              "      <th>16</th>\n",
              "      <th>19</th>\n",
              "      <th>20</th>\n",
              "      <th>...</th>\n",
              "      <th>47868</th>\n",
              "      <th>103449</th>\n",
              "      <th>69498</th>\n",
              "      <th>130044</th>\n",
              "      <th>819</th>\n",
              "      <th>6499</th>\n",
              "      <th>166149</th>\n",
              "      <th>6588</th>\n",
              "      <th>87549</th>\n",
              "      <th>4955</th>\n",
              "    </tr>\n",
              "  </thead>\n",
              "  <tbody>\n",
              "    <tr>\n",
              "      <th>0</th>\n",
              "      <td>4</td>\n",
              "      <td>4.0</td>\n",
              "      <td>4.0</td>\n",
              "      <td>2.0</td>\n",
              "      <td>4.5</td>\n",
              "      <td>4.0</td>\n",
              "      <td>3.5</td>\n",
              "      <td>4.0</td>\n",
              "      <td>2.0</td>\n",
              "      <td>2.5</td>\n",
              "      <td>...</td>\n",
              "      <td>0.0</td>\n",
              "      <td>0.0</td>\n",
              "      <td>0.0</td>\n",
              "      <td>0.0</td>\n",
              "      <td>0.0</td>\n",
              "      <td>0.0</td>\n",
              "      <td>0.0</td>\n",
              "      <td>0.0</td>\n",
              "      <td>0.0</td>\n",
              "      <td>0.0</td>\n",
              "    </tr>\n",
              "    <tr>\n",
              "      <th>1</th>\n",
              "      <td>5</td>\n",
              "      <td>0.0</td>\n",
              "      <td>0.0</td>\n",
              "      <td>0.0</td>\n",
              "      <td>0.0</td>\n",
              "      <td>0.0</td>\n",
              "      <td>0.0</td>\n",
              "      <td>0.0</td>\n",
              "      <td>0.0</td>\n",
              "      <td>0.0</td>\n",
              "      <td>...</td>\n",
              "      <td>0.0</td>\n",
              "      <td>0.0</td>\n",
              "      <td>0.0</td>\n",
              "      <td>0.0</td>\n",
              "      <td>0.0</td>\n",
              "      <td>0.0</td>\n",
              "      <td>0.0</td>\n",
              "      <td>0.0</td>\n",
              "      <td>0.0</td>\n",
              "      <td>0.0</td>\n",
              "    </tr>\n",
              "    <tr>\n",
              "      <th>2</th>\n",
              "      <td>6</td>\n",
              "      <td>0.0</td>\n",
              "      <td>0.0</td>\n",
              "      <td>0.0</td>\n",
              "      <td>0.0</td>\n",
              "      <td>4.0</td>\n",
              "      <td>0.0</td>\n",
              "      <td>0.0</td>\n",
              "      <td>0.0</td>\n",
              "      <td>0.0</td>\n",
              "      <td>...</td>\n",
              "      <td>0.0</td>\n",
              "      <td>0.0</td>\n",
              "      <td>0.0</td>\n",
              "      <td>0.0</td>\n",
              "      <td>0.0</td>\n",
              "      <td>0.0</td>\n",
              "      <td>0.0</td>\n",
              "      <td>0.0</td>\n",
              "      <td>0.0</td>\n",
              "      <td>0.0</td>\n",
              "    </tr>\n",
              "    <tr>\n",
              "      <th>3</th>\n",
              "      <td>8</td>\n",
              "      <td>0.0</td>\n",
              "      <td>0.0</td>\n",
              "      <td>3.0</td>\n",
              "      <td>0.0</td>\n",
              "      <td>0.0</td>\n",
              "      <td>0.0</td>\n",
              "      <td>0.0</td>\n",
              "      <td>0.0</td>\n",
              "      <td>0.0</td>\n",
              "      <td>...</td>\n",
              "      <td>0.0</td>\n",
              "      <td>0.0</td>\n",
              "      <td>0.0</td>\n",
              "      <td>0.0</td>\n",
              "      <td>0.0</td>\n",
              "      <td>0.0</td>\n",
              "      <td>0.0</td>\n",
              "      <td>0.0</td>\n",
              "      <td>0.0</td>\n",
              "      <td>0.0</td>\n",
              "    </tr>\n",
              "    <tr>\n",
              "      <th>4</th>\n",
              "      <td>10</td>\n",
              "      <td>5.0</td>\n",
              "      <td>0.0</td>\n",
              "      <td>0.0</td>\n",
              "      <td>0.0</td>\n",
              "      <td>0.0</td>\n",
              "      <td>0.0</td>\n",
              "      <td>0.0</td>\n",
              "      <td>0.0</td>\n",
              "      <td>0.0</td>\n",
              "      <td>...</td>\n",
              "      <td>0.0</td>\n",
              "      <td>0.0</td>\n",
              "      <td>0.0</td>\n",
              "      <td>0.0</td>\n",
              "      <td>0.0</td>\n",
              "      <td>0.0</td>\n",
              "      <td>0.0</td>\n",
              "      <td>0.0</td>\n",
              "      <td>0.0</td>\n",
              "      <td>0.0</td>\n",
              "    </tr>\n",
              "  </tbody>\n",
              "</table>\n",
              "<p>5 rows × 13628 columns</p>\n",
              "</div>\n",
              "      <button class=\"colab-df-convert\" onclick=\"convertToInteractive('df-9eaf794f-44d9-485b-9229-a6acbb3b7c1c')\"\n",
              "              title=\"Convert this dataframe to an interactive table.\"\n",
              "              style=\"display:none;\">\n",
              "        \n",
              "  <svg xmlns=\"http://www.w3.org/2000/svg\" height=\"24px\"viewBox=\"0 0 24 24\"\n",
              "       width=\"24px\">\n",
              "    <path d=\"M0 0h24v24H0V0z\" fill=\"none\"/>\n",
              "    <path d=\"M18.56 5.44l.94 2.06.94-2.06 2.06-.94-2.06-.94-.94-2.06-.94 2.06-2.06.94zm-11 1L8.5 8.5l.94-2.06 2.06-.94-2.06-.94L8.5 2.5l-.94 2.06-2.06.94zm10 10l.94 2.06.94-2.06 2.06-.94-2.06-.94-.94-2.06-.94 2.06-2.06.94z\"/><path d=\"M17.41 7.96l-1.37-1.37c-.4-.4-.92-.59-1.43-.59-.52 0-1.04.2-1.43.59L10.3 9.45l-7.72 7.72c-.78.78-.78 2.05 0 2.83L4 21.41c.39.39.9.59 1.41.59.51 0 1.02-.2 1.41-.59l7.78-7.78 2.81-2.81c.8-.78.8-2.07 0-2.86zM5.41 20L4 18.59l7.72-7.72 1.47 1.35L5.41 20z\"/>\n",
              "  </svg>\n",
              "      </button>\n",
              "      \n",
              "  <style>\n",
              "    .colab-df-container {\n",
              "      display:flex;\n",
              "      flex-wrap:wrap;\n",
              "      gap: 12px;\n",
              "    }\n",
              "\n",
              "    .colab-df-convert {\n",
              "      background-color: #E8F0FE;\n",
              "      border: none;\n",
              "      border-radius: 50%;\n",
              "      cursor: pointer;\n",
              "      display: none;\n",
              "      fill: #1967D2;\n",
              "      height: 32px;\n",
              "      padding: 0 0 0 0;\n",
              "      width: 32px;\n",
              "    }\n",
              "\n",
              "    .colab-df-convert:hover {\n",
              "      background-color: #E2EBFA;\n",
              "      box-shadow: 0px 1px 2px rgba(60, 64, 67, 0.3), 0px 1px 3px 1px rgba(60, 64, 67, 0.15);\n",
              "      fill: #174EA6;\n",
              "    }\n",
              "\n",
              "    [theme=dark] .colab-df-convert {\n",
              "      background-color: #3B4455;\n",
              "      fill: #D2E3FC;\n",
              "    }\n",
              "\n",
              "    [theme=dark] .colab-df-convert:hover {\n",
              "      background-color: #434B5C;\n",
              "      box-shadow: 0px 1px 3px 1px rgba(0, 0, 0, 0.15);\n",
              "      filter: drop-shadow(0px 1px 2px rgba(0, 0, 0, 0.3));\n",
              "      fill: #FFFFFF;\n",
              "    }\n",
              "  </style>\n",
              "\n",
              "      <script>\n",
              "        const buttonEl =\n",
              "          document.querySelector('#df-9eaf794f-44d9-485b-9229-a6acbb3b7c1c button.colab-df-convert');\n",
              "        buttonEl.style.display =\n",
              "          google.colab.kernel.accessAllowed ? 'block' : 'none';\n",
              "\n",
              "        async function convertToInteractive(key) {\n",
              "          const element = document.querySelector('#df-9eaf794f-44d9-485b-9229-a6acbb3b7c1c');\n",
              "          const dataTable =\n",
              "            await google.colab.kernel.invokeFunction('convertToInteractive',\n",
              "                                                     [key], {});\n",
              "          if (!dataTable) return;\n",
              "\n",
              "          const docLinkHtml = 'Like what you see? Visit the ' +\n",
              "            '<a target=\"_blank\" href=https://colab.research.google.com/notebooks/data_table.ipynb>data table notebook</a>'\n",
              "            + ' to learn more about interactive tables.';\n",
              "          element.innerHTML = '';\n",
              "          dataTable['output_type'] = 'display_data';\n",
              "          await google.colab.output.renderOutput(dataTable, element);\n",
              "          const docLink = document.createElement('div');\n",
              "          docLink.innerHTML = docLinkHtml;\n",
              "          element.appendChild(docLink);\n",
              "        }\n",
              "      </script>\n",
              "    </div>\n",
              "  </div>\n",
              "  "
            ]
          },
          "metadata": {},
          "execution_count": 3
        }
      ]
    },
    {
      "cell_type": "code",
      "source": [
        "# файл до обработки в NN_recomd (очищенный ratings). Примерно 600Мб\n",
        "user_movie_raw = pd.read_csv('/content/drive/MyDrive/Colab_Notebooks/ML_&_AI/Pratice/NN/VK recomd/data/user_movie_raw.csv')\n",
        "user_movie_raw.drop(columns='Unnamed: 0', inplace=True)\n",
        "user_movie_raw.head()"
      ],
      "metadata": {
        "colab": {
          "base_uri": "https://localhost:8080/",
          "height": 206
        },
        "id": "HYSFigAJB7R3",
        "outputId": "96eb7cd6-ea45-4910-a0be-24c80f590765"
      },
      "execution_count": 4,
      "outputs": [
        {
          "output_type": "execute_result",
          "data": {
            "text/plain": [
              "   userId  movieId  rating\n",
              "0       4        1     4.0\n",
              "1       4        2     4.0\n",
              "2       4        5     2.0\n",
              "3       4        6     4.5\n",
              "4       4       10     4.0"
            ],
            "text/html": [
              "\n",
              "  <div id=\"df-441ad30a-b5ab-42d8-abe4-7b8e3b62b28a\">\n",
              "    <div class=\"colab-df-container\">\n",
              "      <div>\n",
              "<style scoped>\n",
              "    .dataframe tbody tr th:only-of-type {\n",
              "        vertical-align: middle;\n",
              "    }\n",
              "\n",
              "    .dataframe tbody tr th {\n",
              "        vertical-align: top;\n",
              "    }\n",
              "\n",
              "    .dataframe thead th {\n",
              "        text-align: right;\n",
              "    }\n",
              "</style>\n",
              "<table border=\"1\" class=\"dataframe\">\n",
              "  <thead>\n",
              "    <tr style=\"text-align: right;\">\n",
              "      <th></th>\n",
              "      <th>userId</th>\n",
              "      <th>movieId</th>\n",
              "      <th>rating</th>\n",
              "    </tr>\n",
              "  </thead>\n",
              "  <tbody>\n",
              "    <tr>\n",
              "      <th>0</th>\n",
              "      <td>4</td>\n",
              "      <td>1</td>\n",
              "      <td>4.0</td>\n",
              "    </tr>\n",
              "    <tr>\n",
              "      <th>1</th>\n",
              "      <td>4</td>\n",
              "      <td>2</td>\n",
              "      <td>4.0</td>\n",
              "    </tr>\n",
              "    <tr>\n",
              "      <th>2</th>\n",
              "      <td>4</td>\n",
              "      <td>5</td>\n",
              "      <td>2.0</td>\n",
              "    </tr>\n",
              "    <tr>\n",
              "      <th>3</th>\n",
              "      <td>4</td>\n",
              "      <td>6</td>\n",
              "      <td>4.5</td>\n",
              "    </tr>\n",
              "    <tr>\n",
              "      <th>4</th>\n",
              "      <td>4</td>\n",
              "      <td>10</td>\n",
              "      <td>4.0</td>\n",
              "    </tr>\n",
              "  </tbody>\n",
              "</table>\n",
              "</div>\n",
              "      <button class=\"colab-df-convert\" onclick=\"convertToInteractive('df-441ad30a-b5ab-42d8-abe4-7b8e3b62b28a')\"\n",
              "              title=\"Convert this dataframe to an interactive table.\"\n",
              "              style=\"display:none;\">\n",
              "        \n",
              "  <svg xmlns=\"http://www.w3.org/2000/svg\" height=\"24px\"viewBox=\"0 0 24 24\"\n",
              "       width=\"24px\">\n",
              "    <path d=\"M0 0h24v24H0V0z\" fill=\"none\"/>\n",
              "    <path d=\"M18.56 5.44l.94 2.06.94-2.06 2.06-.94-2.06-.94-.94-2.06-.94 2.06-2.06.94zm-11 1L8.5 8.5l.94-2.06 2.06-.94-2.06-.94L8.5 2.5l-.94 2.06-2.06.94zm10 10l.94 2.06.94-2.06 2.06-.94-2.06-.94-.94-2.06-.94 2.06-2.06.94z\"/><path d=\"M17.41 7.96l-1.37-1.37c-.4-.4-.92-.59-1.43-.59-.52 0-1.04.2-1.43.59L10.3 9.45l-7.72 7.72c-.78.78-.78 2.05 0 2.83L4 21.41c.39.39.9.59 1.41.59.51 0 1.02-.2 1.41-.59l7.78-7.78 2.81-2.81c.8-.78.8-2.07 0-2.86zM5.41 20L4 18.59l7.72-7.72 1.47 1.35L5.41 20z\"/>\n",
              "  </svg>\n",
              "      </button>\n",
              "      \n",
              "  <style>\n",
              "    .colab-df-container {\n",
              "      display:flex;\n",
              "      flex-wrap:wrap;\n",
              "      gap: 12px;\n",
              "    }\n",
              "\n",
              "    .colab-df-convert {\n",
              "      background-color: #E8F0FE;\n",
              "      border: none;\n",
              "      border-radius: 50%;\n",
              "      cursor: pointer;\n",
              "      display: none;\n",
              "      fill: #1967D2;\n",
              "      height: 32px;\n",
              "      padding: 0 0 0 0;\n",
              "      width: 32px;\n",
              "    }\n",
              "\n",
              "    .colab-df-convert:hover {\n",
              "      background-color: #E2EBFA;\n",
              "      box-shadow: 0px 1px 2px rgba(60, 64, 67, 0.3), 0px 1px 3px 1px rgba(60, 64, 67, 0.15);\n",
              "      fill: #174EA6;\n",
              "    }\n",
              "\n",
              "    [theme=dark] .colab-df-convert {\n",
              "      background-color: #3B4455;\n",
              "      fill: #D2E3FC;\n",
              "    }\n",
              "\n",
              "    [theme=dark] .colab-df-convert:hover {\n",
              "      background-color: #434B5C;\n",
              "      box-shadow: 0px 1px 3px 1px rgba(0, 0, 0, 0.15);\n",
              "      filter: drop-shadow(0px 1px 2px rgba(0, 0, 0, 0.3));\n",
              "      fill: #FFFFFF;\n",
              "    }\n",
              "  </style>\n",
              "\n",
              "      <script>\n",
              "        const buttonEl =\n",
              "          document.querySelector('#df-441ad30a-b5ab-42d8-abe4-7b8e3b62b28a button.colab-df-convert');\n",
              "        buttonEl.style.display =\n",
              "          google.colab.kernel.accessAllowed ? 'block' : 'none';\n",
              "\n",
              "        async function convertToInteractive(key) {\n",
              "          const element = document.querySelector('#df-441ad30a-b5ab-42d8-abe4-7b8e3b62b28a');\n",
              "          const dataTable =\n",
              "            await google.colab.kernel.invokeFunction('convertToInteractive',\n",
              "                                                     [key], {});\n",
              "          if (!dataTable) return;\n",
              "\n",
              "          const docLinkHtml = 'Like what you see? Visit the ' +\n",
              "            '<a target=\"_blank\" href=https://colab.research.google.com/notebooks/data_table.ipynb>data table notebook</a>'\n",
              "            + ' to learn more about interactive tables.';\n",
              "          element.innerHTML = '';\n",
              "          dataTable['output_type'] = 'display_data';\n",
              "          await google.colab.output.renderOutput(dataTable, element);\n",
              "          const docLink = document.createElement('div');\n",
              "          docLink.innerHTML = docLinkHtml;\n",
              "          element.appendChild(docLink);\n",
              "        }\n",
              "      </script>\n",
              "    </div>\n",
              "  </div>\n",
              "  "
            ]
          },
          "metadata": {},
          "execution_count": 4
        }
      ]
    },
    {
      "cell_type": "code",
      "source": [
        "genome_scores = pd.read_csv('/content/drive/MyDrive/Colab_Notebooks/ML_&_AI/Pratice/NN/VK recomd/data/genome-scores.csv')\n",
        "genome_scores.head()"
      ],
      "metadata": {
        "id": "USoB9yCotd17",
        "colab": {
          "base_uri": "https://localhost:8080/",
          "height": 206
        },
        "outputId": "340a03cd-38b7-4bff-b8e3-2b07b58ebeb0"
      },
      "execution_count": 5,
      "outputs": [
        {
          "output_type": "execute_result",
          "data": {
            "text/plain": [
              "   movieId  tagId  relevance\n",
              "0        1      1    0.02900\n",
              "1        1      2    0.02375\n",
              "2        1      3    0.05425\n",
              "3        1      4    0.06875\n",
              "4        1      5    0.16000"
            ],
            "text/html": [
              "\n",
              "  <div id=\"df-248eb746-b2e5-4f26-b962-aa42f245117f\">\n",
              "    <div class=\"colab-df-container\">\n",
              "      <div>\n",
              "<style scoped>\n",
              "    .dataframe tbody tr th:only-of-type {\n",
              "        vertical-align: middle;\n",
              "    }\n",
              "\n",
              "    .dataframe tbody tr th {\n",
              "        vertical-align: top;\n",
              "    }\n",
              "\n",
              "    .dataframe thead th {\n",
              "        text-align: right;\n",
              "    }\n",
              "</style>\n",
              "<table border=\"1\" class=\"dataframe\">\n",
              "  <thead>\n",
              "    <tr style=\"text-align: right;\">\n",
              "      <th></th>\n",
              "      <th>movieId</th>\n",
              "      <th>tagId</th>\n",
              "      <th>relevance</th>\n",
              "    </tr>\n",
              "  </thead>\n",
              "  <tbody>\n",
              "    <tr>\n",
              "      <th>0</th>\n",
              "      <td>1</td>\n",
              "      <td>1</td>\n",
              "      <td>0.02900</td>\n",
              "    </tr>\n",
              "    <tr>\n",
              "      <th>1</th>\n",
              "      <td>1</td>\n",
              "      <td>2</td>\n",
              "      <td>0.02375</td>\n",
              "    </tr>\n",
              "    <tr>\n",
              "      <th>2</th>\n",
              "      <td>1</td>\n",
              "      <td>3</td>\n",
              "      <td>0.05425</td>\n",
              "    </tr>\n",
              "    <tr>\n",
              "      <th>3</th>\n",
              "      <td>1</td>\n",
              "      <td>4</td>\n",
              "      <td>0.06875</td>\n",
              "    </tr>\n",
              "    <tr>\n",
              "      <th>4</th>\n",
              "      <td>1</td>\n",
              "      <td>5</td>\n",
              "      <td>0.16000</td>\n",
              "    </tr>\n",
              "  </tbody>\n",
              "</table>\n",
              "</div>\n",
              "      <button class=\"colab-df-convert\" onclick=\"convertToInteractive('df-248eb746-b2e5-4f26-b962-aa42f245117f')\"\n",
              "              title=\"Convert this dataframe to an interactive table.\"\n",
              "              style=\"display:none;\">\n",
              "        \n",
              "  <svg xmlns=\"http://www.w3.org/2000/svg\" height=\"24px\"viewBox=\"0 0 24 24\"\n",
              "       width=\"24px\">\n",
              "    <path d=\"M0 0h24v24H0V0z\" fill=\"none\"/>\n",
              "    <path d=\"M18.56 5.44l.94 2.06.94-2.06 2.06-.94-2.06-.94-.94-2.06-.94 2.06-2.06.94zm-11 1L8.5 8.5l.94-2.06 2.06-.94-2.06-.94L8.5 2.5l-.94 2.06-2.06.94zm10 10l.94 2.06.94-2.06 2.06-.94-2.06-.94-.94-2.06-.94 2.06-2.06.94z\"/><path d=\"M17.41 7.96l-1.37-1.37c-.4-.4-.92-.59-1.43-.59-.52 0-1.04.2-1.43.59L10.3 9.45l-7.72 7.72c-.78.78-.78 2.05 0 2.83L4 21.41c.39.39.9.59 1.41.59.51 0 1.02-.2 1.41-.59l7.78-7.78 2.81-2.81c.8-.78.8-2.07 0-2.86zM5.41 20L4 18.59l7.72-7.72 1.47 1.35L5.41 20z\"/>\n",
              "  </svg>\n",
              "      </button>\n",
              "      \n",
              "  <style>\n",
              "    .colab-df-container {\n",
              "      display:flex;\n",
              "      flex-wrap:wrap;\n",
              "      gap: 12px;\n",
              "    }\n",
              "\n",
              "    .colab-df-convert {\n",
              "      background-color: #E8F0FE;\n",
              "      border: none;\n",
              "      border-radius: 50%;\n",
              "      cursor: pointer;\n",
              "      display: none;\n",
              "      fill: #1967D2;\n",
              "      height: 32px;\n",
              "      padding: 0 0 0 0;\n",
              "      width: 32px;\n",
              "    }\n",
              "\n",
              "    .colab-df-convert:hover {\n",
              "      background-color: #E2EBFA;\n",
              "      box-shadow: 0px 1px 2px rgba(60, 64, 67, 0.3), 0px 1px 3px 1px rgba(60, 64, 67, 0.15);\n",
              "      fill: #174EA6;\n",
              "    }\n",
              "\n",
              "    [theme=dark] .colab-df-convert {\n",
              "      background-color: #3B4455;\n",
              "      fill: #D2E3FC;\n",
              "    }\n",
              "\n",
              "    [theme=dark] .colab-df-convert:hover {\n",
              "      background-color: #434B5C;\n",
              "      box-shadow: 0px 1px 3px 1px rgba(0, 0, 0, 0.15);\n",
              "      filter: drop-shadow(0px 1px 2px rgba(0, 0, 0, 0.3));\n",
              "      fill: #FFFFFF;\n",
              "    }\n",
              "  </style>\n",
              "\n",
              "      <script>\n",
              "        const buttonEl =\n",
              "          document.querySelector('#df-248eb746-b2e5-4f26-b962-aa42f245117f button.colab-df-convert');\n",
              "        buttonEl.style.display =\n",
              "          google.colab.kernel.accessAllowed ? 'block' : 'none';\n",
              "\n",
              "        async function convertToInteractive(key) {\n",
              "          const element = document.querySelector('#df-248eb746-b2e5-4f26-b962-aa42f245117f');\n",
              "          const dataTable =\n",
              "            await google.colab.kernel.invokeFunction('convertToInteractive',\n",
              "                                                     [key], {});\n",
              "          if (!dataTable) return;\n",
              "\n",
              "          const docLinkHtml = 'Like what you see? Visit the ' +\n",
              "            '<a target=\"_blank\" href=https://colab.research.google.com/notebooks/data_table.ipynb>data table notebook</a>'\n",
              "            + ' to learn more about interactive tables.';\n",
              "          element.innerHTML = '';\n",
              "          dataTable['output_type'] = 'display_data';\n",
              "          await google.colab.output.renderOutput(dataTable, element);\n",
              "          const docLink = document.createElement('div');\n",
              "          docLink.innerHTML = docLinkHtml;\n",
              "          element.appendChild(docLink);\n",
              "        }\n",
              "      </script>\n",
              "    </div>\n",
              "  </div>\n",
              "  "
            ]
          },
          "metadata": {},
          "execution_count": 5
        }
      ]
    },
    {
      "cell_type": "code",
      "source": [
        "genome_tags = pd.read_csv('/content/drive/MyDrive/Colab_Notebooks/ML_&_AI/Pratice/NN/VK recomd/data/genome-tags.csv')\n",
        "# links = pd.read_csv('/content/drive/MyDrive/Colab_Notebooks/ML_&_AI/Pratice/NN/VK recomd/data/links.csv') # вряд ли буду использовать\n",
        "movies = pd.read_csv('/content/drive/MyDrive/Colab_Notebooks/ML_&_AI/Pratice/NN/VK recomd/data/movies.csv')\n",
        "tags = pd.read_csv('/content/drive/MyDrive/Colab_Notebooks/ML_&_AI/Pratice/NN/VK recomd/data/tags.csv')"
      ],
      "metadata": {
        "id": "nH9SbtECtbPk"
      },
      "execution_count": 6,
      "outputs": []
    },
    {
      "cell_type": "code",
      "source": [
        "frames_and_names = { \"user_movie_raw\": user_movie_raw, 'user_movie': user_movie, \n",
        "                     \"genome_scores\": genome_scores, \"genome_tags\": genome_tags, \n",
        "                     \"movies\": movies, \"tags\": tags}\n",
        "\n",
        "for name, data in frames_and_names.items():\n",
        "    print(f\"Файл {name} имеет размер {data.shape}\")\n",
        "    print(f\"Коллонки: {list(data.columns)} \\n\")"
      ],
      "metadata": {
        "colab": {
          "base_uri": "https://localhost:8080/"
        },
        "id": "aNEsS6s2C7_o",
        "outputId": "c056671e-eab3-4d9a-9f32-9e92f5cc05a9"
      },
      "execution_count": 7,
      "outputs": [
        {
          "output_type": "stream",
          "name": "stdout",
          "text": [
            "Файл user_movie_raw имеет размер (25499629, 3)\n",
            "Коллонки: ['userId', 'movieId', 'rating'] \n",
            "\n",
            "Файл user_movie имеет размер (30029, 13628)\n",
            "Коллонки: ['userId', '1', '2', '5', '6', '10', '11', '16', '19', '20', '23', '25', '31', '32', '34', '36', '39', '41', '44', '45', '47', '50', '61', '62', '65', '66', '70', '76', '85', '95', '100', '104', '110', '141', '145', '150', '151', '153', '158', '160', '161', '163', '165', '169', '170', '172', '173', '175', '180', '181', '185', '186', '193', '198', '204', '216', '223', '231', '253', '255', '256', '260', '267', '288', '292', '293', '296', '315', '316', '317', '318', '327', '329', '332', '333', '338', '339', '344', '349', '350', '353', '356', '361', '364', '367', '368', '370', '377', '379', '380', '382', '405', '410', '420', '423', '432', '434', '435', '440', '442', '454', '455', '457', '466', '471', '474', '480', '481', '485', '494', '500', '514', '517', '520', '524', '527', '539', '541', '546', '552', '586', '587', '588', '589', '590', '592', '593', '595', '597', '608', '610', '647', '648', '653', '724', '733', '736', '741', '762', '778', '780', '784', '785', '786', '788', '798', '805', '818', '832', '836', '852', '858', '875', '879', '919', '924', '941', '1015', '1020', '1036', '1037', '1047', '1049', '1059', '1079', '1080', '1088', '1089', '1090', '1091', '1092', '1094', '1100', '1101', '1126', '1127', '1136', '1196', '1198', '1200', '1203', '1207', '1208', '1210', '1214', '1215', '1220', '1222', '1240', '1242', '1259', '1265', '1270', '1274', '1275', '1291', '1320', '1339', '1356', '1370', '1372', '1374', '1375', '1376', '1377', '1385', '1391', '1393', '1396', '1405', '1407', '1425', '1445', '1466', '1476', '1485', '1500', '1515', '1517', '1518', '1527', '1544', '1552', '1562', '1580', '1584', '1586', '1590', '1591', '1592', '1597', '1606', '1608', '1610', '1615', '1616', '1617', '1625', '1641', '1642', '1645', '1647', '1653', '1665', '1673', '1676', '1682', '1687', '1690', '1704', '1721', '1722', '1732', '1747', '1748', '1760', '1769', '1779', '1784', '1792', '1805', '1810', '1831', '1876', '1882', '1884', '1892', '1909', '1917', '1918', '1921', '1923', '1961', '1967', '1968', '2000', '2001', '2002', '2003', '2004', '2006', '2011', '2012', '2021', '2028', '2036', '2046', '2053', '2054', '2058', '2081', '2082', '2094', '2100', '2105', '2115', '2126', '2133', '2140', '2150', '2152', '2153', '2161', '2167', '2174', '2193', '2194', '2231', '2268', '2273', '2278', '2291', '2294', '2296', '2302', '2311', '2334', '2335', '2353', '2355', '2378', '2379', '2381', '2391', '2393', '2405', '2406', '2407', '2424', '2433', '2450', '2468', '2470', '2471', '2478', '2490', '2501', '2502', '2505', '2539', '2541', '2542', '2549', '2571', '2600', '2605', '2616', '2617', '2628', '2640', '2641', '2672', '2683', '2688', '2700', '2701', '2706', '2710', '2712', '2716', '2717', '2718', '2720', '2722', '2723', '2762', '2763', '2764', '2770', '2791', '2792', '2794', '2797', '2803', '2805', '2808', '2816', '2840', '2858', '2860', '2881', '2889', '2890', '2916', '2918', '2947', '2948', '2949', '2953', '2959', '2985', '2986', '2987', '2989', '2990', '2991', '2993', '2997', '3000', '3020', '3033', '3039', '3052', '3063', '3082', '3087', '3107', '3113', '3114', '3146', '3156', '3173', '3190', '3208', '3247', '3248', '3249', '3250', '3252', '3253', '3254', '3255', '3256', '3263', '3264', '3268', '3275', '3298', '3300', '3301', '3316', '3354', '3388', '3448', '3452', '3479', '3481', '3489', '3513', '3527', '3552', '3555', '3578', '3593', '3608', '3617', '3623', '3635', '3638', '3639', '3697', '3698', '3702', '3703', '3704', '3717', '3740', '3745', '3751', '3753', '3755', '3763', '3793', '3809', '3825', '3826', '3827', '3835', '3841', '3868', '3869', '3879', '3889', '3916', '3948', '3952', '3977', '3980', '3981', '3984', '3990', '3994', '3996', '3997', '4005', '4011', '4015', '4018', '4019', '4022', '4025', '4034', '4052', '4084', '4085', '4104', '4121', '4148', '4167', '4207', '4214', '4223', '4226', '4232', '4238', '4239', '4246', '4262', '4270', '4306', '4308', '4321', '4343', '4344', '4351', '4367', '4396', '4446', '4448', '4483', '4487', '4544', '4545', '4571', '4621', '4638', '4643', '4678', '4679', '4701', '4718', '4719', '4721', '4734', '4776', '4844', '4874', '4878', '4886', '4889', '4890', '4896', '4901', '4958', '4963', '4975', '4979', '4980', '4992', '4993', '4995', '5010', '5049', '5064', '5069', '5107', '5110', '5152', '5218', '5219', '5254', '5283', '5299', '5349', '5378', '5388', '5400', '5418', '5438', '5445', '5459', '5463', '5464', '5481', '5502', '5504', '5507', '5541', '5563', '5665', '5679', '5782', '5816', '5872', '5876', '5882', '5903', '5944', '5945', '5952', '5954', '5956', '5959', '5989', '5999', '6003', '6016', '6059', '6104', '6188', '6213', '6264', '6281', '6283', '6294', '6322', '6333', '6365', '6373', '6377', '6378', '6383', '6534', '6535', '6537', '6539', '6541', '6548', '6550', '6564', '6586', '6595', '6659', '6679', '6708', '6754', '6764', '6794', '6807', '6857', '6874', '6879', '6934', '6947', '6966', '6979', '7004', '7102', '7143', '7147', '7153', '7346', '7348', '7361', '7369', '7373', '7438', '7444', '7454', '7458', '7481', '7569', '7573', '7649', '7704', '7810', '7811', '7812', '7841', '7842', '8132', '8169', '8360', '8361', '8371', '8376', '8464', '8528', '8622', '8633', '8636', '8641', '8644', '8665', '8781', '8798', '8807', '8810', '8861', '8874', '8912', '8914', '8919', '8961', '8972', '8982', '8985', '9005', '26819', '26870', '27773', '27846', '27905', '31184', '31696', '31804', '31878', '32302', '32587', '33004', '33437', '33493', '33646', '33679', '33794', '33834', '34162', '34319', '36529', '37380', '37733', '38061', '39231', '39435', '40278', '40614', '42721', '42738', '43558', '43679', '43708', '43936', '44191', '44193', '44199', '44399', '44759', '48774', '51662', '51935', '52950', '53000', '53972', '53996', '54286', '55765', '56367', '728', '1147', '1186', '1193', '1213', '2060', '2329', '2485', '3178', '3949', '4973', '5137', '5528', '5995', '8784', '8873', '8949', '8950', '27831', '30749', '30820', '31410', '44195', '44204', '46578', '46976', '48394', '48516', '48696', '48780', '49272', '49530', '50068', '51255', '52952', '54503', '54997', '55118', '55247', '55290', '55820', '56782', '21', '111', '208', '224', '227', '261', '273', '307', '337', '515', '555', '666', '3', '7', '12', '14', '52', '135', '140', '605', '637', '743', '765', '869', '1057', '1113', '1317', '1363', '1390', '1409', '1457', '43', '162', '176', '246', '299', '348', '501', '534', '551', '594', '661', '745', '750', '837', '902', '903', '904', '908', '910', '912', '913', '916', '923', '946', '994', '1029', '1077', '1093', '1095', '1131', '1148', '1188', '1199', '1202', '1206', '1219', '1223', '1225', '1230', '1234', '1244', '1247', '1249', '1255', '1258', '1282', '1284', '1288', '1307', '1566', '1635', '1639', '1688', '1907', '1952', '1953', '1957', '2010', '2078', '2080', '2087', '2102', '2116', '2138', '2186', '2300', '2324', '2360', '2394', '2396', '2687', '2761', '2973', '3022', '3067', '3072', '3077', '3081', '3083', '3203', '3246', '3260', '3265', '1111', '1281', '3034', '3147', '5618', '6863', '7254', '7669', '8645', '33166', '35836', '40339', '40629', '45517', '47099', '50872', '51086', '53125', '55721', '58559', '59315', '59784', '60069', '63082', '63859', '64969', '68157', '68954', '71033', '71899', '72356', '72641', '73017', '76093', '78105', '78499', '79091', '79132', '80463', '81591', '81845', '81847', '83803', '84152', '85342', '85736', '86298', '86504', '86880', '86882', '86911', '87485', '87520', '87869', '87876', '88405', '89745', '90647', '90746', '91126', '91529', '92259', '93831', '94777', '95167', '95201', '95311', '95313', '95377', '95441', '95510', '95543', '95654', '95720', '95858', '97304', '97913', '97921', '97938', '98491', '99114', '101142', '102686', '102716', '102903', '103042', '103141', '103249', '103335', '103384', '105844', '106487', '106696', '106782', '108932', '108983', '109374', '109487', '112175', '112552', '112852', '114935', '115617', '116797', '116897', '117529', '122882', '122904', '134853', '138702', '139385', '142488', '152081', '160718', '166024', '177765', '365', '673', '1194', '1197', '1221', '1267', '2023', '2431', '3006', '3267', '3556', '3723', '3993', '5009', '5991', '6773', '6870', '7371', '8368', '34405', '40583', '40815', '41566', '44555', '44665', '48738', '51540', '54001', '59369', '64620', '67255', '69844', '70286', '72226', '73321', '74458', '75985', '76251', '78039', '79695', '81834', '85414', '85510', '86190', '86345', '86377', '88125', '89804', '90600', '90866', '91485', '91500', '91535', '91542', '91630', '92535', '93840', '96079', '96610', '98809', '98961', '99112', '100745', '17', '203', '207', '215', '222', '225', '232', '235', '237', '249', '252', '265', '272', '282', '294', '300', '303', '417', '468', '477', '22', '112', '196', '230', '234', '342', '345', '357', '497', '508', '540', '543', '585', '9', '15', '48', '64', '71', '78', '79', '81', '86', '89', '132', '168', '188', '195', '200', '209', '210', '213', '229', '236', '251', '257', '259', '276', '286', '289', '305', '347', '351', '360', '362', '373', '374', '376', '383', '384', '393', '416', '422', '428', '431', '436', '451', '453', '459', '464', '482', '487', '489', '490', '502', '504', '507', '519', '521', '532', '533', '535', '544', '545', '547', '548', '553', '561', '603', '618', '628', '640', '667', '691', '692', '694', '704', '707', '708', '726', '737', '748', '761', '782', '839', '849', '854', '861', '886', '990', '996', '1004', '1064', '1081', '1083', '1084', '1129', '1135', '1161', '1170', '1181', '1201', '1209', '1218', '1227', '1245', '1251', '1252', '1266', '1321', '1347', '1359', '1382', '2019', '1120', '1268', '1297', '1371', '1373', '2005', '2043', '2134', '2143', '2297', '2420', '2455', '2521', '2581', '2735', '3175', '3450', '3671', '3686', '3699', '3893', '4467', '7743', '8591', '45447', '47610', '48043', '48385', '49278', '54259', '58347', '194', '412', '493', '529', '663', '1097', '1250', '1257', '1272', '1285', '1302', '1304', '2371', '2529', '2677', '2804', '3098', '3129', '3210', '3225', '3266', '3360', '3396', '3471', '3770', '3852', '1246', '6711', '6942', '7451', '8533', '40819', '45720', '69757', '72998', '80549', '84954', '86833', '88810', '94959', '96821', '111759', '111921', '112556', '115713', '122886', '134130', '140174', '148626', '152017', '880', '948', '1333', '1367', '2427', '2826', '3654', '3785', '3991', '5026', '8983', '48304', '58293', '65514', '73759', '74789', '82095', '85131', '94018', '953', '1130', '1261', '1345', '1387', '1777', '1982', '1994', '1997', '2118', '2160', '2288', '2395', '3160', '3499', '3911', '4027', '4105', '4641', '4848', '4865', '5065', '5673', '5902', '6502', '6620', '7293', '7387', '8910', '30810', '31658', '34048', '34437', '61132', '61323', '71535', '79702', '84772', '88118', '88129', '103341', '115149', '115569', '122912', '140267', '143657', '175303', '175569', '177593', '1276', '2321', '2583', '2788', '3174', '3176', '3386', '4082', '247', '407', '720', '899', '900', '914', '1028', '1296', '1797', '1949', '2137', '2263', '2352', '2550', '2692', '2699', '2856', '2915', '3044', '3273', '3408', '3476', '3483', '3512', '3526', '3534', '3535', '3536', '3594', '3786', '3863', '3886', '3897', '3956', '3967', '3968', '3973', '4014', '4023', '4062', '4063', '4066', '4067', '4069', '4090', '4091', '4103', '4109', '4124', '4125', '4127', '4128', '4129', '4130', '4132', '4133', '1204', '1408', '1556', '1573', '1681', '1707', '2582', '3257', '3438', '4815', '5039', '5055', '5612', '7007', '441', '596', '783', '909', '1035', '1042', '1060', '1073', '1235', '1289', '1394', '2064', '2354', '2580', '2686', '2694', '2859', '3159', '3363', '3421', '3468', '3504', '4054', '4370', '4720', '5325', '5377', '5669', '5684', '6001', '6218', '7247', '7263', '7484', '8128', '8957', '8984', '27879', '30793', '39183', '39446', '42723', '45722', '46970', '47274', '48877', '52973', '53123', '53894', '56805', '58303', '60766', '61024', '61236', '63113', '63131', '64614', '64839', '67734', '68237', '68358', '68901', '69122', '69481', '69640', '72011', '77455', '81932', '82459', '599', '915', '928', '930', '933', '950', '963', '965', '969', '1011', '1030', '1183', '1212', '1224', '1228', '1231', '1248', '1254', '1262', '1278', '1293', '1438', '1619', '1674', '1711', '1912', '1939', '1942', '1944', '1947', '1956', '2018', '2067', '2144', '2146', '2289', '2336', '2403', '2404', '2671', '2807', '2871', '2919', '2968', '3062', '3093', '3157', '3196', '3198', '3296', '3334', '3362', '3384', '3418', '3508', '3519', '3543', '3624', '3633', '3681', '3682', '3735', '3741', '3769', '3836', '3871', '3947', '4327', '4339', '4349', '4369', '4397', '4727', '4754', '4824', '4826', '4830', '4855', '4912', '4947', '5490', '5493', '5747', '5785', '5791', '5796', '5971', '6013', '6303', '6428', '6503', '6533', '6639', '6724', '6785', '7084', '7419', '157', '1298', '1422', '1499', '1717', '1911', '1920', '2340', '2409', '2411', '2412', '2423', '4447', '4821', '4887', '5014', '5015', '5060', '5151', '5313', '5620', '5881', '7325', '7379', '277', '1380', '2657', '4041', '5309', '6786', '6889', '7090', '97', '99', '123', '154', '199', '206', '306', '326', '334', '475', '556', '665', '670', '769', '898', '922', '1034', '1041', '1104', '1172', '1175', '1179', '1185', '1191', '1211', '1263', '1280', '1310', '1344', '1395', '1449', '1648', '1649', '1663', '1846', '1856', '1897', '1914', '1938', '1945', '1965', '2070', '2076', '2132', '2145', '2243', '2244', '2245', '2248', '2337', '2369', '2599', '2697', '2926', '2943', '3019', '6380', '34153', '2232', '6953', '52328', '56145', '57669', '63072', '65642', '74228', '77307', '78349', '88744', '89492', '96811', '96829', '99917', '101525', '101864', '104374', '104841', '104879', '104944', '106100', '106920', '107406', '108729', '112623', '112804', '113741', '115680', '117881', '133771', '139644', '156387', '158783', '161582', '164179', '168252', '174053', '174055', '176371', '176423', '177615', '187595', '24', '105', '248', '266', '313', '450', '609', '635', '678', '802', '838', '920', '926', '942', '943', '954', '964', '968', '976', '991', '1007', '1010', '1013', '1016', '1017', '1019', '1021', '1022', '1027', '1033', '1085', '1086', '1099', '1124', '1226', '1253', '1269', '1283', '1287', '1301', '1327', '1334', '1350', '1358', '1378', '1429', '1459', '1479', '1488', '1587', '1620', '1702', '1726', '1785', '1835', '1927', '1943', '1946', '1950', '1951', '1954', '1960', '1964', '2009', '2013', '2015', '2016', '2050', '2096', '2109', '2112', '2119', '2122', '2136', '2142', '2176', '2206', '2346', '2347', '2363', '2370', '2373', '2374', '2375', '2398', '2399', '2401', '2402', '2421', '2422', '2436', '2453', '2454', '2456', '2467', '2469', '2472', '2473', '2476', '2513', '2517', '2518', '2520', '2524', '2528', '2530', '2533', '2535', '2565', '2857', '1589', '2746', '3510', '5267', '5574', '6263', '7439', '8130', '26614', '31685', '33660', '34150', '34534', '37853', '49314', '50794', '51037', '51080', '52245', '53129', '55995', '56156', '56174', '58297', '58627', '58803', '60040', '60072', '74', '107', '656', '711', '801', '810', '830', '881', '1426', '58', '239', '419', '458', '888', '1023', '1025', '1032', '1061', '1082', '1410', '1431', '1750', '1955', '2085', '2089', '2090', '2092', '2093', '2099', '2139', '2141', '2170', '2572', '2642', '2643', '2866', '2872', '3054', '3194', '3213', '3387', '3428', '3430', '3439', '3506', '3615', '3649', '3701', '3715', '3730', '3738', '3759', '3978', '4002', '4006', '4016', '4102', '4275', '4292', '4366', '4398', '4492', '4493', '4494', '4526', '4564', '4565', '4566', '4567', '4696', '4915', '4916', '4941', '4994', '5040', '5066', '5146', '5159', '5341', '5444', '5540', '5693', '5765', '5898', '5992', '6316', '6436', '29', '60', '82', '88', '190', '262', '308', '355', '448', '483', '531', '616', '662', '703', '719', '1078', '1103', '1232', '1341', '1381', '1388', '1461', '1464', '1513', '1693', '1889', '1969', '2052', '2123', '2124', '2125', '2130', '2301', '2313', '2320', '2322', '2333', '2351', '2387', '2459', '2551', '2596', '2664', '2713', '2730', '2731', '2747', '2795', '2810', '2908', '2966', '3008', '3074', '3089', '3168', '3186', '3201', '3224', '3274', '3285', '3339', '3424', '3435', '3653', '3676', '3812', '3882', '3910', '3917', '3918', '3979', '3989', '4010', '4255', '4310', '4361', '4390', '4407', '4519', '4541', '4552', '4744', '4792', '4816', '4835', '4873', '4881', '4954', '5025', '5072', '5103', '5266', '5268', '5291', '5294', '5364', '5449', '5452', '5611', '5617', '5630', '5650', '5810', '5833', '6220', '6223', '6242', '6250', '6645', '6797', '6957', '7022', '7024', '7064', '7123', '7199', '7225', '7445', '8042', '8482', '8484', '8607', '8690', '8783', '25782', '26073', '26258', '26325', '26403', '26528', '26702', '27002', '27156', '27266', '27441', '27482', '27660', '27731', '27904', '30816', '32213', '32554', '32657', '33154', '33672', '34323', '35347', '37386', '37729', '38097', '39381', '41571', '41997', '42351', '42718', '43444', '43677', '43928', '44041', '44597', '44694', '44974', '45208', '45728', '46723', '47629', '48560', '50594', '51091', '52885', '53024', '54426', '55280', '55444', '55872', '56003', '56339', '56587', '56757', '57637', '57792', '57980', '59387', '59684', '60037', '61136', '61240', '62336', '63062', '63876', '64034', '66934', '67665', '68519', '68945', '69134', '69784', '70533', '70728', '71057', '71156', '71205', '71282', '71379', '72731', '73608', '74416', '77561', '77798', '77854', '78836', '80831', '80917', '81417', '82242', '84116', '84187', '84880', '86320', '86355', '87306', '89780', '90374', '91658', '94558', '96832', '103574', '104074', '104243', '105248', '108727', '108981', '1735', '2843', '3148', '122', '174', '491', '516', '542', '671', '42', '191', '328', '415', '537', '538', '112183', '127390', '1416', '1729', '2384', '2724', '3005', '116823', '122920', '2574', '3086', '4033', '4040', '4224', '4333', '4703', '1031', '1672', '3100', '3328', '4008', '1176', '1237', '1292', '1295', '2022', '3415', '3444', '3503', '3707', '3742', '5147', '5500', '5690', '6286', '6350', '6987', '7089', '7099', '7327', '8253', '8620', '25771', '26150', '26578', '26587', '26662', '26776', '27186', '27728', '34542', '37830', '40586', '45499', '46530', '47894', '48082', '49932', '52806', '53519', '54272', '54995', '55069', '55442', '55908', '56251', '56286', '57368', '57504', '57640', '59615', '60161', '60684', '60979', '62376', '64497', '64957', '65261', '66097', '66297', '66317', '67295', '69526', '69746', '72554', '413', '3088', '27611', '65133', '81229', '83134', '86332', '86644', '87232', '90890', '94864', '96588', '96737', '97923', '98203', '100108', '102125', '102445', '103655', '103772', '103810', '106002', '106072', '108928', '110102', '110591', '111362', '111617', '111743', '114246', '114662', '114707', '114795', '116977', '119145', '120466', '120799', '122892', '122900', '125916', '128838', '130634', '131013', '132796', '135137', '135518', '136020', '140110', '146656', '562', '680', '714', '949', '951', '1273', '1454', '1701', '1916', '1963', '2065', '2285', '2290', '2732', '2750', '2912', '2940', '2970', '3030', '3071', '3090', '3152', '3200', '3521', '3683', '3706', '3813', '3814', '3925', '4392', '4393', '4408', '4553', '4628', '4658', '4888', '4914', '5059', '5339', '5515', '5577', '5746', '6023', '6100', '6159', '6268', '6440', '6873', '6978', '6993', '7044', '7063', '7071', '7151', '7323', '7367', '7566', '7587', '7934', '7982', '8638', '8981', '26225', '26326', '26712', '30707', '30848', '32291', '32296', '33669', '33880', '34072', '34271', '36537', '37857', '40826', '41285', '42632', '43560', '44709', '45666', '45880', '45928', '46335', '46967', '47423', '47721', '47999', '49347', '50740', '50742', '50912', '51077', '51455', '51709', '52281', '52767', '53161', '54648', '55269', '55577', '55830', '57147', '59022', '60950', '61406', '62155', '62511', '69524', '69604', '71464', '80969', '87234', '89904', '90357', '91622', '93721', '96488', '96966', '100556', '100714', '102194', '102588', '102800', '103980', '105213', '106766', '106918', '110110', '110718', '111235', '111360', '112290', '112582', '113225', '117444', '117533', '127152', '127202', '127441', '140737', '140816', '37545', '53953', '60904', '90405', '102880', '113573', '122896', '122922', '122924', '128360', '135536', '135861', '136598', '141688', '143355', '159093', '159817', '162594', '162606', '164909', '166528', '166534', '166635', '168250', '173291', '173941', '3752', '3969', '3999', '4728', '177', '302', '372', '717', '766', '860', '911', '918', '934', '955', '1171', '1236', '1260', '1279', '1300', '1569', '1614', '1678', '1970', '1979', '2014', '2020', '2038', '2073', '2250', '2261', '2287', '2331', '2361', '2414', '2463', '2621', '2729', '2734', '2736', '2924', '3105', '3108', '3219', '3261', '3308', '3361', '3397', '3398', '3422', '3441', '3516', '3528', '3545', '3712', '3791', '3831', '3972', '4039', '4174', '4205', '4280', '4291', '4380', '4464', '4478', '4489', '4623', '4639', '4681', '4799', '4809', '4811', '5004', '5013', '5222', '5572', '5685', '6235', '6709', '6936', '2068', '2117', '2483', '2495', '2951', '3068', '3262', '3286', '3409', '3462', '3469', '3571', '3616', '3646', '3677', '3744', '3798', '3821', '3955', '3975', '3986', '4007', '4158', '4254', '4299', '4340', '4388', '4735', '4876', '4898', '4899', '5001', '5008', '5046', '5047', '5093', '5120', '5127', '5128', '5171', '5319', '5323', '5478', '5480', '5530', '5621', '5784', '5878', '5900', '5942', '6014', '6058', '6063', '6155', '6156', '6157', '6197', '6212', '6287', '6297', '6323', '6338', '6484', '6565', '6593', '6615', '6617', '6650', '6686', '6695', '6763', '6787', '6790', '6796', '6869', '6888', '6958', '7150', '7156', '7161', '7163', '7173', '7234', '7265', '7300', '7347', '7360', '7362', '7376', '7396', '7448', '7459', '7560', '7938', '8154', '8157', '8228', '8370', '8477', '8485', '8491', '8531', '8581', '8800', '8830', '8865', '8870', '8948', '8966', '8970', '26246', '26701', '26729', '27410', '27478', '27706', '27808', '30812', '31221', '31420', '31502', '31698', '32017', '32596', '32840', '33158', '33162', '33164', '33499', '33836', '33893', '34334', '34520', '34530', '36517', '36527', '36708', '37741', '38038', '39292', '39715', '40723', '40851', '40946', '40966', '42422', '43396', '43832', '43836', '43917', '44397', '44788', '44972', '45081', '45501', '45672', '45726', '45950', '46972', '47200', '47810', '47997', '48412', '48593', '49396', '49649', '49822', '50189', '50442', '50806', '51412', '52462', '52579', '52722', '53121', '53322', '53464', '53956', '53974', '53993', '54004', '54881', '54999', '55167', '55232', '55276', '55282', '55805', '56336', '56620', '56775', '56788', '56921', '57528', '57951', '58047', '58156', '58315', '58376', '58806', '58998', '59014', '59016', '59018', '59258', '59709', '59725', '60074', '60291', '60514', '60609', '60756', '60760', '61248', '61348', '61350', '61465', '62394', '62434', '62437', '62956', '63033', '63433', '63992', '64030', '64197', '64499', '64575', '64993', '64997', '65126', '65188', '65802', '65982', '66320', '66808', '67197', '67408', '67799', '67867', '67923', '68205', '68791', '68793', '68959', '69069', '69436', '69644', '70159', '71131', '71135', '71211', '71252', '71450', '71838', '72171', '72405', '73023', '73929', '74452', '78266', '79008', '79057', '79224', '79592', '80185', '80906', '81156', '81782', '82143', '82202', '82461', '82852', '83132', '84374', '84601', '85020', '85312', '86142', '86347', '87430', '87529', '88140', '89753', '90249', '90717', '91974', '91976', '92475', '93805', '96606', '97752', '99764', '100498', '103075', '103253', '104069', '107653', '108945', '109673', '111364', '112138', '115210', '118244', '127098', '131724', '134849', '135567', '1178', '1271', '4978', '5932', '6971', '7013', '148280', '4', '8', '27', '38', '54', '93', '116', '119', '126', '146', '201', '212', '219', '238', '243', '244', '250', '258', '274', '310', '330', '343', '421', '575', '627', '631', '641', '688', '754', '72', '73', '80', '84', '314', '446', '621', '715', '753', '800', '862', '944', '971', '973', '1044', '1114', '1132', '1187', '1354', '1404', '1419', '1507', '1542', '1694', '1759', '1767', '1870', '1888', '1962', '2341', '2345', '2443', '2447', '2481', '2506', '2546', '2609', '2611', '2711', '2862', '2969', '2996', '3028', '3038', '3135', '3155', '3171', '3685', '3713', '3822', '3983', '3988', '4117', '4186', '4216', '4399', '4422', '4521', '4523', '4537', '4555', '4586', '4616', '3761', '3992', '4383', '4928', '5134', '5329', '5602', '5608', '6214', '6530', '7149', '7158', '7317', '7460', '8340', '8860', '8907', '8947', '8977', '27689', '27695', '27721', '27788', '27821', '27873', '30825', '30894', '31427', '32029', '34143', '36519', '37727', '38992', '40148', '40959', '43908', '45668', '47254', '48032', '48142', '48326', '48518', '49528', '49772', '50842', '53207', '53921', '54775', '55080', '55286', '56908', '58295', '59126', '59995', '62849', '64622', '67508', '67997', '68159', '71691', '72386', '72605', '72741', '73344', '74156', '74851', '1588', '2728', '3259', '3844', '5308', '7018', '8827', '78316', '79293', '80166', '80551', '81788', '509', '1233', '2238', '2239', '6215', '6552', '6762', '6791', '6884', '6918', '6932', '6986', '7023', '7745', '7762', '8011', '8270', '8507', '1343', '4823', '7318', '70206', '80846', '85788', '90345', '90430', '99470', '101739', '103688', '104457', '104908', '109848', '110286', '111384', '113252', '113780', '116397', '121231', '132146', '141420', '152077', '152372', '156726', '2944', '3101', '3355', '3566', '3799', '4247', '4713', '5629', '6024', '6305', '6609', '6768', '6952', '7040', '7137', '7162', '8366', '26398', '31150', '32031', '36401', '41569', '42728', '45028', '45382', '45431', '45442', '45730', '45732', '46850', '47950', '50923', '51698', '54190', '511', '876', '103', '280', '426', '512', '674', '1069', '1299', '1306', '1603', '1692', '1720', '1762', '1862', '1924', '2034', '2091', '2173', '2199', '2236', '2256', '2364', '2365', '2377', '2408', '69', '1894', '6464', '6518', '6523', '6559', '6680', '6812', '6827', '6849', '6898', '42734', '81564', '1633', '1680', '2359', '2587', '3189', '3324', '3564', '164', '287', '291', '319', '378', '387', '391', '463', '479', '550', '626', '731', '742', '799', '992', '1379', '1427', '1582', '1605', '1626', '1627', '1631', '1644', '1744', '1753', '1754', '1801', '1833', '1895', '2045', '2154', '2266', '2279', '2429', '2561', '2707', '2806', '2822', '2827', '2841', '2875', '2906', '3064', '3269', '3436', '3557', '3614', '92', '152', '710', '732', '804', '828', '829', '833', '842', '1357', '1411', '101', '156', '281', '1859', '2318', '2435', '2691', '3134', '3181', '3238', '3317', '3551', '3788', '4017', '4235', '4326', '4547', '5016', '6291', '6344', '6867', '6927', '7068', '7076', '7096', '7172', '7256', '7981', '8207', '8504', '8527', '26350', '27040', '27834', '33288', '36276', '38304', '38886', '49961', '52838', '52929', '55207', '56274', '56333', '58425', '66198', '66665', '67267', '68552', '69438', '69516', '71108', '72395', '73587', '74275', '74545', '74916', '77421', '77837', '78574', '81018', '81641', '82463', '82534', '85213', '85881', '86884', '87304', '87930', '88235', '88746', '89302', '89535', '89759', '89896', '90439', '91571', '91869', '93790', '95558', '96728', '97024', '97984', '98797', '99741', '100344', '102753', '103059', '103083', '103306', '104137', '104881', '105197', '105799', '105835', '106438', '106452', '110882', '112940', '113188', '113240', '113705', '114925', '115231', '116136', '116138', '118354', '118898', '126426', '130452', '141890', '143859', '144606', '144716', '147410', '68', '381', '437', '7001', '1217', '64716', '92507', '99145', '102407', '4225', '4787', '4880', '5135', '6385', '18', '102', '611', '891', '1018', '1125', '1128', '1303', '1342', '1348', '1389', '1599', '1623', '1655', '1971', '1974', '1975', '1976', '1977', '1978', '1980', '1981', '1983', '1984', '1985', '1986', '1991', '1992', '1993', '2026', '2031', '2088', '2107', '2111', '2113', '2121', '2163', '2177', '2315', '2328', '2376', '2428', '2457', '2460', '2465', '2475', '2522', '2527', '2613', '2625', '2648', '2668', '2787', '2789', '2867', '2868', '2901', '2950', '3015', '3018', '3029', '3032', '3048', '3070', '3484', '3525', '3572', '3576', '3660', '3662', '3688', '3693', '3708', '3709', '3760', '3802', '3807', '3833', '3877', '3919', '3926', '3927', '3937', '4092', '4212', '4213', '4222', '4228', '4265', '4317', '4386', '4412', '4414', '4442', '4443', '4471', '4477', '4497', '4531', '4558', '4560', '4563', '4576', '4580', '4587', '4614', '4618', '4652', '4665', '4673', '4682', '4685', '4686', '4833', '4894', '4909', '4932', '4985', '4986', '4987', '5053', '5125', '5141', '5205', '5214', '5247', '5303', '5409', '5410', '5497', '5523', '5544', '5597', '5609', '5639', '5651', '5692', '5696', '5718', '5764', '5804', '5812', '5853', '5938', '6040', '6078', '6099', '6152', '6204', '6239', '6566', '6574', '6582', '6624', '6631', '6653', '6658', '6664', '6725', '6774', '6800', '6951', '6996', '7012', '7117', '7133', '7359', '7380', '7394', '7482', '7570', '7724', '7845', '7930', '7951', '7984', '7986', '8373', '8610', '8666', '8782', '8811', '8917', '8965', '9004', '9008', '26124', '26152', '26464', '26471', '26495', '26558', '26629', '26688', '26693', '26887', '27003', '27032', '27311', '27751', '31079', '31553', '32078', '33294', '33615', '33681', '34332', '44022', '46948', '46965', '47124', '47384', '48414', '48943', '48982', '49013', '50162', '51632', '52287', '55768', '56152', '56171', '56801', '57326', '57532', '58025', '58105', '58299', '59037', '59501', '60007', '60516', '60937', '61401', '62970', '63826', '64249', '64983', '65577', '65682', '65685', '66171', '66365', '68319', '68554', '69227', '69278', '70305', '71264', '71530', '72209', '72407', '74530', '74698', '76175', '77540', '78209', '78467', '78637', '78772', '79185', '79428', '80350', '82854', '83349', '83613', '84615', '84944', '85056', '85397', '86835', '88163', '91104', '91128', '91199', '91842', '91947', '91978', '92420', '92681', '93363', '93510', '93954', '94478', '94677', '95207', '95875', '96861', '97225', '97306', '97950', '98243', '99007', '99437', '99912', '100383', '100390', '100810', '101362', '102123', '102720', '102819', '103228', '103315', '103339', '103596', '103883', '104211', '104913', '105468', '105504', '105585', '106022', '106489', '106762', '107069', '107348', '108689', '109578', '109846', '110553', '111113', '111781', '112171', '112370', '112515', '114180', '115534', '115881', '117895', '118696', '122890', '129370', '134368', '135456', '135534', '135569', '136864', '138036', '138212', '144620', '149830', '152079', '157296', '158238', '158528', '158872', '159858', '160271', '160563', '160571', '160980', '161634', '927', '2511', '2639', '2662', '3727', '3930', '5470', '5983', '7080', '172547', '1150', '2208', '3498', '3507', '5603', '7364', '7700', '8338', '25911', '25927', '125', '149', '233', '283', '290', '322', '366', '369', '456', '522', '735', '757', '850', '866', '999', '1000', '1134', '1216', '1241', '1243', '1447', '1497', '1594', '1730', '1734', '1772', '1799', '1804', '1834', '1845', '2024', '2159', '2265', '2275', '2332', '2348', '2357', '2385', '2386', '2389', '2439', '2555', '2575', '2726', '2815', '2844', '2952', '3007', '3016', '3091', '3182', '3272', '3437', '3550', '3596', '3679', '3680', '3777', '3787', '3946', '3953', '3970', '4036', '4100', '4149', '4159', '4166', '4215', '4248', '4350', '4378', '4546', '4765', '4902', '4919', '4949', '5106', '5165', '5569', '5596', '5637', '5666', '5772', '5893', '5909', '6022', '6122', '6270', '6290', '6387', '6619', '6720', '6731', '6780', '6851', '6860', '6899', '7016', '7029', '7193', '7198', '7235', '7251', '444', '606', '371', '1256', '1755', '2935', '5342', '6970', '25850', '26838', '31429', '34338', '49957', '613', '617', '775', '1844', '2708', '2897', '3094', '3569', '4144', '4244', '4356', '4499', '5806', '6211', '6644', '7067', '7486', '8973', '26599', '52435', '77240', '89118', '107649', '111529', '116839', '46', '695', '1326', '1703', '1972', '1987', '1996', '2148', '2413', '2793', '2902', '2903', '2907', '3017', '3166', '3180', '3598', '3658', '3692', '3901', '3938', '3939', '3959', '3987', '4031', '4410', '269', '523', '549', '602', '2693', '2829', '2836', '2883', '3051', '3125', '3456', '3562', '3820', '2314', '4775', '5419', '5460', '5649', '5800', '5958', '63', '271', '409', '427', '470', '499', '505', '581', '639', '759', '885', '906', '931', '985', '986', '1009', '1096', '1169', '1189', '1361', '1440', '1657', '1660', '1806', '2017', '2041', '2071', '2178', '2202', '2203', '2240', '2253', '2434', '2526', '2594', '2660', '2719', '2757', '2798', '2852', '2877', '2945', '2967', '2976', '3076', '3197', '3281', '3330', '3358', '3359', '3420', '3714', '3718', '3754', '3774', '3794', '3849', '3857', '3859', '3865', '3928', '3932', '4037', '4116', '4164', '4210', '4217', '4220', '4236', '4243', '4279', '4468', '4506', '4602', '4632', '4803', '4957', '5002', '5101', '5108', '5111', '5167', '5169', '5230', '5288', '5354', '5372', '5433', '5434', '5483', '5498', '5505', '5509', '5820', '5838', '5955', '5963', '6077', '6265', '6269', '6296', '6299', '6301', '6331', '6538', '6587', '6612', '6705', '6732', '6736', '6840', '6850', '6852', '6868', '6974', '6977', '6992', '7009', '7027', '7046', '7101', '510', '569', '781', '1366', '1397', '1441', '1487', '1593', '1821', '2042', '2188', '2432', '2497', '2799', '3120', '75', '113', '166', '240', '275', '312', '325', '359', '445', '460', '1006', '28', '30', '35', '124', '148', '242', '298', '309', '321', '452', '495', '615', '632', '26', '40', '94', '612', '147', '2059', '91077', '94070', '94969', '98154', '98956', '106916', '558', '1005', '1525', '1746', '1858', '2338', '2410', '2540', '2879', '2995', '3021', '3258', '3440', '3784', '3843', '3950', '4135', '4250', '4368', '4387', '4488', '4520', '4622', '4700', '4757', '4967', '5092', '5225', '5420', '5803', '5809', '6196', '6379', '6482', '6618', '6721', '6816', '6872', '6880', '6882', '6890', '6975', '7030', '7164', '7324', '7541', '7646', '7802', '8019', '8225', '8372', '8529', '8640', '8815', '8831', '8879', '8958', '26547', '26913', '27397', '27423', '27592', '27667', '27741', '27772', '27801', '27803', '27816', '27839', '31364', '31424', '32019', '32914', '33145', '34532', '37720', '40617', '40732', '41575', '42002', '42011', '44761', '45003', '45183', '45186', '46322', '48322', '48591', '49274', '49651', '50601', '50798', '50804', '51937', '52458', '52644', '52694', '52975', '53447', '53550', '55052', '55261', '55814', '56176', '56607', '57274', '58301', '58306', '58332', '58351', '58655', '59103', '59715', '59727', '59900', '60020', '60126', '60397', '60503', '61026', '61250', '61262', '62081', '62203', '62733', '62999', '63436', '63479', '65088', '65216', '65230', '66130', '66371', '67087', '67252', '68073', '68135', '68486', '68952', '69306', '69406', '70336', '71500', '71745', '72378', '72393', '73211', '73290', '73808', '74510', '74668', '74750', '74795', '76077', '76091', '76293', '78088', '78469', '78729', '79134', '79879', '80094', '80219', '80363', '80489', '80862', '81512', '81537', '81562', '82667', '83374', '83480', '84395', '85774', '86295', '86892', '86898', '87192', '87205', '87222', '87483', '87867', '88593', '88812', '89030', '89356', '89470', '89774', '90376', '90403', '90469', '90578', '91094', '91325', '91653', '92192', '92391', '93457', '93475', '93570', '93766', '93819', '93838', '94813', '95105', '95307', '95309', '96417', '96432', '96815', '97188', '97643', '97701', '99728', '99910', '100163', '102481', '103483', '104241', '104272', '105653', '107141', '107769', '108190', '110127', '111443', '111622', '112006', '112897', '114044', '114713', '115664', '116161', '117466', '117590', '117851', '118985', '122884', '122902', '130490', '130636', '132046', '134170', '135133', '135887', '137857', '138210', '139655', '140247', '140523', '141866', '143385', '144482', '144976', '144982', '145070', '145935', '149406', '151639', '155625', '157498', '157699', '158966', '159061', '160080', '160438', '160565', '160573', '160954', '162082', '162148', '162350', '162578', '162600', '163937', '163985', '165101', '165105', '165603', '2316', '5380', '5527', '6093', '6187', '6902', '7827', '8526', '27134', '27674', '36397', '39796', '43419', '47725', '50482', '51925', '54771', '55272', '55492', '55999', '57534', '57538', '58103', '58554', '60408', '61210', '61729', '63001', '64116', '65142', '69275', '69809', '69818', '70208', '70282', '70599', '71254', '71318', '72129', '72380', '72630', '72701', '73268', '73664', '73881', '74553', '74624', '74685', '75341', '76030', '76079', '77795', '78041', '78218', '78893', '79139', '79357', '79588', '79720', '79946', '80398', '80615', '80834', '81257', '81535', '82169', '82244', '82527', '86059', '86781', '87921', '88515', '89039', '89190', '89629', '89840', '89898', '90268', '90888', '90914', '91414', '91972', '92198', '93502', '93563', '93610', '93855', '93982', '94015', '94150', '94405', '94780', '94799', '94810', '95088', '96281', '96430', '96691', '96857', '97280', '97742', '97757', '97785', '98087', '99537', '99633', '101741', '102033', '103235', '103534', '103972', '104925', '105133', '105742', '105769', '106508', '106785', '109569', '109769', '110407', '110675', '110730', '110968', '112911', '113345', '113378', '113501', '114007', '114494', '114847', '115011', '116887', '117430', '119139', '121235', '124859', '127096', '127188', '129354', '129937', '130083', '131066', '131170', '132480', '133195', '134374', '135127', '135143', '135530', '135532', '136018', '139417', '139857', '142509', '143365', '146900', '149650', '152061', '155078', '156607', '157318', '157340', '158956', '160569', '161127', '162322', '162598', '163645', '165347', '165959', '166918', '167036', '167640', '168248', '168498', '168612', '170403', '170645', '170809', '171763', '173925', '174371', '175197', '175585', '176751', '176929', '176933', '176937', '177497', '177763', '179819', '183011', '184471', '187601', '1658', '1816', '2108', '2249', '2269', '2325', '2492', '2598', '2709', '4233', '4974', '5296', '5604', '2114', '6662', '218', '433', '1277', '1336', '363', '907', '936', '945', '1050', '1392', '1643', '1794', '1883', '1885', '2183', '2247', '2303', '2349', '2390', '2696', '2702', '2759', '2767', '2819', '2863', '3118', '3163', '3276', '938', '1014', '1286', '1959', '2106', '2388', '2942', '3287', '3548', '4047', '4184', '4357', '4401', '4458', '4495', '4535', '4644', '4921', '5012', '5077', '5193', '5404', '5476', '5667', '6116', '6170', '6238', '6311', '2771', '6367', '71579', '80693', '89864', '3153', '6433', '7757', '7991', '26043', '31660', '77201', '122916', '122918', '1570', '2802', '3690', '87', '117', '183', '241', '263', '484', '492', '565', '567', '574', '577', '638', '687', '705', '764', '806', '846', '851', '892', '988', '1046', '1056', '1151', '1173', '1190', '1305', '1346', '1352', '1365', '1401', '1406', '1412', '1444', '1450', '1480', '1483', '1498', '1503', '1554', '1564', '1565', '1575', '1595', '1609', '1699', '1719', '1848', '1880', '1910', '1913', '2025', '2155', '2344', '2437', '2442', '2474', '2560', '2577', '2579', '2585', '2590', '2607', '2682', '2704', '2745', '2782', '2905', '2921', '2929', '2931', '2971', '3045', '3053', '3055', '3060', '3104', '3117', '3127', '3142', '3150', '3165', '3179', '3222', '3271', '3295', '3342', '3372', '3429', '3445', '3446', '3457', '3518', '3618', '3728', '3764', '3783', '3894', '3896', '3920', '3943', '4003', '4009', '4024', '4056', '4110', '4146', '4152', '4160', '4161', '4173', '4211', '4234', '4251', '4259', '4267', '4297', '4300', '4305', '4312', '4450', '4451', '4465', '4475', '4479', '4562', '4640', '4698', '4723', '4741', '4784', '4842', '4871', '4903', '4976', '4996', '5073', '5074', '5105', '5112', '5198', '5269', '5293', '5297', '5379', '5391', '5416', '5417', '5425', '5446', '5450', '5461', '5477', '5479', '5506', '5508', '5525', '5607', '5613', '5633', '5643', '5668', '5686', '5788', '5792', '5953', '5968', '6008', '6062', '6162', '6243', '6279', '6335', '6341', '6374', '6388', '6506', '6567', '6591', '6681', '6699', '6772', '6818', '6820', '6883', '6909', '6961', '7003', '7034', '7139', '7160', '7177', '7285', '7349', '7352', '7354', '7365', '7382', '7384', '7456', '7572', '7618', '7918', '7988', '8133', '8530', '8674', '8730', '8951', '8955', '8956', '8980', '26704', '26840', '26965', '27271', '27317', '27370', '27746', '27768', '27790', '27820', '27838', '27850', '27866', '27869', '27882', '30803', '30822', '30846', '30850', '30867', '31101', '31114', '31162', '31435', '31952', '31956', '32770', '32943', '33138', '33621', '33725', '33817', '33832', '33903', '34528', '34536', '37475', '37731', '37736', '37739', '38600', '39419', '39444', '39869', '40412', '40870', '41527', '41712', '41716', '41863', '43376', '43899', '44301', '44849', '44929', '44937', '45210', '47634', '47940', '48231', '48682', '48783', '48856', '48997', '49265', '49286', '49856', '49910', '50011', '50064', '50259', '50274', '50851', '51007', '51187', '51312', '51694', '52005', '52042', '52606', '52967', '53127', '53592', '53788', '54796', '54833', '55363', '55402', '55417', '55901', '56370', '57401', '57464', '59118', '59729', '59810', '60133', '60530', '60647', '60753', '61009', '61037', '61075', '61319', '61816', '62293', '64285', '64501', '64701', '65418', '65596', '66156', '66509', '66744', '67193', '67801', '68685', '69995', '71542', '72330', '72720', '77596', '77800', '80126', '80590', '81385', '81817', '84392', '85540', '85790', '89085', '89321', '90528', '90531', '90624', '91416', '92008', '92920', '94126', '94953', '95761', '97860', '97988', '98056', '99957', '99992', '100244', '100272', '100440', '101761', '102005', '102684', '103372', '103721', '103984', '104078', '104636', '105755', '109607', '110586', '111661', '114635', '115170', '118246', '122906', '122926', '127108', '127130', '128606', '128620', '130578', '134796', '136449', '137337', '143367', '149334', '152065', '152970', '155064', '158972', '159193', '161954', '161966', '162414', '163134', '163508', '163959', '165549', '166643', '167794', '169984', '169992', '170355', '173369', '175813', '176419', '177651', '177689', '178401', '179119', '179133', '179135', '180031', '180297', '181315', '183897', '185029', '189333', '1482', '1827', '2282', '476', '1904', '2725', '3962', '4029', '1900', '4642', '6345', '27368', '38499', '44943', '48872', '56093', '69241', '4990', '8974', '26133', '36525', '60526', '69951', '72294', '88356', '97665', '99787', '101025', '101112', '101137', '101283', '101997', '103755', '104076', '104245', '105386', '105731', '109157', '109191', '109850', '110130', '110655', '110771', '111659', '112460', '112788', '113348', '130073', '133798', '134528', '2622', '150548', '37384', '44840', '54736', '62374', '57', '118', '354', '386', '429', '449', '506', '697', '716', '905', '921', '932', '952', '972', '1054', '1076', '1119', '1144', '1192', '1313', '1323', '1340', '1353', '1611', '1780', '1840', '1841', '1936', '1948', '1958', '2033', '2097', '2110', '2120', '2162', '2164', '2165', '2180', '2190', '2255', '2327', '2362', '2366', '2367', '2382', '2416', '2446', '2488', '2491', '2500', '2514', '2519', '2523', '2531', '2532', '2537', '2553', '2567', '2568', '2570', '2633', '2635', '2637', '2638', '2647', '2649', '2650', '2651', '2652', '2654', '2656', '2659', '2666', '2689', '2727', '2738', '2748', '2772', '2780', '2781', '2783', '2784', '2785', '2842', '2851', '2917', '2923', '2932', '2936', '2941', '2946', '2956', '2975', '2984', '3011', '3036', '3037', '3040', '3066', '3095', '3099', '3102', '3111', '3130', '3141', '3145', '3167', '3185', '3204', '3205', '3217', '3235', '3239', '3307', '3326', '3327', '3340', '3344', '3365', '3371', '3375', '3379', '3385', '3392', '3425', '3461', '3464', '3478', '3494', '3500', '3524', '3544', '3546', '3565', '3574', '3586', '3591', '3620', '3627', '3629', '3634', '3678', '3684', '3689', '3695', '3700', '3711', '3724', '3725', '3726', '3732', '3733', '3780', '3805', '3819', '3845', '3858', '3885', '3895', '3909', '3912', '3923', '3936', '3957', '3958', '4000', '4012', '4042', '4068', '4079', '4111', '4141', '4181', '4190', '4195', '4198', '4229', '4274', '4276', '4281', '4282', '4296', '4304', '4318', '4323', '4329', '4331', '4345', '4359', '4373', '4394', '4400', '4403', '4406', '4413', '4416', '4427', '4429', '4434', '4436', '4463', '4480', '4498', '4501', '4508', '4557', '4573', '4577', '4589', '4633', '4634', '4649', '4661', '4690', '4699', '4708', '4725', '4767', '4770', '4774', '4789', '4790', '4813', '4831', '4832', '4834', '4849', '4854', '4857', '4867', '4879', '4893', '4907', '4911', '4913', '4925', '4927', '4929', '4936', '4942', '4943', '4944', '4951', '4953', '4956', '4966', '4970', '4971', '4972', '4982', '5000', '5003', '5034', '5042', '5045', '5054', '5062', '5063', '5094', '5177', '5199', '5200', '5220', '5238', '5262', '5265', '5282', '5284', '5290', '5292', '5305', '5310', '5312', '5316', '5324', '5340', '5346', '5348', '5363', '5374', '5385', '5387', '5390', '5398', '5401', '5427', '5431', '5439', '5469', '5471', '5472', '5485', '5522', '5546', '5550', '5610', '5640', '5680', '5745', '5749', '5801', '5830', '5852', '5859', '5864', '5868', '5899', '5925', '5940', '5957', '5965', '5974', '5979', '5981', '6094', '6109', '6120', '6184', '6208', '6229', '6252', '6271', '6285', '6295', '6298', '6306', '6337', '6342', '6356', '6368', '6375', '6493', '6528', '6547', '6563', '6568', '6596', '6665', '6678', '6702', '6710', '6727', '6753', '6765', '6777', '6798', '6815', '6844', '6856', '6881', '6885', '6946', '6959', '7056', '7060', '7065', '7088', '7104', '7116', '7128', '7155', '7165', '7236', '7255', '7258', '7304', '7386', '7389', '7442', '7449', '7453', '7474', '7478', '7488', '7614', '7815', '7817', '7836', '7917', '7925', '7959', '7983', '8094', '8121', '8147', '8363', '8585', '27822', '56885', '96', '144', '159', '178', '182', '202', '205', '211', '346', '392', '414', '469', '478', '498', '518', '580', '696', '868', '1003', '1051', '1112', '1153', '1177', '1180', '1264', '1290', '1330', '1331', '1332', '1335', '1351', '1355', '1458', '1472', '1501', '1504', '1516', '1520', '1539', '1541', '1550', '1563', '1598', '1600', '1654', '1661', '1668', '1689', '1713', '1752', '1756', '1832', '1857', '1875', '1891', '1973', '1995', '1999', '2007', '2027', '2035', '2072', '2083', '2128', '2135', '2147', '2149', '2151', '2233', '2241', '2259', '2262', '2267', '2310', '2312', '2372', '2417', '2425', '2451', '2482', '2496', '2525', '2586', '2589', '2618', '2695', '2739', '2749', '2751', '2752', '2753', '2755', '2779', '2796', '2801', '2837', '2846', '2849', '2850', '2855', '2870', '2891', '2894', '2898', '2900', '2962', '2982', '3013', '3043', '3075', '3169', '3206', '3221', '3223', '3243', '3329', '3347', '3394', '3395', '3401', '3412', '3431', '3432', '3459', '3466', '3502', '3505', '3529', '3547', '3577', '3600', '3602', '3604', '3655', '3668', '3705', '3716', '3758', '3765', '3766', '3801', '3810', '3811', '3830', '3873', '3876', '3960', '4020', '4021', '4030', '4038', '4045', '4086', '4089', '4122', '4126', '4131', '4143', '4177', '4182', '4183', '4185', '4188', '4200', '4218', '4266', '4285', '4290', '4295', '4316', '4322', '4332', '4352', '4354', '4355', '4409', '4415', '4418', '4425', '4452', '4473', '4485', '4491', '4496', '4500', '4518', '4527', '4529', '4556', '4570', '4572', '4603', '4605', '4610', '4612', '4666', '4669', '4670', '4672', '4680', '4688', '4692', '4740', '4758', '4808', '4812', '4814', '4945', '4950', '4952', '4981', '4983', '5011', '5021', '5023', '5033', '5036', '5078', '5081', '5090', '5139', '5161', '5173', '5213', '5215', '5226', '5246', '5275', '5277', '5278', '5279', '5287', '5334', '5335', '5343', '5345', '5353', '5357', '5358', '5361', '5362', '5366', '5367', '5382', '5383', '5428', '5453', '5455', '5499', '5521', '5548', '5553', '5555', '5561', '5564', '5568', '5589', '5600', '5601', '5606', '5641', '5645', '5657', '5689', '5694', '5701', '5705', '5712', '5730', '5731', '5733', '5752', '5768', '5780', '5797', '5843', '5845', '5915', '5919', '5926', '5927', '5930', '5935', '5960', '5961', '5962', '5988', '6027', '6033', '6036', '6038', '6039', '6102', '6115', '6141', '6153', '6173', '6177', '6178', '6179', '6180', '6198', '6240', '6304', '6308', '6312', '6313', '6315', '6319', '6320', '6321', '6346', '6348', '6396', '6424', '6430', '6531', '278', '279', '304', '650', '700', '1442', '940', '70344', '73572', '4155', '4778', '4788', '5888', '6669', '7773', '32460', '36363', '52604', '70015', '74727', '79796', '80572', '84844', '85412', '87079', '90057', '92694', '95873', '97866', '100083', '101962', '102666', '103219', '103539', '104283', '105593', '107771', '109243', '110501', '114060', '115122', '116799', '117176', '117867', '127052', '130576', '130686', '133782', '134041', '139415', '139642', '141749', '141830', '141844', '142448', '146028', '147328', '148881', '151455', '155846', '156371', '156605', '162738', '164175', '166532', '168266', '168344', '168492', '169864', '170777', '171253', '172009', '173351', '174727', '174909', '177231', '178667', '179345', '4077', '4240', '4256', '4313', '4337', '4375', '4402', '1238', '6082', '6151', '7073', '7087', '7947', '8033', '8183', '336', '2629', '2690', '138204', '1475', '1686', '1783', '1855', '1931', '1935', '2171', '2280', '2612', '2988', '3078', '3251', '3426', '3451', '3549', '3606', '3729', '7154', '2882', '5582', '5584', '5585', '3112', '6448', '6808', '6893', '7980', '26172', '85354', '698', '1567', '4872', '5890', '6234', '6247', '6666', '6789', '6985', '7008', '7042', '7168', '7487', '7749', '27416', '397', '809', '1432', '1788', '8045', '3554', '4061', '488', '2181', '2283', '2573', '2673', '2925', '3470', '3621', '5475', '6021', '6460', '6461', '6684', '7010', '7043', '7069', '7505', '7941', '7944', '8014', '8254', '8367', '8922', '25759', '25940', '25963', '26318', '27033', '32735', '32892', '33487', '38159', '38701', '39659', '41336', '44100', '45000', '47904', '48001', '48165', '49902', '50517', '51380', '51418', '52528', '53143', '55360', '61697', '63698', '77866', '81819', '89900', '93164', '105246', '106204', '131451', '4866', '1869', '26603', '103027', '129428', '133802', '140805', '1066', '1446', '1537', '2306', '2458', '2624', '3538', '583', '856', '1184', '1695', '2593', '3613', '3808', '3855', '5503', '5614', '6954', '1484', '2205', '2504', '8623', '33677', '390', '1414', '1836', '1966', '2356', '3364', '4055', '4486', '7107', '7171', '26375', '27005', '33495', '49220', '55955', '96110', '1495', '1739', '1867', '4095', '8493', '26485', '4939', '7307', '1873', '4636', '6991', '7000', '51939', '52283', '46062', '61123', '62912', '90524', '118496', '135141', '4655', '26462', '465', '1012', '1398', '1437', '2101', '2397', '2563', '6713', '27802', '27827', '43983', '104337', '127198', '131656', '135436', '136485', '152063', '154939', '155820', '159415', '163056', '166486', '167370', '167746', '170875', '173145', '176101', '176103', '187593', '189363', '3559', '1384', '2861', '4424', '3035', '3061', '3475', '3501', '3998', '4474', '4676', '4677', '4709', '5415', '5943', '5970', '6810', '6944', '7131', '7213', '7698', '7701', '8880', '8896', '26198', '39234', '46865', '718', '358', '2548', '893', '1529', '1546', '1934', '2606', '2646', '2765', '2892', '3563', '3832', '3854', '4179', '4433', '4532', '4533', '4852', '4989', '5121', '7126', '7286', '7562', '7748', '8906', '25777', '25805', '25929', '26242', '26985', '27020', '27022', '27434', '33171', '33896', '34523', '39427', '42191', '42725', '44568', '44828', '47465', '47830', '47952', '48678', '48744', '53435', '53468', '54785', '55553', '56069', '57502', '58485', '59026', '60259', '60941', '61160', '61246', '62331', '63181', '64234', '65135', '65813', '66335', '66427', '66639', '69606', '72167', '72737', '72787', '74095', '74740', '74868', '80026', '81711', '85181', '85401', '85796', '85992', '86548', '88267', '88272', '88932', '88954', '89586', '89945', '91261', '92309', '92422', '92938', '92944', '93270', '96004', '96917', '96969', '97172', '97692', '97957', '98083', '98361', '99296', '100363', '100408', '101074', '102070', '102792', '102802', '106062', '106195', '106870', '109425', '109853', '110445', '112334', '114392', '115875', '116217', '117372', '118082', '118880', '118997', '125926', '126090', '128542', '128968', '130450', '131237', '136016', '136445', '136588', '138835', '139130', '140769', '140956', '141544', '141816', '142420', '144632', '147022', '147250', '147286', '147300', '147326', '158813', '163809', '164411', '166461', '167380', '167620', '168366', '168418', '168910', '172577', '172875', '173535', '178907', '179401', '182637', '182639', '120635', '424', '747', '1863', '1866', '4613', '4662', '5211', '5538', '5824', '6314', '6536', '7017', '8968', '438', '1399', '2095', '2430', '3915', '4231', '4372', '4745', '6811', '7026', '7036', '8596', '171', '3985', '760', '2670', '1413', '2448', '2644', '2756', '3442', '3767', '3768', '3837', '3840', '3931', '3961', '4099', '4353', '4654', '5412', '5638', '6478', '7308', '7310', '4462', '56949', '55', '25788', '26680', '68522', '824', '114', '848', '1667', '1727', '5264', '93272', '140711', '142997', '5628', '7132', '8199', '31485', '74948', '82447', '100579', '108188', '119141', '6300', '7377', '7843', '27376', '33124', '47518', '54787', '55094', '55116', '55257', '60293', '2462', '4591', '6166', '6755', '27563', '42418', '58191', '60333', '62439', '69458', '70334', '5889', '8969', '26160', '26183', '26340', '26347', '26529', '26565', '26999', '27193', '27253', '27619', '27856', '36289', '48346', '72692', '79533', '81981', '85259', '85316', '91351', '91353', '91355', '93208', '96411', '102007', '102602', '107312', '107412', '113103', '115941', '115949', '117545', '117922', '118302', '119065', '121099', '127040', '127044', '130978', '131092', '134250', '136247', '136335', '136337', '136542', '141818', '146327', '151769', '156025', '159811', '163072', '163386', '168060', '172585', '172589', '6483', '528', '1624', '1820', '2191', '2392', '3299', '3719', '4783', '5007', '5061', '5096', '5646', '6183', '2179', '2184', '2204', '40581', '51931', '55245', '55267', '58078', '59306', '67839', '81784', '92439', '94266', '102993', '103543', '103801', '138', '1415', '1471', '1602', '3974', '4154', '1337', '989', '5524', '5993', '6202', '7178', '38994', '39414', '50160', '60943', '62344', '63179', '65130', '66200', '68269', '68963', '71619', '72228', '929', '961', '1133', '1998', '2974', '3861', '5102', '5389', '6722', '32598', '7169', '7316', '8642', '8808', '8869', '9010', '30898', '31433', '41573', '42007', '43930', '47122', '50685', '50954', '54276', '59421', '62718', '65585', '66203', '67788', '69712', '70183', '70293', '71325', '74154', '74688', '75805', '77414', '80241', '80860', '85367', '86817', '88179', '90576', '92509', '94325', '95744', '96565', '97328', '100527', '101281', '101415', '114762', '115147', '115667', '117861', '118814', '132424', '132660', '155812', '157274', '3270', '4219', '26502', '74508', '214', '335', '385', '389', '570', '1571', '1670', '1683', '1733', '2062', '2295', '2069', '2499', '2630', '2873', '52319', '62644', '2330', '26131', '84312', '245', '340', '536', '140928', '156609', '157200', '320', '375', '1502', '1629', '1770', '2440', '2885', '2999', '3143', '3514', '3636', '3756', '3881', '3982', '4286', '4585', '4733', '4869', '5041', '5174', '5846', '5964', '6186', '6600', '6601', '6792', '6887', '7203', '7326', '7616', '7844', '7949', '8268', '8578', '8657', '8732', '8918', '8939', '25971', '27604', '31107', '31362', '31694', '33649', '39052', '835', '1809', '3310', '3581', '1468', '1612', '1887', '2040', '2051', '2169', '2597', '3244', '3399', '3773', '3884', '47264', '165551', '168326', '808', '882', '981', '709', '2048', '6006', '6801', '2461', '5691', '6266', '6332', '6707', '8643', '8967', '26306', '33830', '40962', '42761', '44225', '44949', '45074', '47516', '53460', '53466', '55250', '58154', '58291', '58975', '60471', '61354', '63393', '65193', '65601', '66783', '71304', '72165', '72696', '73042', '73168', '74450', '74752', '75395', '77820', '79463', '79572', '79798', '82152', '82167', '85268', '85295', '88108', '88380', '88785', '89002', '89072', '89194', '89343', '89427', '91266', '91628', '92264', '93142', '93326', '95237', '95539', '96448', '96863', '97946', '98279', '99149', '99371', '100397', '100487', '101088', '101260', '101262', '101360', '101577', '103048', '103055', '103137', '103606', '103727', '104312', '104863', '105037', '105075', '106642', '107017', '107057', '107130', '107756', '108243', '108879', '109187', '109472', '109483', '109576', '109742', '110297', '110603', '111375', '111913', '112421', '112818', '112895', '113159', '113642', '113829', '114033', '114182', '114670', '115381', '115828', '116191', '116413', '116668', '117109', '117192', '117308', '117312', '125974', '126548', '127178', '127565', '128520', '129781', '130628', '131464', '132652', '132798', '132800', '134881', '135504', '135643', '138202', '140359', '141004', '141408', '141648', '141799', '142158', '142222', '143245', '144734', '144762', '146866', '146926', '147372', '147374', '147376', '147378', '147380', '147382', '147384', '148775', '150596', '152037', '152515', '155832', '155968', '160567', '164821', '166526', '166530', '166705', '167570', '167636', '168026', '168254', '168288', '170405', '170787', '174395', '174893', '178447', '178521', '179863', '182715', '183815', '184015', '184253', '190085', '142422', '148888', '166492', '84273', '120625', '155288', '8010', '5027', '5244', '5414', '6125', '6280', '7257', '7381', '8369', '8589', '8604', '27408', '27837', '31687', '37382', '37477', '40574', '47044', '59', '664', '729', '807', '827', '831', '841', '865', '867', '872', '877', '889', '980', '1039', '46974', '54732', '73106', '83369', '85022', '98607', '99117', '106491', '140715', '161131', '184239', '99813', '170705', '352', '823', '1162', '1659', '2075', '2665', '2667', '2685', '2824', '2865', '2928', '2963', '2972', '3402', '3509', '3637', '4098', '4113', '2978', '1919', '897', '1024', '2494', '2661', '2776', '2899', '2983', '3230', '3283', '3404', '3434', '3447', '3465', '3496', '3520', '2493', '2937', '3325', '3389', '3390', '3391', '270', '430', '467', '600', '779', '984', '1063', '1453', '1526', '1621', '1811', '1825', '1988', '2029', '2077', '2166', '2445', '2558', '2786', '2888', '2961', '3004', '3477', '3480', '3612', '121', '36535', '49312', '55555', '56389', '3124', '301', '461', '571', '702', '993', '1043', '1650', '1728', '1860', '2131', '2252', '2419', '87298', '134393', '947', '1837', '2044', '2210', '2922', '1757', '6920', '8125', '8656', '26171', '26713', '26758', '27523', '31545', '32898', '43415', '51277', '51471', '55253', '63853', '68472', '69529', '71462', '79553', '84952', '96751', '1601', '2008', '3675', '59392', '157667', '8911', '31700', '33081', '48600', '59105', '59440', '91290', '254', '4437', '5588', '5734', '5736', '5786', '5891', '26344', '26492', '26974', '33085', '33683', '45662', '50445', '50447', '51927', '53280', '57421', '57910', '59256', '64010', '64037', '67898', '68941', '70994', '74370', '77427', '78319', '79251', '84189', '92206', '98124', '99047', '128852', '60487', '56671', '88672', '113275', '115220', '132961', '145150', '668', '901', '935', '956', '970', '1164', '2221', '2512', '2847', '2920', '2927', '3232', '3289', '3311', '3487', '3533', '3588', '3645', '3929', '3965', '4194', '4287', '4319', '4334', '4405', '4420', '4423', '4470', '4704', '4798', '4851', '4969', '4998', '5017', '5022', '5085', '5114', '5300', '5333', '5373', '5426', '5560', '5605', '5725', '5794', '5825', '5826', '5937', '6066', '6192', '6217', '6244', '6254', '6276', '6329', '6409', '6412', '6426', '6429', '6509', '6515', '6579', '6599', '6611', '6672', '6701', '6854', '6921', '6940', '6967', '6988', '6989', '7028', '7045', '7081', '7086', '7091', '7121', '7195', '7221', '7238', '7333', '7385', '7416', '7440', '7489', '7617', '7706', '7713', '7821', '7895', '7919', '7926', '7939', '8017', '8140', '8167', '8195', '8239', '8275', '8341', '8446', '8506', '8516', '8532', '8573', '8577', '8600', '8608', '8609', '8618', '8629', '8670', '8681', '8712', '8749', '8765', '8772', '8785', '8786', '8844', '8875', '8933', '25750', '25763', '25764', '25769', '25774', '25807', '25826', '25834', '25835', '25855', '25856', '25865', '25866', '25898', '25901', '25923', '25930', '25952', '25961', '25993', '26009', '26064', '26083', '26111', '26113', '26122', '26148', '26151', '26155', '26158', '26163', '26359', '26413', '26414', '26606', '26663', '26681', '26699', '27329', '27555', '27647', '27812', '27815', '27871', '30701', '30952', '31260', '31263', '31270', '31347', '31522', '31524', '31588', '31590', '31705', '31923', '32025', '32196', '32649', '32853', '33639', '33750', '34063', '34148', '34552', '35957', '36056', '36086', '37240', '38095', '38384', '38798', '41014', '41721', '42004', '42213', '42900', '42946', '44947', '45506', '46664', '46803', '47152', '47306', '48698', '48741', '48909', '49359', '49688', '50514', '50651', '51127', '52241', '53737', '53999', '55067', '55159', '55895', '55946', '57972', '58162', '58379', '59188', '59220', '59260', '60103', '60201', '60295', '61357', '61967', '62250', '65037', '65709', '66547', '68194', '68347', '70497', '70697', '70849', '72113', '72603', '72733', '73323', '73569', '74696', '74827', '76173', '78116', '81665', '84637', '89305', '91335', '91488', '100159', '117887', '152091', '82744', '146210', '151345', '1941', '5304', '7075', '7418', '7756', '7766', '8016', '26472', '26564', '26796', '48061', '49132', '47491', '56060', '2057', '2212', '2615', '3002', '3096', '70984', '79073', '79242', '3024', '54621', '59429', '73829', '870', '998', '1456', '1477', '1604', '1878', '2084', '2195', '2234', '3050', '3177', '3454', '3511', '3864', '4736', '6193', '6425', '47640', '99721', '133832', '136562', '148172', '148671', '151739', '166946', '170813', '170827', '175199', '175485', '176599', '176935', '183611', '183635', '184987', '185989', '186587', '187613', '188309', '659', '746', '937', '958', '959', '962', '1068', '1940', '2066', '2098', '2182', '2185', '2187', '2201', '2207', '2209', '2874', '2939', '3097', '3121', '3144', '3341', '3605', '3908', '4338', '4426', '4534', '4801', '4804', '4920', '5005', '5076', '5116', '5228', '5231', '5232', '5233', '5234', '5289', '5392', '5394', '5644', '5802', '5873', '6031', '6054', '6228', '6273', '6445', '6495', '6629', '3515', '1533', '3951', '1731', '2049', '2418', '3696', '3964', '4028', '4705', '5239', '5911', '6935', '7122', '7353', '7437', '8337', '8838', '8899', '26285', '26386', '26488', '31251', '32116', '32383', '187', '217', '1824', '1906', '2264', '2380', '2383', '2477', '2479', '3041', '3042', '3138', '3343', '26903', '2196', '3162', '3597', '4203', '4440', '4569', '4637', '4756', '4807', '4885', '4962', '5080', '5255', '5531', '6055', '6185', '6219', '6289', '6577', '6703', '6793', '6886', '6973', '7031', '7142', '7261', '7366', '7368', '7383', '7450', '7782', '7791', '7809', '8093', '8537', '8814', '8833', '8836', '8841', '8866', '8908', '8937', '26560', '26696', '26865', '27114', '27152', '27309', '27450', '27608', '27643', '27705', '27875', '31225', '31785', '34336', '36509', '38388', '42015', '42730', '43391', '43556', '43871', '44004', '44197', '44317', '45062', '45503', '47644', '48161', '48319', '48416', '48520', '48596', '48673', '49130', '49276', '49793', '52460', '52724', '53318', '54193', '54780', '54962', '55020', '56941', '56945', '58287', '59143', '59336', '59418', '59985', '60405', '60674', '60832', '61073', '61352', '62235', '62792', '63222', '65552', '65939', '70706', '71810', '71910', '72308', '73511', '74139', '74324', '79536', '6783', '36533', '40414', '43333', '43744', '43904', '43912', '43919', '44613', '50158', '50802', '53002', '53578', '62553', '87194', '93740', '95199', '120', '6558', '8387', '26774', '26914', '27729', '27793', '31035', '47202', '50792', '51088', '52668', '52717', '55176', '60338', '64508', '65155', '73874', '80839', '82093', '83798', '84663', '85438', '85777', '87308', '97395', '97673', '101850', '155', '2880', '3824', '4599', '8576', '8795', '108501', '110566', '113278', '116841', '116951', '124867', '131739', '6999', '8614', '66785', '89087', '93242', '113862', '116855', '150294', '56869', '7250', '79824', '91890', '94896', '3079', '8915', '7814', '109633', '130506', '130508', '130510', '136564', '2620', '3046', '26554', '90719', '6370', '34198', '34246', '48045', '73804', '81383', '90474', '95971', '105703', '108078', '108825', '111764', '134214', '142456', '81158', '3710', '4221', '4509', '4512', '4683', '6012', '6584', '6689', '1826', '4749', '4750', '5672', '6371', '7345', '7374', '8978', '31223', '1839', '2820', '3161', '8905', '61986', '2769', '4108', '5044', '4153', '8684', '26082', '76111', '91233', '94833', '100044', '105355', '106240', '108540', '114552', '116907', '130075', '133419', '133945', '134680', '143387', '164949', '169906', '170957', '171011', '171495', '171749', '172591', '176601', '179811', '3523', '7294', '135288', '149354', '159161', '4444', '6598', '6636', '331', '5675', '6770', '6950', '27685', '41025', '42958', '43921', '47970', '51575', '54274', '55190', '55241', '55274', '56169', '56633', '57949', '60418', '61449', '62113', '65882', '66090', '67186', '67534', '67620', '68444', '68650', '68848', '69304', '69934', '69992', '70663', '71106', '71429', '71466', '71518', '71520', '71668', '71670', '71902', '71926', '73015', '73027', '74946', '75813', '77364', '79897', '80586', '80864', '80880', '80939', '81132', '81786', '81804', '82053', '82499', '83270', '83302', '84242', '84950', '85007', '86293', '86487', '87522', '88837', '89761', '90310', '90471', '90870', '91470', '91626', '91690', '92048', '93265', '93287', '93443', '93512', '94841', '94985', '95067', '95135', '95567', '95583', '96655', '96693', '97311', '97836', '97904', '98122', '100302', '101076', '101285', '103255', '106330', '110611', '111795', '112303', '112946', '113453', '113604', '114042', '114184', '114265', '114459', '140131', '140301', '155509', '156369', '157312', '161580', '161956', '165527', '166788', '167018', '169028', '169982', '172813', '4438', '4441', '4466', '4482', '4502', '4504', '4514', '4515', '4516', '8451', '26336', '68659', '73266', '117871', '645', '1417', '1465', '1547', '51834', '2675', '2833', '3292', '3567', '3966', '69253', '90738', '100611', '118900', '564', '725', '874', '1168', '1439', '179', '182913', '108', '171583', '74532', '170697', '797', '2848', '341', '685', '2342', '2552', '3400', '5969', '6625', '6788', '26849', '32442', '44241', '70990', '90522', '103659', '120478', '170709', '170729', '72367', '8131', '27073', '79006', '79684', '86290', '8580', '13', '1116', '2293', '2669', '3092', '3158', '3367', '3628', '3643', '3553', '4151', '4389', '4439', '4481', '4609', '6060', '6334', '6779', '6832', '7020', '27006', '31437', '33585', '35015', '49284', '50658', '51084', '52375', '54513', '56508', '59141', '60382', '65465', '74677', '81910', '85261', '95375', '96150', '98296', '103279', '104303', '127114', '141397', '157961', '167732', '180095', '4454', '7767', '54256', '57543', '72104', '77846', '78160', '88345', '95856', '97393', '106011', '106889', '108709', '110503', '110669', '114028', '116411', '117364', '126430', '141946', '148036', '151759', '159195', '159717', '164917', '167392', '167544', '168608', '178061', '180045', '184257', '4404', '7786', '43177', '57223', '60816', '425', '3115', '83', '324', '582', '634', '840', '1105', '1532', '1798', '7320', '2237', '3976', '4241', '568', '791', '896', '2323', '3133', '3188', '4123', '98836', '155181', '2047', '4293', '4675', '4748', '5474', '6232', '5038', '6486', '7579', '26555', '123288', '7759', '26901', '27067', '33072', '42783', '66596', '79287', '4732', '5501', '6663', '6784', '7011', '8511', '42197', '49647', '52867', '54331', '54745', '54768', '54934', '60141', '61255', '47382', '145096', '706', '834', '4263', '4664', '6442', '7059', '1675', '78174', '2938', '5051', '5570', '6571', '6981', '27851', '4395', '8848', '418', '751', '220', '1322', '1324', '1325', '1328', '1555', '1771', '1989', '1990', '2452', '2515', '2516', '2554', '2634', '2653', '2655', '2663', '2790', '2814', '2854', '2878', '3058', '3417', '3488', '3490', '3573', '3587', '3648', '3659', '3661', '3663', '3664', '3665', '3694', '3838', '3839', '1474', '3405', '5466', '6135', '6357', '8943', '33675', '3370', '3584', '4072', '4178', '4593', '4674', '5839', '6237', '7771', '513', '1473', '1585', '1646', '1854', '1902', '2272', '2886', '2893', '3568', '3599', '3622', '4600', '4663', '5311', '32084', '4624', '6508', '6554', '6667', '6761', '7005', '7033', '7124', '8574', '8731', '8809', '9018', '26700', '26810', '26989', '27878', '27899', '27912', '33410', '42018', '45175', '46572', '48883', '50005', '50149', '52227', '54278', '54290', '55288', '58367', '61961', '62049', '268', '31422', '52279', '61071', '7014', '7041', '26726', '26746', '93240', '107702', '109072', '119218', '486', '115', '1698', '1853', '4273', '89480', '107410', '8260', '26228', '26524', '53352', '54372', '66762', '70708', '71823', '78332', '81791', '82378', '84407', '90929', '91079', '92643', '94931', '96501', '97230', '101498', '104339', '106983', '107447', '108192', '108780', '111387', '112070', '117877', '118896', '126599', '130588', '134248', '140289', '143271', '148956', '159191', '1163', '2063', '27426', '45440', '59738', '76317', '2610', '2964', '3747', '4288', '5298', '6395', '7209', '7942', '26164', '44633', '47793', '59339', '60336', '100106', '103444', '111732', '114760', '117517', '130970', '133645', '139855', '140162', '148238', '163971', '1038', '2441', '2536', '2544', '2678', '2864', '3103', '3497', '3537', '3795', '4168', '4432', '4837', '5172', '5642', '5847', '5951', '5996', '6032', '6096', '6757', '6858', '7237', '7334', '7523', '7976', '8265', '8290', '8535', '8813', '8851', '8930', '8946', '8959', '9013', '26283', '26313', '26521', '26744', '27648', '31000', '31038', '1636', '25852', '49', '1121', '1312', '1922', '2271', '2774', '2884', '3721', '3743', '3851', '4209', '4268', '4782', '4870', '4965', '5083', '5192', '5421', '5424', '5451', '5529', '5573', '5875', '5896', '6735', '175661', '179817', '180497', '4738', '1430', '6005', '6862', '8295', '3672', '3674', '5360', '6233', '6744', '7355', '7417', '1829', '1489', '5109', '7375', '55732', '73860', '96069', '169166', '6057', '7175', '65435', '87105', '408', '771', '6475', '26750', '54281', '55259', '85025', '87785', '134783', '4505', '7340', '8382', '8501', '35636', '51520', '64032', '68099', '73089', '3403', '5939', '6583', '6803', '26203', '26947', '27216', '27491', '31431', '32456', '44731', '60522', '71341', '71468', '84775', '127315', '60363', '83082', '93988', '106441', '116219', '169756', '171765', '5883', '54738', '55284', '59362', '73870', '82041', '89837', '96490', '96634', '101973', '103017', '106030', '107314', '112091', '117434', '128488', '133377', '133389', '142598', '148369', '166183', '166558', '167634', '679', '803', '1545', '1581', '1881', '4035', '34326', '52321', '56715', '59869', '67695', '70726', '71248', '74573', '76210', '76738', '77629', '77667', '78679', '83976', '89047', '93297', '96667', '99305', '103736', '105420', '105954', '106200', '106841', '107052', '110828', '113696', '118702', '128512', '128975', '138208', '4828', '6035', '8197', '26003', '56001', '65894', '1008', '1725', '2086', '2103', '2498', '5143', '5237', '957', '1795', '2168', '7315', '8846', '39886', '43684', '39400', '65868', '130448', '183295', '7119', '8266', '8849', '5867', '6990', '411', '4371', '4862', '5635', '5681', '5941', '6997', '7141', '8520', '26770', '27700', '27857', '31889', '32009', '42163', '44020', '49225', '49917', '52784', '55071', '55620', '56719', '60992', '61257', '65225', '69394', '71484', '72714', '73276', '73392', '77233', '79677', '82037', '83293', '84154', '86628', '88022', '89523', '90630', '93006', '93432', '97168', '97779', '97870', '98369', '99468', '100326', '100553', '100729', '101895', '101904', '104350', '105429', '107953', '109452', '111630', '114554', '114678', '116307', '116817', '118202', '118760', '118888', '118930', '119153', '120813', '121372', '121374', '132128', '132496', '133205', '136204', '139100', '145839', '155581', '2400', '2733', '3782', '4080', '4081', '4115', '4559', '4584', '4597', '4629', '4717', '4710', '7206', '33779', '4278', '3211', '3945', '5648', '6049', '7657', '7846', '7993', '27176', '27351', '31193', '37855', '54185', '55687', '56563', '56915', '58107', '59604', '61705', '62788', '63276', '66066', '68843', '70946', '71878', '72489', '73854', '74754', '78746', '79274', '81180', '84414', '84942', '85874', '86815', '87028', '89028', '89102', '89846', '90603', '92214', '95004', '95149', '95449', '96612', '98373', '99750', '100507', '100581', '102060', '102084', '104906', '109042', '109687', '111924', '113112', '115414', '131796', '138104', '155659', '156000', '160559', '161354', '165141', '168420', '188301', '192283', '2358', '2766', '2818', '3846', '4189', '4459', '4684', '4933', '5879', '6084', '6470', '6576', '6652', '6963', '7220', '7341', '8044', '8119', '8639', '25891', '2714', '3669', '4583', '191351', '6614', '3406', '4795', '4802', '7212', '90', '137', '601', '630', '633', '660', '712', '767', '793', '813', '844', '1311', '1318', '3368', '3847', '5212', '5406', '5678', '5799', '6092', '6249', '6500', '6581', '7051', '7215', '7270', '7894', '7915', '8129', '25899', '25999', '27830', '32263', '40973', '43549', '47723', '52448', '53140', '54378', '58743', '60948', '61394', '63189', '2175', '2813', '3736', '3739', '4242', '4840', '4847', '5028', '5397', '6163', '6222', '6668', '6750', '7055', '7061', '7078', '7135', '7311', '7479', '7584', '7705', '7831', '7840', '8256', '8518', '8521', '8542', '8711', '8738', '25827', '25833', '25996', '27664', '27884', '30818', '32525', '33815', '44864', '49200', '49824', '63808', '155874', '157268', '159917', '164981', '7074', '7924', '26055', '27473', '41627', '46855', '77843', '78517', '81364', '82767', '2965', '4191', '7728', '154941', '37', '3338', '4856', '4858', '6723', '7108', '7210', '8039', '8793', '3963', '4411', '4743', '5117', '6455', '6480', '6481', '7303', '7619', '7781', '8007', '8008', '8334', '8460', '8502', '8916', '26084', '26101', '32289', '45981', '3320', '4336', '6118', '8598', '43460', '388', '1490', '2368', '3031', '3423', '4525', '4550', '4617', '4630', '4895', '4961', '5395', '5423', '5454', '5636', '5901', '5990', '6326', '6560', '6734', '6864', '6948', '7189', '7624', '8062', '8380', '8492', '8494', '8593', '8720', '8862', '31445', '77', '106', '563', '598', '1511', '1538', '1861', '2215', '2466', '2904', '3010', '3106', '3242', '3245', '3374', '3796', '4237', '4289', '4294', '4360', '4484', '4671', '4694', '4697', '4711', '4793', '5100', '5113', '5123', '5168', '5179', '5236', '5245', '5258', '5352', '5375', '5376', '5442', '5448', '5482', '33592', '131', '295', '32882', '33126', '37211', '49263', '5869', '472', '4578', '43932', '50800', '53326', '60044', '68932', '69140', '81083', '81140', '83067', '84732', '85016', '86410', '91831', '94867', '96964', '100359', '107436', '107997', '112450', '112727', '113769', '129707', '130642', '130684', '131470', '136798', '140074', '56079', '66789', '66798', '68749', '70567', '72762', '74355', '75425', '78032', '80502', '81516', '85572', '58404', '72224', '85394', '94480', '160289', '106839', '5056', '5489', '26240', '2074', '2992', '3771', '4574', '4625', '5182', '5468', '5841', '6339', '6427', '6441', '6458', '6657', '7720', '7790', '8400', '8404', '8447', '8894', '26476', '32076', '32261', '32469', '701', '982', '1671', '6101', '7062', '8754', '8998', '447', '473', '987', '1455', '1523', '1549', '1574', '1749', '1850', '1874', '2197', '2292', '2556', '2721', '2828', '2834', '2835', '3183', '3914', '4771', '4846', '26444', '74488', '130520', '1791', '1812', '1865', '2284', '2286', '2545', '2681', '3467', '3473', '3872', '5516', '6497', '6524', '6561', '25840', '25905', '31374', '65359', '73051', '4635', '4714', '5632', '7070', '7216', '7218', '25886', '27373', '93040', '152083', '1460', '4620', '4850', '8525', '8588', '8612', '8762', '42053', '3357', '4827', '6492', '6542', '8025', '46156', '48825', '63515', '66544', '1551', '2449', '2933', '2876', '6144', '6288', '2566', '3240', '4818', '4845', '4864', '1632', '5880', '6154', '7072', '26324', '73681', '119155', '142536', '27338', '58490', '67429', '77665', '84957', '102066', '2831', '2339', '649', '1002', '1463', '1493', '1535', '1666', '2426', '3282', '3789', '5677', '1152', '1154', '1929', '1937', '2037', '3241', '3350', '3377', '3632', '3691', '3731', '3888', '3906', '4083', '4119', '4176', '4376', '4381', '4419', '4579', '4626', '4668', '4772', '4800', '4841', '4877', '5097', '5142', '5187', '5437', '5440', '5517', '5532', '5583', '5688', '5732', '6020', '6047', '6064', '6160', '6195', '6216', '6401', '6407', '6452', '6476', '6526', '6544', '6545', '6603', '6638', '6643', '6646', '6660', '6855', '6876', '6945', '6998', '7015', '7047', '7095', '7097', '7174', '7205', '7217', '7223', '7227', '7272', '7305', '7335', '7414', '7415', '7485', '7564', '7574', '7578', '7585', '7647', '7708', '7792', '7822', '7837', '7883', '7896', '7923', '7943', '8012', '8126', '8188', '8189', '8190', '8302', '8331', '8335', '8362', '8462', '8481', '8486', '8503', '8522', '8534', '8540', '8584', '8615', '8631', '8700', '8727', '8751', '8752', '8767', '8768', '8771', '8773', '8778', '8779', '8826', '8931', '8999', '9000', '25741', '25752', '25755', '25766', '25786', '25789', '25792', '25793', '25795', '25798', '25825', '25828', '25839', '25841', '25842', '25868', '25870', '25916', '25934', '25938', '25943', '25947', '25962', '26002', '26078', '26119', '26174', '26208', '26252', '26303', '26349', '26360', '26504', '26698', '26745', '27369', '27727', '27792', '30712', '30996', '31349', '31359', '31528', '31628', '31934', '31950', '32160', '32179', '32300', '32369', '32371', '32582', '32728', '33119', '33358', '33587', '34359', '34469', '34482', '36477', '38320', '39307', '39398', '40988', '41136', '41425', '41585', '42021', '42217', '42518', '42681', '43910', '44595', '45679', '45891', '47446', '47642', '47714', '47778', '49412', '50066', '50615', '51287', '51638', '51705', '51857', '51991', '53038', '54328', '54734', '55063', '55106', '55517', '56015', '56141', '56700', '57370', '58879', '58972', '59333', '59607', '59721', '60289', '60566', '60654', '61167', '62245', '63446', '64930', '65567', '66304', '66870', '67223', '68858', '68967', '69552', '70342', '70846', '70912', '71011', '71438', '71573', '72703', '79800', '80748', '81020', '81639', '85372', '86642', '87004', '89090', '89260', '89337', '90378', '91808', '91888', '91902', '92152', '92437', '93134', '93422', '94815', '94978', '96121', '96911', '98017', '99968', '101296', '101612', '103107', '103549', '103554', '104736', '105211', '106144', '107196', '107883', '109161', '109181', '109895', '110348', '110461', '110796', '111778', '112399', '112868', '113064', '114074', '114250', '114342', '115174', '115824', '116849', '117107', '127140', '127196', '127208', '127212', '128671', '130351', '132549', '132883', '134859', '139120', '139757', '140106', '141432', '141924', '142386', '143237', '143444', '147750', '148166', '151731', '152163', '155392', '160553', '160874', '160876', '161348', '162596', '163512', '166568', '166940', '167248', '167564', '168806', '169220', '169900', '170151', '170401', '170959', '171233', '171867', '173197', '175277', '177871', '178335', '178839', '179815', '179953', '182825', '185473', '185997', '188679', '7219', '26513', '51562', '62834', '62836', '3823', '4227', '1383', '2534', '2979', '3214', '4284', '4568', '5854', '6019', '6045', '26743', '49815', '64695', '78122', '85179', '93748', '98604', '99178', '117438', '120130', '146309', '4187', '6984', '8191', '25918', '41226', '51678', '69849', '8605', '54908', '72483', '6687', '27178', '33603', '41769', '53769', '58622', '59731', '81949', '149352', '187031', '6743', '70769', '129', '7979', '8797', '7114', '31724', '755', '857', '917', '925', '939', '960', '966', '967', '974', '1026', '1067', '1925', '1926', '1928', '1930', '1932', '1933', '2032', '2055', '2056', '2079', '2200', '2211', '2214', '2216', '2218', '2219', '2226', '2227', '2636', '2777', '2896', '2981', '3012', '3025', '3122', '3132', '3139', '3140', '3154', '3199', '3306', '3309', '3349', '3351', '3427', '5337', '42013', '102905', '103813', '106236', '120392', '126106', '41724', '140481', '182823', '187541', '189203', '189873', '6466', '32128', '58418', '7048', '65810', '97057', '101097', '110873', '115216', '127136', '140713', '141761', '152059', '178523', '3304', '8004', '8261', '8496', '26159', '26169', '26550', '27109', '30783', '31086', '50641', '58839', '72142', '73183', '76272', '76763', '79599', '81751', '83525', '89582', '90943', '91273', '126584', '131168', '136469', '139090', '141714', '142424', '142492', '143476', '148424', '151605', '151933', '158830', '159755', '161922', '164107', '167064', '168330', '174585', '175659', '25762', '78544', '79987', '1117', '3749', '619', '1662', '1807', '2305', '2509', '2676', '2812', '2817', '3666', '4277', '84557', '5145', '3539', '3954', '5735', '6616', '8327', '8364', '8495', '26052', '26585', '30745', '30892', '32387', '3579', '5462', '6781', '4768', '31867', '45221', '80222', '83086', '92966', '4769', '7932', '112767', '137595', '31555', '78162', '164899', '5808', '5914', '6114', '6143', '6573', '6782', '7115', '7136', '7301', '7937', '8505', '8928', '26717', '31547', '32562', '40887', '51569', '52666', '53189', '57393', '60341', '67618', '67792', '78034', '97132', '105250', '110322', '112316', '114046', '122898', '127206', '162602', '169764', '177101', '179881', '183421', '189713', '3720', '5682', '31807', '2503', '3453', '3652', '3746', '4417', '4645', '4766', '4794', '4997', '5099', '5203', '5315', '5368', '5539', '5771', '5818', '6132', '6404', '6405', '7179', '7289', '7625', '7636', '7785', '8015', '8043', '8142', '8143', '8377', '8667', '8713', '8934', '32349', '33826', '34540', '117368', '131248', '133219', '131050', '3790', '4026', '1677', '2276', '2626', '3302', '3319', '3410', '3531', '3626', '3862', '3880', '3903', '4147', '4165', '4271', '4301', '4307', '4314', '4342', '1364', '4729', '5741', '6498', '7586', '8923', '8964', '26138', '26616', '26691', '26736', '26875', '26939', '27432', '27722', '34435', '38824', '40591', '44058', '57183', '58432', '58850', '69324', '71327', '72479', '72694', '72980', '74944', '86852', '90863', '91371', '92243', '95488', '96075', '97648', '101207', '102991', '103867', '107627', '107949', '107978', '107980', '109093', '109629', '111255', '113250', '115969', '118706', '127298', '128604', '130956', '131714', '132112', '142507', '145418', '151777', '152057', '154915', '157276', '158260', '160400', '160988', '167546', '5048', '1814', '4548', '4615', '6394', '7035', '8117', '8733', '8835', '27716', '31367', '34583', '50003', '51545', '52591', '54075', '55255', '57526', '60763', '64231', '66691', '70410', '74484', '77330', '77359', '77833', '86028', '90916', '177771', '5095', '5184', '5773', '6002', '6628', '7714', '26085', '26153', '26395', '26400', '26649', '27392', '43652', '43914', '56744', '68324', '68442', '68536', '69453', '70862', '72176', '79860', '80928', '59594', '86000', '60538', '127319', '128592', '92210', '98585', '114439', '133001', '164200', '7493', '33838', '52170', '93693', '129514', '132888', '4646', '6747', '6802', '6848', '7770', '31160', '48522', '55031', '56012', '1167', '3898', '87197', '92058', '127180', '6225', '6597', '6648', '6067', '2773', '3625', '1040', '681', '63239', '95170', '96405', '7228', '2507', '5235', '6795', '6805', '6968', '7127', '8676', '34729', '53453', '57873', '89580', '98532', '104441', '127323', '129779', '139525', '139859', '139861', '139863', '143209', '148855', '151781', '160112', '170399', '2258', '2800', '4619', '4868', '4900', '5075', '5170', '5347', '5662', '5670', '5829', '5874', '6051', '6158', '6517', '6670', '7319', '7399', '7716', '7730', '7889', '7899', '8241', '8746', '8832', '8872', '26399', '26467', '26811', '26842', '27036', '27155', '27778', '30883', '31133', '32314', '32589', '33421', '33463', '33966', '36513', '38294', '42009', '44729', '44978', '54910', '56479', '59065', '59129', '60046', '60128', '61818', '61991', '62803', '66240', '67073', '67168', '69118', '70565', '71129', '71460', '71732', '74089', '74152', '75440', '4298', '26237', '2257', '3619', '4180', '4204', '5241', '5739', '5862', '6347', '7878', '7990', '8575', '8864', '26561', '27537', '32298', '34321', '49526', '58992', '64229', '69842', '566', '1596', '1684', '1817', '443', '1145', '1613', '1896', '2569', '2977', '4043', '5122', '5140', '5248', '5250', '5580', '5581', '5655', '5723', '5729', '5755', '5777', '5781', '5836', '5936', '6025', '6181', '6259', '6403', '6410', '6413', '6432', '6457', '6459', '7207', '7208', '7222', '7243', '7391', '7408', '7410', '7581', '8401', '8499', '8512', '8927', '8929', '31255', '33036', '44889', '4822', '5923', '4142', '6983', '87270', '91134', '6210', '5985', '6776', '8971', '27163', '27362', '36083', '56167', '73513', '74787', '83424', '91241', '98198', '101640', '104379', '120138', '89388', '91886', '864', '2562', '554', '3014', '3049', '3109', '3110', '5916', '48150', '3640', '7288', '8292', '8740', '8787', '25753', '26222', '26320', '26365', '31042', '32825', '32834', '47287', '50245', '80191', '5994', '7753', '51884', '72169', '4517', '5754', '6730', '6745', '6683', '69574', '5336', '5715', '5742', '1640', '4428', '5180', '136', '6325', '26694', '26788', '127116', '26007', '54686', '74111', '3449', '3800', '6126', '8761', '82589', '89472', '92954', '109183', '143969', '176603', '179709', '53883', '37495', '80281', '81164', '297', '5369', '5435', '4138', '4561', '6995', '27004', '27008', '30791', '39408', '51933', '56165', '60365', '71372', '73488', '74075', '79868', '80727', '90154', '90434', '93126', '98975', '4175', '41941', '71575', '91681', '95058', '96020', '100068', '102088', '130840', '152591', '175281', '2614', '3933', '4044', '5543', '5552', '5663', '7266', '32627', '70046', '71494', '75389', '3834', '120637', '139052', '140525', '285', '311', '1329', '1349', '1433', '2158', '2156', '2317', '4053', '228', '1055', '8405', '4595', '5079', '5821', '6682', '26280', '26422', '40337', '57353', '58876', '60758', '60939', '61361', '62137', '66385', '71928', '1174', '2172', '3757', '3892', '4097', '4476', '4687', '4689', '4724', '4796', '4829', '5087', '5202', '5204', '5221', '5488', '5518', '5660', '5714', '5722', '5726', '5834', '5887', '5912', '6203', '6690', '6817', '6842', '6976', '6980', '7093', '7112', '7186', '7480', '7719', '7891', '7987', '8238', '8330', '8571', '8602', '8689', '8758', '8882', '8913', '8941', '26170', '26184', '26236', '26268', '26301', '26334', '26425', '26732', '30659', '31148', '31737', '31948', '32239', '33019', '33564', '39449', '41828', '42094', '43552', '44653', '44800', '44911', '51503', '55278', '56432', '56846', '58494', '59273', '60735', '62764', '64321', '65259', '69251', '70597', '71533', '72557', '73101', '73319', '75983', '76054', '77788', '80729', '81725', '82209', '84234', '84696', '85211', '86922', '88468', '88690', '89570', '91673', '93578', '93598', '93892', '94939', '95524', '95816', '96062', '96373', '96567', '100306', '100356', '100469', '100843', '101527', '104685', '108054', '108715', '109376', '109596', '109971', '114066', '114601', '115770', '115967', '118970', '120783', '121111', '122940', '128632', '128736', '129659', '129739', '131830', '132630', '133712', '134109', '134252', '134326', '135135', '135885', '139747', '141826', '142765', '146329', '146688', '147330', '151113', '157338', '159827', '159976', '160848', '160990', '162592', '162828', '165087', '165503', '165937', '168610', '169948', '171759', '173273', '173939', '175809', '176523', '27075', '70361', '1421', '3056', '4781', '5763', '6892', '8134', '8963', '1583', '2510', '2559', '2809', '3900', '4157', '4162', '4169', '4755', '4759', '4761', '4892', '5787', '6839', '7038', '7094', '7148', '7226', '7321', '27888', '31408', '34330', '38538', '39703', '42710', '42732', '43987', '44779', '48598', '51357', '52456', '52712', '55100', '55451', '78264', '87660', '93498', '96563', '99574', '116989', '118700', '125970', '131389', '145030', '155583', '164367', '184997', '2557', '5556', '26937', '27636', '31032', '31909', '34111', '42285', '45635', '48543', '58964', '59814', '65310', '67871', '70032', '71700', '75438', '80736', '84621', '86233', '89074', '89281', '99030', '99996', '102354', '104861', '105325', '105801', '107565', '108085', '109720', '114758', '114818', '120825', '129313', '133824', '138610', '142602', '149011', '155018', '157224', '157361', '158842', '170046', '192', '404', '8847', '7312', '8677', '83177', '74282', '6700', '27009', '72668', '81731', '96616', '101070', '126921', '137904', '140212', '167832', '170745', '185135', '8859', '3069', '26631', '46347', '62115', '98400', '100509', '118085', '133716', '1572', '1793', '2775', '2913', '3305', '3414', '3776', '3867', '3870', '3944', '4252', '4283', '4325', '4722', '4805', '4806', '4825', '4918', '4999', '5119', '5136', '5384', '5473', '5591', '5707', '6351', '6450', '6453', '6465', '6748', '6769', '6837', '6926', '6982', '7057', '7092', '7130', '7328', '7357', '7637', '7820', '7879', '7881', '7935', '7936', '8153', '8194', '8208', '8235', '8264', '8273', '8332', '8336', '8365', '8379', '8385', '8410', '8459', '8463', '8601', '8650', '8662', '8695', '8718', '8724', '8739', '8920', '25744', '25797', '25818', '25914', '25937', '25941', '25945', '25951', '25972', '26051', '26094', '26116', '26178', '26245', '26346', '26366', '26394', '26431', '27246', '27251', '27618', '27646', '27826', '31309', '31689', '31854', '31921', '31963', '31973', '31991', '32153', '32234', '32844', '33912', '34051', '34164', '40033', '40491', '40817', '43699', '44073', '45106', '48059', '48301', '49355', '49666', '50229', '51573', '53835', '55705', '58576', '58937', '59382', '63540', '68872', '69805', '69988', '70871', '72043', '72117', '73000', '77328', '79299', '80553', '80617', '81568', '83219', '83829', '85780', '90809', '90947', '91548', '93723', '95446', '97302', '97639', '97936', '100185', '100277', '100436', '104361', '105159', '108778', '111251', '112550', '114700', '117456', '118338', '121169', '127124', '127128', '127186', '127192', '128594', '130988', '132446', '133281', '135442', '135502', '136477', '141422', '142372', '144698', '148482', '150258', '155074', '156755', '159077', '159451', '160020', '160710', '163663', '163931', '165641', '168122', '168328', '169218', '169760', '170024', '170949', '171141', '172455', '173139', '173205', '175655', '175667', '176211', '177237', '179085', '179137', '179295', '180985', '181671', '182479', '184089', '185109', '187505', '187723', '188751', '1087', '169670', '1696', '2281', '4601', '6226', '33', '189', '197', '3172', '3492', '4192', '4810', '5197', '5652', '6037', '6260', '6392', '6903', '7032', '7054', '7252', '624', '2061', '3433', '4543', '6010', '6230', '6521', '6809', '7292', '7725', '7892', '7893', '8040', '8669', '8884', '8988', '8991', '8994', '26294', '26391', '26782', '26791', '27564', '31083', '33312', '44494', '3899', '53827', '2830', '5840', '26109', '26241', '26299', '34811', '38881', '43497', '45172', '48660', '49422', '54617', '64278', '66310', '69027', '76772', '84716', '97194', '103022', '103665', '103849', '115629', '140265', '143511', '152284', '177239', '179221', '6251', '722', '47978', '48584', '59404', '60482', '60857', '68263', '72131', '27456', '51094', '6400', '62265', '64511', '72591', '80941', '94109', '99005', '101765', '102072', '5436', '8221', '8272', '8696', '41411', '41831', '54612', '58706', '6318', '26539', '27220', '47525', '55205', '58492', '58808', '79910', '89650', '91505', '97470', '103366', '112580', '113313', '128695', '8938', '82931', '101893', '108041', '108787', '110645', '118924', '130087', '133185', '151459', '165969', '3797', '4049', '4320', '4453', '5422', '5625', '6148', '6272', '6751', '6949', '7025', '7157', '7259', '7372', '26778', '26925', '27391', '31539', '32170', '32584', '33134', '33558', '33819', '45361', '45525', '45664', '46430', '46574', '46919', '47976', '48711', '48879', '49205', '49280', '49817', '50147', '50858', '51024', '51847', '51903', '53569', '53574', '54094', '54116', '54510', '55652', '55729', '58246', '58783', '59000', '59295', '59549', '59908', '59910', '59912', '59915', '60322', '62586', '62799', '63481', '65588', '65631', '65772', '67138', '67784', '67999', '68028', '70687', '71876', '72919', '73718', '74131', '76127', '76755', '78774', '79187', '127218', '128089', '151315', '165103', '166721', '168712', '170357', '170411', '174815', '177607', '178613', '183619', '185435', '4715', '5458', '26686', '87975', '32721', '2853', '3218', '4863', '5980', '6121', '6140', '6671', '7920', '8196', '26527', '34292', '63676', '161594', '165639', '406', '134246', '43897', '80139', '96467', '99110', '100169', '103319', '106220', '109864', '115991', '118101', '120807', '123947', '127158', '127204', '146682', '157373', '157797', '157853', '159849', '394', '32600', '85885', '104631', '105519', '112087', '179409', '3026', '44815', '48159', '50440', '51082', '52715', '7299', '25737', '69945', '1899', '1656', '5779', '6065', '26226', '74580', '103624', '820', '1058', '1534', '2415', '2742', '3215', '3333', '3734', '3737', '3816', '4046', '4347', '4391', '4530', '4791', '5088', '5272', '5314', '5447', '5619', '5653', '5885', '5928', '6056', '6119', '6366', '6454', '6467', '6522', '6610', '6875', '7109', '7152', '7211', '7241', '7358', '7455', '7490', '7561', '7615', '7761', '7922', '8456', '8582', '8796', '8799', '25900', '25954', '25995', '26005', '26012', '26048', '26090', '26117', '26231', '26270', '26282', '26393', '26493', '26512', '26674', '26761', '26797', '26812', '27340', '27515', '27571', '27620', '27627', '27744', '27828', '31116', '31617', '31702', '32022', '32058', '32509', '32659', '32792', '33270', '33451', '34499', '38188', '38198', '39369', '41699', '44657', '47493', '49513', '50151', '50183', '50356', '52199', '53766', '54121', '55726', '59832', '60137', '61937', '64236', '65045', '66330', '68874', '70102', '70133', '70201', '70521', '71246', '71302', '71695', '71867', '72039', '72249', '72485', '73270', '73713', '73885', '74204', '74327', '78335', '78633', '78703', '79541', '79874', '80775', '81191', '82059', '82848', '83059', '83318', '83411', '83506', '83796', '84240', '84770', '84847', '84855', '86578', '88911', '88977', '89217', '90428', '90933', '91035', '91597', '91929', '92637', '93842', '93933', '93939', '94074', '94401', '95218', '96664', '96991', '97065', '97388', '97933', '99217', '99415', '101186', '101942', '102160', '102286', '104883', '106163', '107117', '107718', '108156', '108791', '115965', '116801', '120863', '136447', '151311', '151317', '160644', '165337', '168286', '169656', '170947', '179331', '183613', '184023', '184399', '184721', '186863', '187717', '5975', '3001', '3971', '614', '713', '27704', '184', '496', '997', '1369', '1508', '1543', '1864', '2715', '2741', '2839', '3128', '4060', '4272', '4627', '4897', '5058', '5118', '5153', '5249', '5256', '5842', '6200', '6201', '6221', '6327', '6525', '6592', '6729', '6756', '7283', '7314', '7395', '8924', '26230', '31930', '46194', '53406', '53988', '61678', '78207', '90343', '99106', '105254', '121035', '26915', '1509', '4977', '110453', '147847', '134184', '26453', '51660', '85565', '92498', '128320', '45412', '159441', '61948', '80858', '3641', '36539', '36931', '39441', '45335', '58709', '59590', '65612', '27671', '39421', '57536', '57655', '58334', '96700', '106165', '106749', '130496', '3902', '33629', '103621', '4695', '4746', '4817', '4926', '5947', '6041', '6964', '7039', '8158', '8675', '8710', '25773', '26289', '26491', '26577', '26695', '31770', '31903', '32139', '32632', '33722', '40681', '48575', '49615', '51063', '52495', '55110', '55209', '55851', '57243', '59621', '60389', '62378', '65256', '66801', '68612', '71550', '76866', '77316', '79029', '79318', '80820', '82173', '82934', '83827', '83910', '86412', '88950', '89369', '89386', '90350', '90592', '91323', '92236', '93324', '94130', '94752', '95508', '96302', '97232', '98054', '98193', '98973', '99811', '99817', '100226', '100336', '101106', '102378', '103572', '103669', '105053', '106102', '106197', '106332', '108949', '109627', '110390', '111245', '113089', '113315', '113532', '114378', '115538', '127148', '127164', '131433', '131920', '134204', '141050', '142084', '145064', '150674', '152290', '154051', '154358', '156944', '157851', '160656', '164540', '164931', '165491', '171315', '6746', '180987', '125914', '131023', '173161', '188797', '67', '8755', '26302', '33136', '33168', '3667', '3673', '52424', '72424', '4581', '4991', '94323', '53859', '4064', '5946', '6775', '6519', '57522', '66659', '180231', '185585', '4588', '7118', '5359', '89490', '166291', '3472', '4341', '4445', '4786', '5307', '5819', '5986', '6207', '6641', '6741', '6813', '6897', '7079', '7492', '7638', '7650', '8024', '8375', '8587', '30991', '32011', '34129', '34643', '2578', '2705', '25959', '26010', '7620', '2104', '4078', '4140', '5240', '110639', '111249', '143990', '7577', '27797', '56511', '1679', '1849', '2260', '2298', '2350', '3003', '3216', '3331', '3474', '3491', '3781', '3804', '3848', '3913', '3941', '4065', '4094', '4156', '4430', '4490', '4524', '4611', '4653', '4659', '4706', '4716', '4752', '4753', '4764', '4777', '4853', '5029', '5084', '5155', '5160', '5162', '5185', '5188', '5189', '5206', '5210', '5217', '5227', '5306', '5344', '5429', '5519', '5542', '5622', '5658', '5695', '5703', '5709', '5743', '5760', '5761', '5774', '5855', '5857', '6044', '6050', '6087', '6105', '6111', '6176', '6255', '6406', '6469', '6505', '6575', '6585', '6651', '6656', '6804', '6841', '6900', '6994', '7006', '7019', '7021', '7103', '7183', '7185', '7191', '7202', '7229', '7230', '7274', '7275', '7280', '7281', '7284', '7613', '7626', '7727', '7826', '7885', '7900', '7933', '8092', '8137', '8187', '8201', '8206', '8259', '8395', '8626', '8655', '8661', '8701', '8747', '8769', '8780', '8822', '8823', '8854', '8885', '8886', '8893', '8986', '25802', '26181', '26187', '31026', '31747', '32149', '34170', '43906', '53887', '4607', '74475', '4139', '5987', '6485', '77264', '31664', '53022', '1428', '2758', '3610', '3921', '5949', '7818', '44844', '1723', '47394', '96834', '121171', '98', '1685', '8702', '8726', '26448', '33688', '40342', '44900', '47937', '49524', '66354', '99530', '109740', '114244', '4731', '5351', '7888', '3611', '3775', '5164', '6423', '6829', '6834', '7707', '111436', '6513', '32591', '2911', '5486', '6072', '54270', '60894', '70607', '71239', '71571', '77191', '79590', '91660', '92234', '98239', '100737', '106540', '110295', '110750', '116893', '119655', '122888', '139721', '162478', '162590', '169164', '171491', '173209', '174423', '176105', '176355', '178827', '183701', '183833', '184623', '184931', '189041', '131270', '112165', '119068', '143257', '176829', '116781', '157122', '69685', '128832', '133869', '140725', '146684', '6123', '27724', '54978', '57865', '65181', '74864', '76060', '84156', '93320', '95804', '98981', '110387', '115235', '129362', '43934', '70562', '79230', '84613', '90266', '90476', '92335', '95002', '95197', '98175', '3522', '6261', '6462', '7037', '8227', '25812', '26249', '33454', '33781', '39779', '46337', '47805', '49007', '70451', '73117', '73431', '114329', '5721', '6896', '5223', '5817', '3313', '8989', '96621', '167738', '52730', '53919', '1651', '4608', '5131', '6124', '6386', '6572', '7948', '8801', '26322', '26523', '34767', '43869', '46772', '47330', '55419', '61950', '62577', '73515', '77206', '77293', '85072', '136602', '142074', '167638', '8634', '1872', '3119', '5104', '6245', '7058', '7342', '7784', '8979', '32493', '4691', '5243', '6076', '6602', '4328', '123200', '136463', '142115', '148667', '159819', '5432', '100882', '56379', '790', '794', '847', '853', '871', '146024', '7134', '5966', '6358', '4093', '4538', '4773', '5068', '5091', '27180', '118166', '74426', '168554', '183197', '184469', '6107', '25746', '27833', '4785', '59519', '63329', '74504', '114277', '162396', '8383', '8871', '27366', '27754', '70932', '84980', '91386', '91873', '95939', '98570', '103541', '105715', '127134', '4712', '6549', '6911', '7260', '44966', '50153', '70802', '72982', '76147', '91743', '108514', '131439', '4797', '5196', '6029', '6030', '4938', '2930', '74582', '2914', '4107', '4660', '81270', '117549', '117893', '140529', '51666', '53004', '4302', '3817', '26760', '27584', '82022', '108599', '110328', '141718', '142058', '144172', '144224', '146307', '150254', '162882', '165601', '168650', '170945', '171439', '56', '525', '1890', '2039', '3393', '3883', '4118', '4137', '4860', '187067', '156706', '90645', '1519', '5856', '151687', '3590', '4197', '2627', '3318', '100342', '169842', '177287', '27044', '76301', '4001', '264', '5071', '5822', '97324', '70898', '5557', '26630', '141668', '144448', '1071', '161650', '162842', '48262', '6236', '5321', '97908', '177867', '7834', '27064', '80469', '104141', '104419', '108795', '136538', '170555', '104875', '50796', '110809', '5767', '6127', '6169', '6649', '6939', '7181', '7297', '7787', '7940', '8056', '8232', '8378', '8579', '8921', '25924', '26025', '26147', '26188', '32381', '33905', '34155', '44168', '45658', '47148', '52927', '53349', '55156', '67422', '86014', '99143', '99220', '131658', '152071', '189783', '3922', '4522', '8850', '3585', '5984', '183869', '50942', '8805', '61941', '7475', '27112', '60461', '8680', '46604', '7378', '5933', '70643', '88835', '6516', '5263', '6073', '8828', '26271', '32203', '43635', '1893', '4528', '4657', '4924', '5302', '5615', '5728', '5863', '6147', '6168', '6354', '6718', '7491', '8291', '113207', '117123', '69381', '78245', '5216', '103210', '5035', '526', '1137', '2754', '4511', '4540', '4590', '4839', '5727', '5998', '6091', '6134', '6349', '6685', '6906', '7167', '7739', '7763', '7886', '7954', '8425', '8616', '8709', '8722', '8867', '26479', '26509', '47261', '53131', '4934', '5795', '113715', '127146', '39529', '7832', '7833', '7835', '26317', '26749', '1434', '3345', '26463', '60818', '90620', '112512', '142452', '152173', '2778', '1470', '6449', '3486', '3575', '4964', '5396', '5832', '6487', '7083', '7884', '50705', '4469', '4930', '40697', '102217', '114082', '118890', '60649', '1070', '3419', '3792', '3878', '3934', '4114', '4330', '4435', '6390', '6630', '7702', '8013', '4201', '2307', '2674', '51174', '54967', '71728', '1316', '42172', '7262', '71688', '1514', '120468', '4199', '6642', '5496', '5907', '6328', '6828', '6859', '8454', '25975', '27776', '37287', '37955', '39768', '49330', '49394', '58874', '59976', '73208', '82633', '53', '573', '6324', '7388', '1420', '1448', '43838', '116975', '1669', '3540', '3580', '3874', '4136', '4206', '4606', '4631', '4737', '4959', '4968', '5086', '6419', '6895', '7249', '7313', '8057', '8063', '8725', '8868', '97832', '115502', '147196', '183589', '185001', '187611', '7082', '7085', '7420', '7571', '7839', '8487', '8714', '25920', '26342', '45969', '47566', '53138', '6330', '5148', '7002', '106873', '142450', '763', '845', '31894', '65796', '27887', '78655', '82926', '91483', '108579', '108760', '111551', '135216', '157326', '165645', '168714', '171881', '179247', '179333', '187231', '2768', '4780', '40955', '46559', '57845', '78313', '2744', '4763', '6557', '65899', '7125', '79895', '85399', '96596', '100093', '104218', '108200', '109189', '109372', '109461', '110039', '110826', '110899', '111320', '112277', '112497', '113364', '113394', '114704', '114849', '115471', '117511', '120132', '126575', '129372', '129657', '130618', '130976', '132632', '133545', '134775', '140341', '140627', '150604', '188307', '188749', '192307', '7882', '8421', '9014', '25946', '34538', '58223', '5365', '26973', '34065', '58439', '75351', '402', '682', '730', '795', '816', '821', '843', '895', '1098', '1102', '1436', '1531', '27518', '55098', '58111', '83264', '89554', '139148', '171611', '7197', '55854', '77177', '120815', '92904', '94024', '103474', '64900', '69654', '142032', '164147', '108977', '4819', '184017', '191799', '6924', '8683', '1045', '3806', '5815', '26562', '40952', '8774', '51498', '26792', '148652', '61373', '132157', '7306', '26269', '27800', '27865', '52299', '62801', '80648', '34411', '42385', '47084', '26199', '118466', '167', '99087', '104274', '116985', '65738', '5526', '5884', '32743', '5224', '78321', '1053', '6391', '6473', '7402', '27876', '5598', '51372', '58652', '102956', '3609', '7066', '8748', '107408', '4032', '4073', '6011', '2910', '3284', '3875', '4908', '5175', '6277', '6416', '6760', '7764', '8123', '31892', '34645', '37785', '43009', '48972', '57550', '65660', '72035', '74791', '76860', '81456', '86668', '94410', '96520', '103685', '104231', '107987', '108220', '115437', '129011', '49282', '1075', '4751', '71537', '78759', '95443', '114692', '129820', '141846', '151695', '170629', '176567', '27735', '6190', '91671', '97462', '7789', '3073', '69542', '4960', '4923', '6749', '7675', '81520', '88237', '690', '1123', '1138', '1486', '1664', '1768', '1871', '1879', '2129', '2157', '2192', '2486', '2487', '2543', '2825', '2869', '2960', '2994', '3047', '3192', '3378', '3853', '3860', '4048', '4074', '4208', '4253', '4261', '4384', '4503', '4513', '4702', '4779', '4836', '4884', '4946', '5024', '5098', '5158', '5186', '5276', '5285', '5327', '5328', '5350', '5467', '5484', '5512', '5575', '5664', '5687', '5769', '5813', '5848', '6017', '6042', '6161', '6241', '6267', '6293', '6352', '6376', '6382', '6384', '6468', '6471', '6488', '6692', '6696', '6717', '6752', '6928', '7176', '7194', '7580', '7742', '8422', '8524', '8617', '8651', '8698', '26487', '26497', '26501', '26596', '26731', '26734', '26850', '27255', '27316', '27513', '27550', '27843', '30747', '31030', '31188', '31584', '32464', '32979', '32988', '34314', '42740', '44587', '47150', '47646', '47670', '48342', '52037', '52545', '56095', '57453', '58381', '59107', '61646', '68690', '68838', '70093', '72491', '72718', '79927', '84137', '88127', '89638', '94746', '95604', '96314', '99795', '100717', '104712', '105869', '115172', '127110', '146196', '158382', '177243', '161024', '179415', '182315', '185443', '188541', '5647', '5513', '6871', '7338', '3687', '3722', '5737', '5738', '5740', '7170', '27784', '32352', '49110', '55498', '57520', '60806', '66915', '72601', '80083', '80162', '88248', '77731', '5181', '5595', '7239', '7244', '165119', '6437', '26139', '462', '159690', '34177', '63312', '68288', '69093', '84570', '88301', '88879', '91014', '91474', '91694', '93024', '96510', '96590', '100450', '104129', '104760', '127321', '131842', '134851', '143239', '152976', '155545', '155743', '157865', '159447', '159696', '170751', '170939', '175475', '6821', '69088', '91821', '165947', '170961', '70992', '126482', '62594', '79333', '106234', '127042', '792', '82684', '104089', '145066', '2304', '80584', '50703', '96367', '70927', '110451', '159614', '172535', '4120', '4303', '5977', '6414', '92696', '49642', '55292', '68482', '92665', '96687', '98230', '98838', '101529', '103085', '105351', '108318', '113775', '142082', '146642', '147831', '156903', '157881', '171049', '177787', '179749', '180265', '183423', '185425', '188189', '190089', '1773', '3294', '5157', '5717', '6000', '6075', '26371', '26378', '26494', '32174', '32211', '33861', '44590', '52831', '76208', '78003', '4875', '8753', '27864', '67957', '6408', '34375', '2246', '2632', '2998', '4542', '4575', '5037', '6090', '6527', '6578', '6613', '6714', '6806', '6822', '7111', '31104', '44189', '32124', '61289', '41617', '84304', '4598', '27922', '4510', '2189', '7916', '26157', '56848', '99214', '111130', '5465', '5456', '7847', '111800', '153959', '1715', '3905', '6676', '3595', '4917', '5381', '94837', '27717', '25738', '4193', '4861', '5789', '92817', '36850', '6446', '79863', '151763', '6417', '2743', '5006', '503', '5386', '86762', '94160', '4472', '43926', '53906', '6835', '34018', '40010', '55844', '4324', '32452', '43589', '59040', '60303', '64167', '78247', '85330', '92393', '92494', '92496', '92500', '93212', '95756', '103299', '103808', '109731', '111373', '112066', '114627', '114945', '115071', '116660', '125972', '132569', '135889', '136459', '142925', '144138', '146662', '150262', '155800', '167740', '66581', '68965', '70641', '4245', '46839', '47117', '120853', '8035', '8839', '27402', '38046', '44238', '61314', '163112', '2887', '6771', '7201', '8118', '8127', '27445', '31123', '49737', '50944', '55603', '59399', '59547', '61493', '61742', '69873', '70301', '74486', '74653', '82765', '83478', '87073', '88495', '93420', '94675', '95175', '102231', '103439', '104780', '107707', '108647', '109420', '110773', '121155', '129737', '134021', '134945', '139915', '141166', '141676', '146672', '147282', '148367', '162730', '170897', '172587', '172793', '3495', '5408', '26764', '77709', '93750', '146040', '171007', '113071', '177225', '59935', '8426', '142604', '142999', '5443', '5355', '5356', '1423', '6965', '136556', '3592', '6969', '7477', '38583', '54229', '72777', '78022', '95965', '98019', '102051', '115877', '173007', '157407', '92490', '110781', '114793', '133123', '140160', '175795', '1898', '32392', '6477', '132456', '184999', '72178', '85763', '130474', '143389', '5759', '88699', '94503', '96456', '119966', '68511', '68835', '107916', '33760', '95932', '25893', '652', '4507', '4707', '5295', '5770', '6398', '7897', '76108', '33823', '6182', '46653', '73370', '77154', '102154', '107910', '5697', '5700', '8003', '72261', '74436', '95588', '95782', '6231', '8595', '108797', '4106', '4984', '5251', '5587', '5931', '6248', '6814', '151645', '95193', '120474', '131080', '136467', '174181', '734', '6422', '143309', '170907', '1062', '9001', '31467', '33539', '43923', '65740', '67068', '5592', '5699', '8258', '8678', '36531', '4988', '5183', '5783', '26728', '27758', '58324', '76119', '102062', '74731', '91515', '776', '61312', '789', '1496', '3323', '5559', '115927', '5495', '45837', '69219', '170635', '25977', '118173', '94469', '3530', '5753', '5858', '7758', '6823', '7336', '73876', '1652', '2198', '8240', '8488', '27713', '36523', '67365', '105126', '2679', '3335', '3670', '8263', '26379', '34002', '42634', '49766', '5659', '26710', '47404', '114242', '136305', '78967', '26644', '62000', '57772', '66152', '66279', '76130', '113565', '128944', '140820', '142503', '189577', '5924', '5929', '6081', '44187', '6258', '25960', '32316', '45852', '53133', '64114', '68600', '78128', '91823', '92829', '94974', '2737', '141702', '26417', '50619', '1622', '4582', '4592', '4667', '4838', '5190', '5208', '5332', '3207', '8840', '128099', '1743', '7224', '109941', '6520', '5762', '31851', '38656', '47503', '49060', '49735', '65731', '89678', '95499', '101531', '104144', '105531', '115879', '121190', '128366', '133867', '134569', '137863', '139098', '142540', '153070', '116503', '26257', '72712', '109968', '131252', '32875', '1107', '170627', '26345', '5457', '128', '33113', '2464', '3202', '27738', '62383', '4087', '50909', '135867', '8257', '32666', '49389', '48791', '3322', '73741', '2242', '2602', '3560', '4335', '5331', '5399', '5918', '6070', '6562', '6826', '7184', '7890', '7898', '8932', '26256', '27524', '30721', '34648', '42556', '43022', '44115', '57041', '59834', '66943', '69131', '69904', '73413', '77266', '89862', '96304', '102922', '103277', '111259', '111389', '1822', '4651', '8760', '8935', '33685', '3126', '27867', '43853', '142258', '96975', '8881', '8987', '33237', '8391', '6463', '51167', '5590', '5978', '9011', '34696', '69699', '95475', '100089', '103667', '106542', '111734', '129013', '131446', '67361', '80844', '26123', '165343', '4935', '99986', '136443', '25904', '80588', '8583', '47728', '3057', '8202', '26021', '47836', '50886', '51044', '52413', '62526', '68886', '70432', '100617', '101060', '110194', '3137', '31490', '50898', '5549', '31156', '8892', '8900', '5163', '5756', '6635', '26934', '86237', '97744', '4922', '6434', '6512', '8543', '8692', '8745', '9002', '31247', '27327', '44243', '116905', '52356', '89000', '99636', '95165', '95182', '95628', '95963', '102058', '103233', '133127', '32862', '52443', '92094', '185033', '27874', '8794', '5413', '5778', '8168', '58146', '61692', '72041', '82366', '89060', '90945', '111663', '164141', '2740', '88706', '130518', '146002', '1360', '5599', '6257', '6604', '7302', '25801', '26049', '33264', '48638', '61724', '68956', '61267', '104520', '47956', '7050', '33188', '3149', '3493', '3940', '8855', '26248', '26383', '26540', '27461', '32385', '44245', '4196', '884', '60463', '79259', '87405', '89377', '95473', '98445', '101971', '103275', '109423', '6053', '183227', '79226', '82150', '86723', '5710', '63458', '3924', '1901', '27683', '151501', '6551', '26134', '7232', '126084', '135264', '136239', '34045', '65927', '66302', '72369', '103639', '105343', '115871', '115973', '133769', '139575', '6174', '44582', '61100', '63828', '83332', '139106', '27326', '79769', '88069', '91844', '94663', '135875', '33296', '27049', '151675', '160684', '176681', '186985', '26265', '114486', '8743', '72159', '129032', '7901', '25757', '26370', '71160', '77810', '108566', '133767', '26483', '130842', '86244', '8898', '163955', '439', '33340', '70670', '103723', '6009', '26567', '71374', '157671', '60803', '103996', '130582', '5209', '7697', '69136', '40226', '165219', '6510', '53450', '3463', '6569', '7204', '1142', '130347', '26828', '26966', '4650', '5126', '5972', '6825', '6923', '7267', '133139', '133167', '71490', '53355', '183909', '33644', '50583', '69372', '6925', '172255', '4536', '151735', '163981', '3303', '6439', '6759', '55391', '79760', '94967', '112436', '116529', '127144', '132056', '151707', '159972', '163771', '165353', '787', '6910', '7921', '8138', '25736', '49571', '54605', '113640', '27162', '8198', '4594', '5798', '6704', '7405', '8407', '26219', '26841', '26871', '26940', '27798', '65817', '87960', '92719', '99413', '103816', '8572', '163949', '171207', '32668', '8903', '30949', '70637', '46959', '130052', '170799', '176551', '177883', '134867', '1149', '80181', '6438', '5706', '5913', '26803', '121253', '145994', '26958', '48035', '60579', '90939', '3630', '69830', '81403', '82904', '90899', '99532', '4249', '4937', '6451', '7723', '8222', '8818', '4431', '7049', '4363', '95670', '7053', '8381', '157270', '170817', '86574', '132555', '136457', '165483', '37335', '54196', '5567', '100194', '41912', '8423', '75446', '27170', '7077', '32162', '37626', '59173', '68173', '32781', '7406', '3644', '2608', '4050', '5301', '7287', '3942', '74541', '55566', '141402', '6355', '52285', '8611', '41753', '77353', '141131', '71390', '76158', '756', '165239', '6206', '5593', '37844', '44717', '109802', '7188', '93980', '168632', '96473', '185927', '1315', '4096', '5057', '6083', '25906', '26038', '26465', '100322', '8374', '2444', '71991', '57854', '34579', '38843', '27528', '26834', '31284', '95839', '6740', '98013', '102245', '27509', '135753', '141812', '26388', '44671', '7253', '8852', '7774', '64650', '7190', '106344', '168722', '3443', '8649', '5917', '149186', '61215', '26612', '1886', '1903', '4051', '146604', '27365', '7331', '26176', '40752', '45611', '83359', '89045', '6139', '138230', '7914', '99994', '76753', '6128', '96283', '26189', '8658', '26684', '26741', '27641', '32511', '73049', '74818', '89170', '164983', '141810', '5195', '32395', '71503', '73462', '1052', '66511', '8663', '63194', '7309', '75816', '140581', '559', '191999', '5494', '27357', '86279', '7457', '123571', '135625', '1143', '180737', '7946', '180555', '8236', '56350', '104431', '164369', '165421', '398', '7192', '53808', '32906', '60551', '26676', '88724', '76680', '47868', '103449', '69498', '130044', '819', '6499', '166149', '6588', '87549', '4955'] \n",
            "\n",
            "Файл genome_scores имеет размер (14862528, 3)\n",
            "Коллонки: ['movieId', 'tagId', 'relevance'] \n",
            "\n",
            "Файл genome_tags имеет размер (1128, 2)\n",
            "Коллонки: ['tagId', 'tag'] \n",
            "\n",
            "Файл movies имеет размер (58098, 3)\n",
            "Коллонки: ['movieId', 'title', 'genres'] \n",
            "\n",
            "Файл tags имеет размер (1108997, 4)\n",
            "Коллонки: ['userId', 'movieId', 'tag', 'timestamp'] \n",
            "\n"
          ]
        }
      ]
    },
    {
      "cell_type": "markdown",
      "source": [
        "## Feature's users"
      ],
      "metadata": {
        "id": "COafLQrtPhWS"
      }
    },
    {
      "cell_type": "code",
      "source": [
        "user_movie.userId.unique().shape"
      ],
      "metadata": {
        "colab": {
          "base_uri": "https://localhost:8080/"
        },
        "id": "wFPvNsizUwtv",
        "outputId": "a37b3542-33b5-4ba7-a37c-eb2e69aff588"
      },
      "execution_count": 9,
      "outputs": [
        {
          "output_type": "execute_result",
          "data": {
            "text/plain": [
              "(5566,)"
            ]
          },
          "metadata": {},
          "execution_count": 9
        }
      ]
    },
    {
      "cell_type": "code",
      "source": [
        "summ = user_movie.drop(columns='userId').sum(axis=1) # сумма всех оценок каждого пользователя\n",
        "summ"
      ],
      "metadata": {
        "id": "oPslGwDudjAM",
        "colab": {
          "base_uri": "https://localhost:8080/"
        },
        "outputId": "9a3c452f-b4fe-47cd-c62c-a4f1f15904c4"
      },
      "execution_count": 9,
      "outputs": [
        {
          "output_type": "execute_result",
          "data": {
            "text/plain": [
              "0        2500.5\n",
              "1         307.0\n",
              "2         149.0\n",
              "3         104.0\n",
              "4         507.0\n",
              "          ...  \n",
              "30024     271.0\n",
              "30025    6202.5\n",
              "30026     725.0\n",
              "30027     114.0\n",
              "30028     176.0\n",
              "Length: 30029, dtype: float64"
            ]
          },
          "metadata": {},
          "execution_count": 9
        }
      ]
    },
    {
      "cell_type": "code",
      "source": [
        "summ = user_movie_raw.groupby('userId')['rating'].sum()\n",
        "summ"
      ],
      "metadata": {
        "colab": {
          "base_uri": "https://localhost:8080/"
        },
        "id": "4K4oHff4SxRq",
        "outputId": "02710dfd-aab6-49f0-c6fc-7fc98cf25467"
      },
      "execution_count": 11,
      "outputs": [
        {
          "output_type": "execute_result",
          "data": {
            "text/plain": [
              "userId\n",
              "4         2500.5\n",
              "5          307.0\n",
              "6          149.0\n",
              "8          104.0\n",
              "10         507.0\n",
              "           ...  \n",
              "283219     328.0\n",
              "283221     129.0\n",
              "283222     240.0\n",
              "283224    1228.0\n",
              "283228     490.5\n",
              "Name: rating, Length: 143545, dtype: float64"
            ]
          },
          "metadata": {},
          "execution_count": 11
        }
      ]
    },
    {
      "cell_type": "code",
      "source": [
        "# признак mean_score, quan_cnt сделаем из файла user_movie_raw\n",
        "# user_movie_raw.sketch.howto('count rating for every userId ')"
      ],
      "metadata": {
        "id": "hblpGWaSaJ-2",
        "colab": {
          "base_uri": "https://localhost:8080/",
          "height": 52
        },
        "outputId": "2060efaf-d199-48c1-ed79-a933b96296e6"
      },
      "execution_count": 13,
      "outputs": [
        {
          "output_type": "display_data",
          "data": {
            "text/plain": [
              "<IPython.core.display.HTML object>"
            ],
            "text/html": [
              "<div style=\"display:flex;flex-direction:row;justify-content:space-between;\">\n",
              "                <pre style=\"width: 100%; white-space: pre-wrap;\" id=\"862fead6-998b-4322-9c7d-20fde0d9cd1f\">\n",
              "# Count rating for every userId\n",
              "user_rating_count = user_movie_raw.groupby('userId')['rating'].count()\n",
              "</pre>\n",
              "                <button style=\"height: fit-content;\" onclick=\"navigator.clipboard.writeText(JSON.parse(atob(`IlxuIyBDb3VudCByYXRpbmcgZm9yIGV2ZXJ5IHVzZXJJZFxudXNlcl9yYXRpbmdfY291bnQgPSB1c2VyX21vdmllX3Jhdy5ncm91cGJ5KCd1c2VySWQnKVsncmF0aW5nJ10uY291bnQoKVxuIg==`)))\">Copy</button>\n",
              "                </div>"
            ]
          },
          "metadata": {}
        }
      ]
    },
    {
      "cell_type": "code",
      "source": [
        "user_rating_count = user_movie_raw.groupby('userId')['rating'].count()\n",
        "user_rating_count"
      ],
      "metadata": {
        "colab": {
          "base_uri": "https://localhost:8080/"
        },
        "id": "mghQWEYMOStV",
        "outputId": "4d78ac5d-bce2-4479-b57f-119464328166"
      },
      "execution_count": 12,
      "outputs": [
        {
          "output_type": "execute_result",
          "data": {
            "text/plain": [
              "userId\n",
              "4         736\n",
              "5          72\n",
              "6          42\n",
              "8          31\n",
              "10        121\n",
              "         ... \n",
              "283219     81\n",
              "283221     35\n",
              "283222     69\n",
              "283224    329\n",
              "283228    113\n",
              "Name: rating, Length: 143545, dtype: int64"
            ]
          },
          "metadata": {},
          "execution_count": 12
        }
      ]
    },
    {
      "cell_type": "code",
      "source": [
        "# среднее значение оценки для каждого пользователя\n",
        "mea_score = user_movie_raw.groupby('userId')['rating'].mean()"
      ],
      "metadata": {
        "id": "81vjLiCWLEhz"
      },
      "execution_count": 13,
      "outputs": []
    },
    {
      "cell_type": "code",
      "source": [
        "user_movie_raw.userId.unique()"
      ],
      "metadata": {
        "colab": {
          "base_uri": "https://localhost:8080/"
        },
        "id": "rFDsEu85PHlM",
        "outputId": "7e3efac1-95b3-4106-96e7-760c6694e25c"
      },
      "execution_count": 28,
      "outputs": [
        {
          "output_type": "execute_result",
          "data": {
            "text/plain": [
              "(143545,)"
            ]
          },
          "metadata": {},
          "execution_count": 28
        }
      ]
    },
    {
      "cell_type": "code",
      "source": [
        "# Create a list of movieIds from user_movie\n",
        "user_movie_ids = user_movie_raw['movieId'].unique().tolist()  \n",
        "user_movie_ids"
      ],
      "metadata": {
        "id": "DiaAJUFxQFhr"
      },
      "execution_count": null,
      "outputs": []
    },
    {
      "cell_type": "code",
      "source": [
        "# Create a list of movieIds from user_movie\n",
        "user_movie_ids = user_movie_raw['movieId'].unique().tolist()  \n",
        "\n",
        "# Filter the genome_scores dataframe to only include movieIds in the user_movie_raw list\n",
        "movies = movies[genome_scores['movieId'].isin(user_movie_ids)]\n",
        "movies"
      ],
      "metadata": {
        "colab": {
          "base_uri": "https://localhost:8080/",
          "height": 458
        },
        "id": "pLk_qKmaPyP5",
        "outputId": "8290e7c7-9a51-45cb-fced-41d28cfa3e8d"
      },
      "execution_count": 25,
      "outputs": [
        {
          "output_type": "stream",
          "name": "stderr",
          "text": [
            "<ipython-input-25-cc634af51ef9>:5: UserWarning: Boolean Series key will be reindexed to match DataFrame index.\n",
            "  movies = movies[genome_scores['movieId'].isin(user_movie_ids)]\n"
          ]
        },
        {
          "output_type": "execute_result",
          "data": {
            "text/plain": [
              "       movieId                                    title  \\\n",
              "0            1                         Toy Story (1995)   \n",
              "1            2                           Jumanji (1995)   \n",
              "2            3                  Grumpier Old Men (1995)   \n",
              "3            4                 Waiting to Exhale (1995)   \n",
              "4            5       Father of the Bride Part II (1995)   \n",
              "...        ...                                      ...   \n",
              "58093   193876                  The Great Glinka (1946)   \n",
              "58094   193878  Les tribulations d'une caissière (2011)   \n",
              "58095   193880                 Her Name Was Mumu (2016)   \n",
              "58096   193882                             Flora (2017)   \n",
              "58097   193886                              Leal (2018)   \n",
              "\n",
              "                                            genres  \n",
              "0      Adventure|Animation|Children|Comedy|Fantasy  \n",
              "1                       Adventure|Children|Fantasy  \n",
              "2                                   Comedy|Romance  \n",
              "3                             Comedy|Drama|Romance  \n",
              "4                                           Comedy  \n",
              "...                                            ...  \n",
              "58093                           (no genres listed)  \n",
              "58094                                       Comedy  \n",
              "58095                                        Drama  \n",
              "58096                Adventure|Drama|Horror|Sci-Fi  \n",
              "58097                           Action|Crime|Drama  \n",
              "\n",
              "[58098 rows x 3 columns]"
            ],
            "text/html": [
              "\n",
              "  <div id=\"df-fe3849aa-d74f-4976-a922-3c98dbba6618\">\n",
              "    <div class=\"colab-df-container\">\n",
              "      <div>\n",
              "<style scoped>\n",
              "    .dataframe tbody tr th:only-of-type {\n",
              "        vertical-align: middle;\n",
              "    }\n",
              "\n",
              "    .dataframe tbody tr th {\n",
              "        vertical-align: top;\n",
              "    }\n",
              "\n",
              "    .dataframe thead th {\n",
              "        text-align: right;\n",
              "    }\n",
              "</style>\n",
              "<table border=\"1\" class=\"dataframe\">\n",
              "  <thead>\n",
              "    <tr style=\"text-align: right;\">\n",
              "      <th></th>\n",
              "      <th>movieId</th>\n",
              "      <th>title</th>\n",
              "      <th>genres</th>\n",
              "    </tr>\n",
              "  </thead>\n",
              "  <tbody>\n",
              "    <tr>\n",
              "      <th>0</th>\n",
              "      <td>1</td>\n",
              "      <td>Toy Story (1995)</td>\n",
              "      <td>Adventure|Animation|Children|Comedy|Fantasy</td>\n",
              "    </tr>\n",
              "    <tr>\n",
              "      <th>1</th>\n",
              "      <td>2</td>\n",
              "      <td>Jumanji (1995)</td>\n",
              "      <td>Adventure|Children|Fantasy</td>\n",
              "    </tr>\n",
              "    <tr>\n",
              "      <th>2</th>\n",
              "      <td>3</td>\n",
              "      <td>Grumpier Old Men (1995)</td>\n",
              "      <td>Comedy|Romance</td>\n",
              "    </tr>\n",
              "    <tr>\n",
              "      <th>3</th>\n",
              "      <td>4</td>\n",
              "      <td>Waiting to Exhale (1995)</td>\n",
              "      <td>Comedy|Drama|Romance</td>\n",
              "    </tr>\n",
              "    <tr>\n",
              "      <th>4</th>\n",
              "      <td>5</td>\n",
              "      <td>Father of the Bride Part II (1995)</td>\n",
              "      <td>Comedy</td>\n",
              "    </tr>\n",
              "    <tr>\n",
              "      <th>...</th>\n",
              "      <td>...</td>\n",
              "      <td>...</td>\n",
              "      <td>...</td>\n",
              "    </tr>\n",
              "    <tr>\n",
              "      <th>58093</th>\n",
              "      <td>193876</td>\n",
              "      <td>The Great Glinka (1946)</td>\n",
              "      <td>(no genres listed)</td>\n",
              "    </tr>\n",
              "    <tr>\n",
              "      <th>58094</th>\n",
              "      <td>193878</td>\n",
              "      <td>Les tribulations d'une caissière (2011)</td>\n",
              "      <td>Comedy</td>\n",
              "    </tr>\n",
              "    <tr>\n",
              "      <th>58095</th>\n",
              "      <td>193880</td>\n",
              "      <td>Her Name Was Mumu (2016)</td>\n",
              "      <td>Drama</td>\n",
              "    </tr>\n",
              "    <tr>\n",
              "      <th>58096</th>\n",
              "      <td>193882</td>\n",
              "      <td>Flora (2017)</td>\n",
              "      <td>Adventure|Drama|Horror|Sci-Fi</td>\n",
              "    </tr>\n",
              "    <tr>\n",
              "      <th>58097</th>\n",
              "      <td>193886</td>\n",
              "      <td>Leal (2018)</td>\n",
              "      <td>Action|Crime|Drama</td>\n",
              "    </tr>\n",
              "  </tbody>\n",
              "</table>\n",
              "<p>58098 rows × 3 columns</p>\n",
              "</div>\n",
              "      <button class=\"colab-df-convert\" onclick=\"convertToInteractive('df-fe3849aa-d74f-4976-a922-3c98dbba6618')\"\n",
              "              title=\"Convert this dataframe to an interactive table.\"\n",
              "              style=\"display:none;\">\n",
              "        \n",
              "  <svg xmlns=\"http://www.w3.org/2000/svg\" height=\"24px\"viewBox=\"0 0 24 24\"\n",
              "       width=\"24px\">\n",
              "    <path d=\"M0 0h24v24H0V0z\" fill=\"none\"/>\n",
              "    <path d=\"M18.56 5.44l.94 2.06.94-2.06 2.06-.94-2.06-.94-.94-2.06-.94 2.06-2.06.94zm-11 1L8.5 8.5l.94-2.06 2.06-.94-2.06-.94L8.5 2.5l-.94 2.06-2.06.94zm10 10l.94 2.06.94-2.06 2.06-.94-2.06-.94-.94-2.06-.94 2.06-2.06.94z\"/><path d=\"M17.41 7.96l-1.37-1.37c-.4-.4-.92-.59-1.43-.59-.52 0-1.04.2-1.43.59L10.3 9.45l-7.72 7.72c-.78.78-.78 2.05 0 2.83L4 21.41c.39.39.9.59 1.41.59.51 0 1.02-.2 1.41-.59l7.78-7.78 2.81-2.81c.8-.78.8-2.07 0-2.86zM5.41 20L4 18.59l7.72-7.72 1.47 1.35L5.41 20z\"/>\n",
              "  </svg>\n",
              "      </button>\n",
              "      \n",
              "  <style>\n",
              "    .colab-df-container {\n",
              "      display:flex;\n",
              "      flex-wrap:wrap;\n",
              "      gap: 12px;\n",
              "    }\n",
              "\n",
              "    .colab-df-convert {\n",
              "      background-color: #E8F0FE;\n",
              "      border: none;\n",
              "      border-radius: 50%;\n",
              "      cursor: pointer;\n",
              "      display: none;\n",
              "      fill: #1967D2;\n",
              "      height: 32px;\n",
              "      padding: 0 0 0 0;\n",
              "      width: 32px;\n",
              "    }\n",
              "\n",
              "    .colab-df-convert:hover {\n",
              "      background-color: #E2EBFA;\n",
              "      box-shadow: 0px 1px 2px rgba(60, 64, 67, 0.3), 0px 1px 3px 1px rgba(60, 64, 67, 0.15);\n",
              "      fill: #174EA6;\n",
              "    }\n",
              "\n",
              "    [theme=dark] .colab-df-convert {\n",
              "      background-color: #3B4455;\n",
              "      fill: #D2E3FC;\n",
              "    }\n",
              "\n",
              "    [theme=dark] .colab-df-convert:hover {\n",
              "      background-color: #434B5C;\n",
              "      box-shadow: 0px 1px 3px 1px rgba(0, 0, 0, 0.15);\n",
              "      filter: drop-shadow(0px 1px 2px rgba(0, 0, 0, 0.3));\n",
              "      fill: #FFFFFF;\n",
              "    }\n",
              "  </style>\n",
              "\n",
              "      <script>\n",
              "        const buttonEl =\n",
              "          document.querySelector('#df-fe3849aa-d74f-4976-a922-3c98dbba6618 button.colab-df-convert');\n",
              "        buttonEl.style.display =\n",
              "          google.colab.kernel.accessAllowed ? 'block' : 'none';\n",
              "\n",
              "        async function convertToInteractive(key) {\n",
              "          const element = document.querySelector('#df-fe3849aa-d74f-4976-a922-3c98dbba6618');\n",
              "          const dataTable =\n",
              "            await google.colab.kernel.invokeFunction('convertToInteractive',\n",
              "                                                     [key], {});\n",
              "          if (!dataTable) return;\n",
              "\n",
              "          const docLinkHtml = 'Like what you see? Visit the ' +\n",
              "            '<a target=\"_blank\" href=https://colab.research.google.com/notebooks/data_table.ipynb>data table notebook</a>'\n",
              "            + ' to learn more about interactive tables.';\n",
              "          element.innerHTML = '';\n",
              "          dataTable['output_type'] = 'display_data';\n",
              "          await google.colab.output.renderOutput(dataTable, element);\n",
              "          const docLink = document.createElement('div');\n",
              "          docLink.innerHTML = docLinkHtml;\n",
              "          element.appendChild(docLink);\n",
              "        }\n",
              "      </script>\n",
              "    </div>\n",
              "  </div>\n",
              "  "
            ]
          },
          "metadata": {},
          "execution_count": 25
        }
      ]
    },
    {
      "cell_type": "code",
      "source": [
        "# movies.sketch.howto('In column == genres split values by \"|\" and ')"
      ],
      "metadata": {
        "id": "n7q5shIspesA"
      },
      "execution_count": null,
      "outputs": []
    },
    {
      "cell_type": "code",
      "source": [
        "ser = pd.Series(list(movies['genres'].str.split('|'))) # серия жанров (выбрать только нужные MovieId из )\n",
        "ser"
      ],
      "metadata": {
        "colab": {
          "base_uri": "https://localhost:8080/"
        },
        "id": "rgkV3edTpwvr",
        "outputId": "8b1e7d04-22e1-4ed9-be81-1786fcef309a"
      },
      "execution_count": null,
      "outputs": [
        {
          "output_type": "execute_result",
          "data": {
            "text/plain": [
              "0        [Adventure, Animation, Children, Comedy, Fantasy]\n",
              "1                           [Adventure, Children, Fantasy]\n",
              "2                                        [Comedy, Romance]\n",
              "3                                 [Comedy, Drama, Romance]\n",
              "4                                                 [Comedy]\n",
              "                               ...                        \n",
              "58093                                 [(no genres listed)]\n",
              "58094                                             [Comedy]\n",
              "58095                                              [Drama]\n",
              "58096                   [Adventure, Drama, Horror, Sci-Fi]\n",
              "58097                               [Action, Crime, Drama]\n",
              "Length: 58098, dtype: object"
            ]
          },
          "metadata": {},
          "execution_count": 11
        }
      ]
    },
    {
      "cell_type": "code",
      "source": [
        "ser.values[0]"
      ],
      "metadata": {
        "colab": {
          "base_uri": "https://localhost:8080/"
        },
        "id": "d-SIh5blBKj6",
        "outputId": "c8c70ef3-9483-44b6-e4e7-23ad99941f0c"
      },
      "execution_count": null,
      "outputs": [
        {
          "output_type": "execute_result",
          "data": {
            "text/plain": [
              "['Adventure', 'Animation', 'Children', 'Comedy', 'Fantasy']"
            ]
          },
          "metadata": {},
          "execution_count": 28
        }
      ]
    },
    {
      "cell_type": "code",
      "source": [
        "all_genres = set()\n",
        "for \n",
        "for genre in ser.values:\n"
      ],
      "metadata": {
        "id": "UDSGHi39BBzs"
      },
      "execution_count": null,
      "outputs": []
    },
    {
      "cell_type": "markdown",
      "source": [
        "## Feature's movies"
      ],
      "metadata": {
        "id": "w96ZiXCJXFmX"
      }
    },
    {
      "cell_type": "code",
      "source": [
        "genome_tags.head()"
      ],
      "metadata": {
        "colab": {
          "base_uri": "https://localhost:8080/",
          "height": 206
        },
        "id": "oup2GDAAujxM",
        "outputId": "4791a708-fe50-412f-8c1f-72e0df40890e"
      },
      "execution_count": null,
      "outputs": [
        {
          "output_type": "execute_result",
          "data": {
            "text/plain": [
              "   tagId           tag\n",
              "0      1           007\n",
              "1      2  007 (series)\n",
              "2      3  18th century\n",
              "3      4         1920s\n",
              "4      5         1930s"
            ],
            "text/html": [
              "\n",
              "  <div id=\"df-051499b2-c96c-4ccc-86d4-419785199595\">\n",
              "    <div class=\"colab-df-container\">\n",
              "      <div>\n",
              "<style scoped>\n",
              "    .dataframe tbody tr th:only-of-type {\n",
              "        vertical-align: middle;\n",
              "    }\n",
              "\n",
              "    .dataframe tbody tr th {\n",
              "        vertical-align: top;\n",
              "    }\n",
              "\n",
              "    .dataframe thead th {\n",
              "        text-align: right;\n",
              "    }\n",
              "</style>\n",
              "<table border=\"1\" class=\"dataframe\">\n",
              "  <thead>\n",
              "    <tr style=\"text-align: right;\">\n",
              "      <th></th>\n",
              "      <th>tagId</th>\n",
              "      <th>tag</th>\n",
              "    </tr>\n",
              "  </thead>\n",
              "  <tbody>\n",
              "    <tr>\n",
              "      <th>0</th>\n",
              "      <td>1</td>\n",
              "      <td>007</td>\n",
              "    </tr>\n",
              "    <tr>\n",
              "      <th>1</th>\n",
              "      <td>2</td>\n",
              "      <td>007 (series)</td>\n",
              "    </tr>\n",
              "    <tr>\n",
              "      <th>2</th>\n",
              "      <td>3</td>\n",
              "      <td>18th century</td>\n",
              "    </tr>\n",
              "    <tr>\n",
              "      <th>3</th>\n",
              "      <td>4</td>\n",
              "      <td>1920s</td>\n",
              "    </tr>\n",
              "    <tr>\n",
              "      <th>4</th>\n",
              "      <td>5</td>\n",
              "      <td>1930s</td>\n",
              "    </tr>\n",
              "  </tbody>\n",
              "</table>\n",
              "</div>\n",
              "      <button class=\"colab-df-convert\" onclick=\"convertToInteractive('df-051499b2-c96c-4ccc-86d4-419785199595')\"\n",
              "              title=\"Convert this dataframe to an interactive table.\"\n",
              "              style=\"display:none;\">\n",
              "        \n",
              "  <svg xmlns=\"http://www.w3.org/2000/svg\" height=\"24px\"viewBox=\"0 0 24 24\"\n",
              "       width=\"24px\">\n",
              "    <path d=\"M0 0h24v24H0V0z\" fill=\"none\"/>\n",
              "    <path d=\"M18.56 5.44l.94 2.06.94-2.06 2.06-.94-2.06-.94-.94-2.06-.94 2.06-2.06.94zm-11 1L8.5 8.5l.94-2.06 2.06-.94-2.06-.94L8.5 2.5l-.94 2.06-2.06.94zm10 10l.94 2.06.94-2.06 2.06-.94-2.06-.94-.94-2.06-.94 2.06-2.06.94z\"/><path d=\"M17.41 7.96l-1.37-1.37c-.4-.4-.92-.59-1.43-.59-.52 0-1.04.2-1.43.59L10.3 9.45l-7.72 7.72c-.78.78-.78 2.05 0 2.83L4 21.41c.39.39.9.59 1.41.59.51 0 1.02-.2 1.41-.59l7.78-7.78 2.81-2.81c.8-.78.8-2.07 0-2.86zM5.41 20L4 18.59l7.72-7.72 1.47 1.35L5.41 20z\"/>\n",
              "  </svg>\n",
              "      </button>\n",
              "      \n",
              "  <style>\n",
              "    .colab-df-container {\n",
              "      display:flex;\n",
              "      flex-wrap:wrap;\n",
              "      gap: 12px;\n",
              "    }\n",
              "\n",
              "    .colab-df-convert {\n",
              "      background-color: #E8F0FE;\n",
              "      border: none;\n",
              "      border-radius: 50%;\n",
              "      cursor: pointer;\n",
              "      display: none;\n",
              "      fill: #1967D2;\n",
              "      height: 32px;\n",
              "      padding: 0 0 0 0;\n",
              "      width: 32px;\n",
              "    }\n",
              "\n",
              "    .colab-df-convert:hover {\n",
              "      background-color: #E2EBFA;\n",
              "      box-shadow: 0px 1px 2px rgba(60, 64, 67, 0.3), 0px 1px 3px 1px rgba(60, 64, 67, 0.15);\n",
              "      fill: #174EA6;\n",
              "    }\n",
              "\n",
              "    [theme=dark] .colab-df-convert {\n",
              "      background-color: #3B4455;\n",
              "      fill: #D2E3FC;\n",
              "    }\n",
              "\n",
              "    [theme=dark] .colab-df-convert:hover {\n",
              "      background-color: #434B5C;\n",
              "      box-shadow: 0px 1px 3px 1px rgba(0, 0, 0, 0.15);\n",
              "      filter: drop-shadow(0px 1px 2px rgba(0, 0, 0, 0.3));\n",
              "      fill: #FFFFFF;\n",
              "    }\n",
              "  </style>\n",
              "\n",
              "      <script>\n",
              "        const buttonEl =\n",
              "          document.querySelector('#df-051499b2-c96c-4ccc-86d4-419785199595 button.colab-df-convert');\n",
              "        buttonEl.style.display =\n",
              "          google.colab.kernel.accessAllowed ? 'block' : 'none';\n",
              "\n",
              "        async function convertToInteractive(key) {\n",
              "          const element = document.querySelector('#df-051499b2-c96c-4ccc-86d4-419785199595');\n",
              "          const dataTable =\n",
              "            await google.colab.kernel.invokeFunction('convertToInteractive',\n",
              "                                                     [key], {});\n",
              "          if (!dataTable) return;\n",
              "\n",
              "          const docLinkHtml = 'Like what you see? Visit the ' +\n",
              "            '<a target=\"_blank\" href=https://colab.research.google.com/notebooks/data_table.ipynb>data table notebook</a>'\n",
              "            + ' to learn more about interactive tables.';\n",
              "          element.innerHTML = '';\n",
              "          dataTable['output_type'] = 'display_data';\n",
              "          await google.colab.output.renderOutput(dataTable, element);\n",
              "          const docLink = document.createElement('div');\n",
              "          docLink.innerHTML = docLinkHtml;\n",
              "          element.appendChild(docLink);\n",
              "        }\n",
              "      </script>\n",
              "    </div>\n",
              "  </div>\n",
              "  "
            ]
          },
          "metadata": {},
          "execution_count": 12
        }
      ]
    },
    {
      "cell_type": "code",
      "source": [
        "genome_scores.shape"
      ],
      "metadata": {
        "colab": {
          "base_uri": "https://localhost:8080/"
        },
        "id": "KdaQxyO3u-L0",
        "outputId": "7bcb56ad-b7f9-48f1-846c-b1d15d99e462"
      },
      "execution_count": null,
      "outputs": [
        {
          "output_type": "execute_result",
          "data": {
            "text/plain": [
              "(14862528, 3)"
            ]
          },
          "metadata": {},
          "execution_count": 13
        }
      ]
    },
    {
      "cell_type": "code",
      "source": [
        "# genome_scores.sketch.howto('Create new column \"tag\" and put tag from \"genome_tags\" by key \"tagId\"')"
      ],
      "metadata": {
        "id": "Ek9bTE9NwkKe"
      },
      "execution_count": null,
      "outputs": []
    },
    {
      "cell_type": "code",
      "source": [
        "# merge the two dataframes on tagId\n",
        "genome_scores = genome_scores.merge(genome_tags, on='tagId', how='left')\n",
        "\n",
        "# create new column \"tag\" and put tag from \"genome_tags\" by key \"tagId\"\n",
        "genome_scores['tag'] = genome_scores['tag'].fillna('')\n",
        "genome_scores.head()"
      ],
      "metadata": {
        "colab": {
          "base_uri": "https://localhost:8080/",
          "height": 206
        },
        "id": "9ZuaURsLxoKf",
        "outputId": "0d762801-8c6b-4dbc-e5de-f6e597235902"
      },
      "execution_count": null,
      "outputs": [
        {
          "output_type": "execute_result",
          "data": {
            "text/plain": [
              "   movieId  tagId  relevance           tag\n",
              "0        1      1    0.02900           007\n",
              "1        1      2    0.02375  007 (series)\n",
              "2        1      3    0.05425  18th century\n",
              "3        1      4    0.06875         1920s\n",
              "4        1      5    0.16000         1930s"
            ],
            "text/html": [
              "\n",
              "  <div id=\"df-0302261c-7cab-40ae-9231-b9c272e769e5\">\n",
              "    <div class=\"colab-df-container\">\n",
              "      <div>\n",
              "<style scoped>\n",
              "    .dataframe tbody tr th:only-of-type {\n",
              "        vertical-align: middle;\n",
              "    }\n",
              "\n",
              "    .dataframe tbody tr th {\n",
              "        vertical-align: top;\n",
              "    }\n",
              "\n",
              "    .dataframe thead th {\n",
              "        text-align: right;\n",
              "    }\n",
              "</style>\n",
              "<table border=\"1\" class=\"dataframe\">\n",
              "  <thead>\n",
              "    <tr style=\"text-align: right;\">\n",
              "      <th></th>\n",
              "      <th>movieId</th>\n",
              "      <th>tagId</th>\n",
              "      <th>relevance</th>\n",
              "      <th>tag</th>\n",
              "    </tr>\n",
              "  </thead>\n",
              "  <tbody>\n",
              "    <tr>\n",
              "      <th>0</th>\n",
              "      <td>1</td>\n",
              "      <td>1</td>\n",
              "      <td>0.02900</td>\n",
              "      <td>007</td>\n",
              "    </tr>\n",
              "    <tr>\n",
              "      <th>1</th>\n",
              "      <td>1</td>\n",
              "      <td>2</td>\n",
              "      <td>0.02375</td>\n",
              "      <td>007 (series)</td>\n",
              "    </tr>\n",
              "    <tr>\n",
              "      <th>2</th>\n",
              "      <td>1</td>\n",
              "      <td>3</td>\n",
              "      <td>0.05425</td>\n",
              "      <td>18th century</td>\n",
              "    </tr>\n",
              "    <tr>\n",
              "      <th>3</th>\n",
              "      <td>1</td>\n",
              "      <td>4</td>\n",
              "      <td>0.06875</td>\n",
              "      <td>1920s</td>\n",
              "    </tr>\n",
              "    <tr>\n",
              "      <th>4</th>\n",
              "      <td>1</td>\n",
              "      <td>5</td>\n",
              "      <td>0.16000</td>\n",
              "      <td>1930s</td>\n",
              "    </tr>\n",
              "  </tbody>\n",
              "</table>\n",
              "</div>\n",
              "      <button class=\"colab-df-convert\" onclick=\"convertToInteractive('df-0302261c-7cab-40ae-9231-b9c272e769e5')\"\n",
              "              title=\"Convert this dataframe to an interactive table.\"\n",
              "              style=\"display:none;\">\n",
              "        \n",
              "  <svg xmlns=\"http://www.w3.org/2000/svg\" height=\"24px\"viewBox=\"0 0 24 24\"\n",
              "       width=\"24px\">\n",
              "    <path d=\"M0 0h24v24H0V0z\" fill=\"none\"/>\n",
              "    <path d=\"M18.56 5.44l.94 2.06.94-2.06 2.06-.94-2.06-.94-.94-2.06-.94 2.06-2.06.94zm-11 1L8.5 8.5l.94-2.06 2.06-.94-2.06-.94L8.5 2.5l-.94 2.06-2.06.94zm10 10l.94 2.06.94-2.06 2.06-.94-2.06-.94-.94-2.06-.94 2.06-2.06.94z\"/><path d=\"M17.41 7.96l-1.37-1.37c-.4-.4-.92-.59-1.43-.59-.52 0-1.04.2-1.43.59L10.3 9.45l-7.72 7.72c-.78.78-.78 2.05 0 2.83L4 21.41c.39.39.9.59 1.41.59.51 0 1.02-.2 1.41-.59l7.78-7.78 2.81-2.81c.8-.78.8-2.07 0-2.86zM5.41 20L4 18.59l7.72-7.72 1.47 1.35L5.41 20z\"/>\n",
              "  </svg>\n",
              "      </button>\n",
              "      \n",
              "  <style>\n",
              "    .colab-df-container {\n",
              "      display:flex;\n",
              "      flex-wrap:wrap;\n",
              "      gap: 12px;\n",
              "    }\n",
              "\n",
              "    .colab-df-convert {\n",
              "      background-color: #E8F0FE;\n",
              "      border: none;\n",
              "      border-radius: 50%;\n",
              "      cursor: pointer;\n",
              "      display: none;\n",
              "      fill: #1967D2;\n",
              "      height: 32px;\n",
              "      padding: 0 0 0 0;\n",
              "      width: 32px;\n",
              "    }\n",
              "\n",
              "    .colab-df-convert:hover {\n",
              "      background-color: #E2EBFA;\n",
              "      box-shadow: 0px 1px 2px rgba(60, 64, 67, 0.3), 0px 1px 3px 1px rgba(60, 64, 67, 0.15);\n",
              "      fill: #174EA6;\n",
              "    }\n",
              "\n",
              "    [theme=dark] .colab-df-convert {\n",
              "      background-color: #3B4455;\n",
              "      fill: #D2E3FC;\n",
              "    }\n",
              "\n",
              "    [theme=dark] .colab-df-convert:hover {\n",
              "      background-color: #434B5C;\n",
              "      box-shadow: 0px 1px 3px 1px rgba(0, 0, 0, 0.15);\n",
              "      filter: drop-shadow(0px 1px 2px rgba(0, 0, 0, 0.3));\n",
              "      fill: #FFFFFF;\n",
              "    }\n",
              "  </style>\n",
              "\n",
              "      <script>\n",
              "        const buttonEl =\n",
              "          document.querySelector('#df-0302261c-7cab-40ae-9231-b9c272e769e5 button.colab-df-convert');\n",
              "        buttonEl.style.display =\n",
              "          google.colab.kernel.accessAllowed ? 'block' : 'none';\n",
              "\n",
              "        async function convertToInteractive(key) {\n",
              "          const element = document.querySelector('#df-0302261c-7cab-40ae-9231-b9c272e769e5');\n",
              "          const dataTable =\n",
              "            await google.colab.kernel.invokeFunction('convertToInteractive',\n",
              "                                                     [key], {});\n",
              "          if (!dataTable) return;\n",
              "\n",
              "          const docLinkHtml = 'Like what you see? Visit the ' +\n",
              "            '<a target=\"_blank\" href=https://colab.research.google.com/notebooks/data_table.ipynb>data table notebook</a>'\n",
              "            + ' to learn more about interactive tables.';\n",
              "          element.innerHTML = '';\n",
              "          dataTable['output_type'] = 'display_data';\n",
              "          await google.colab.output.renderOutput(dataTable, element);\n",
              "          const docLink = document.createElement('div');\n",
              "          docLink.innerHTML = docLinkHtml;\n",
              "          element.appendChild(docLink);\n",
              "        }\n",
              "      </script>\n",
              "    </div>\n",
              "  </div>\n",
              "  "
            ]
          },
          "metadata": {},
          "execution_count": 15
        }
      ]
    },
    {
      "cell_type": "code",
      "source": [
        "# genome_scores.sketch.howto(\"In 'movieId' delete if not in user_movie.movieId\")"
      ],
      "metadata": {
        "colab": {
          "base_uri": "https://localhost:8080/",
          "height": 104
        },
        "id": "SbySNJjIz4Oc",
        "outputId": "6c20042a-05a2-4722-ceac-73fb2c922879"
      },
      "execution_count": null,
      "outputs": [
        {
          "output_type": "display_data",
          "data": {
            "text/plain": [
              "<IPython.core.display.HTML object>"
            ],
            "text/html": [
              "<div style=\"display:flex;flex-direction:row;justify-content:space-between;\">\n",
              "                <pre style=\"width: 100%; white-space: pre-wrap;\" id=\"abb142e8-e5e3-4be1-9d53-fb798d8bea44\">\n",
              "# Create a list of movieIds from user_movie\n",
              "user_movie_ids = user_movie['movieId'].tolist()\n",
              "\n",
              "# Filter the genome_scores dataframe to only include movieIds in the user_movie list\n",
              "genome_scores = genome_scores[genome_scores['movieId'].isin(user_movie_ids)]\n",
              "</pre>\n",
              "                <button style=\"height: fit-content;\" onclick=\"navigator.clipboard.writeText(JSON.parse(atob(`IlxuIyBDcmVhdGUgYSBsaXN0IG9mIG1vdmllSWRzIGZyb20gdXNlcl9tb3ZpZVxudXNlcl9tb3ZpZV9pZHMgPSB1c2VyX21vdmllWydtb3ZpZUlkJ10udG9saXN0KClcblxuIyBGaWx0ZXIgdGhlIGdlbm9tZV9zY29yZXMgZGF0YWZyYW1lIHRvIG9ubHkgaW5jbHVkZSBtb3ZpZUlkcyBpbiB0aGUgdXNlcl9tb3ZpZSBsaXN0XG5nZW5vbWVfc2NvcmVzID0gZ2Vub21lX3Njb3Jlc1tnZW5vbWVfc2NvcmVzWydtb3ZpZUlkJ10uaXNpbih1c2VyX21vdmllX2lkcyldXG4i`)))\">Copy</button>\n",
              "                </div>"
            ]
          },
          "metadata": {}
        }
      ]
    },
    {
      "cell_type": "markdown",
      "source": [
        "Расскоментировать, когда будет файл user_movie_raw"
      ],
      "metadata": {
        "id": "MxrsG8i44Qn-"
      }
    },
    {
      "cell_type": "code",
      "source": [
        "# # Create a list of movieIds from user_movie\n",
        "# user_movie_ids = user_movie_raw['movieId'].unique().tolist()  \n",
        "\n",
        "# # Filter the genome_scores dataframe to only include movieIds in the user_movie_raw list\n",
        "# genome_scores = genome_scores[genome_scores['movieId'].isin(user_movie_ids)]"
      ],
      "metadata": {
        "colab": {
          "base_uri": "https://localhost:8080/",
          "height": 423
        },
        "id": "y5aW1u1A2c_X",
        "outputId": "7551b0f9-76f0-476e-a796-0c0c746eb049"
      },
      "execution_count": null,
      "outputs": [
        {
          "output_type": "execute_result",
          "data": {
            "text/plain": [
              "          movieId  tagId  relevance           tag\n",
              "0               1      1    0.02900           007\n",
              "1               1      2    0.02375  007 (series)\n",
              "2               1      3    0.05425  18th century\n",
              "3               1      4    0.06875         1920s\n",
              "4               1      5    0.16000         1930s\n",
              "...           ...    ...        ...           ...\n",
              "14862523   187595   1124    0.10700       writing\n",
              "14862524   187595   1125    0.05850         wuxia\n",
              "14862525   187595   1126    0.03800          wwii\n",
              "14862526   187595   1127    0.10225        zombie\n",
              "14862527   187595   1128    0.02925       zombies\n",
              "\n",
              "[14839968 rows x 4 columns]"
            ],
            "text/html": [
              "\n",
              "  <div id=\"df-0aa0d861-acd2-475e-97e0-7f33d554e008\">\n",
              "    <div class=\"colab-df-container\">\n",
              "      <div>\n",
              "<style scoped>\n",
              "    .dataframe tbody tr th:only-of-type {\n",
              "        vertical-align: middle;\n",
              "    }\n",
              "\n",
              "    .dataframe tbody tr th {\n",
              "        vertical-align: top;\n",
              "    }\n",
              "\n",
              "    .dataframe thead th {\n",
              "        text-align: right;\n",
              "    }\n",
              "</style>\n",
              "<table border=\"1\" class=\"dataframe\">\n",
              "  <thead>\n",
              "    <tr style=\"text-align: right;\">\n",
              "      <th></th>\n",
              "      <th>movieId</th>\n",
              "      <th>tagId</th>\n",
              "      <th>relevance</th>\n",
              "      <th>tag</th>\n",
              "    </tr>\n",
              "  </thead>\n",
              "  <tbody>\n",
              "    <tr>\n",
              "      <th>0</th>\n",
              "      <td>1</td>\n",
              "      <td>1</td>\n",
              "      <td>0.02900</td>\n",
              "      <td>007</td>\n",
              "    </tr>\n",
              "    <tr>\n",
              "      <th>1</th>\n",
              "      <td>1</td>\n",
              "      <td>2</td>\n",
              "      <td>0.02375</td>\n",
              "      <td>007 (series)</td>\n",
              "    </tr>\n",
              "    <tr>\n",
              "      <th>2</th>\n",
              "      <td>1</td>\n",
              "      <td>3</td>\n",
              "      <td>0.05425</td>\n",
              "      <td>18th century</td>\n",
              "    </tr>\n",
              "    <tr>\n",
              "      <th>3</th>\n",
              "      <td>1</td>\n",
              "      <td>4</td>\n",
              "      <td>0.06875</td>\n",
              "      <td>1920s</td>\n",
              "    </tr>\n",
              "    <tr>\n",
              "      <th>4</th>\n",
              "      <td>1</td>\n",
              "      <td>5</td>\n",
              "      <td>0.16000</td>\n",
              "      <td>1930s</td>\n",
              "    </tr>\n",
              "    <tr>\n",
              "      <th>...</th>\n",
              "      <td>...</td>\n",
              "      <td>...</td>\n",
              "      <td>...</td>\n",
              "      <td>...</td>\n",
              "    </tr>\n",
              "    <tr>\n",
              "      <th>14862523</th>\n",
              "      <td>187595</td>\n",
              "      <td>1124</td>\n",
              "      <td>0.10700</td>\n",
              "      <td>writing</td>\n",
              "    </tr>\n",
              "    <tr>\n",
              "      <th>14862524</th>\n",
              "      <td>187595</td>\n",
              "      <td>1125</td>\n",
              "      <td>0.05850</td>\n",
              "      <td>wuxia</td>\n",
              "    </tr>\n",
              "    <tr>\n",
              "      <th>14862525</th>\n",
              "      <td>187595</td>\n",
              "      <td>1126</td>\n",
              "      <td>0.03800</td>\n",
              "      <td>wwii</td>\n",
              "    </tr>\n",
              "    <tr>\n",
              "      <th>14862526</th>\n",
              "      <td>187595</td>\n",
              "      <td>1127</td>\n",
              "      <td>0.10225</td>\n",
              "      <td>zombie</td>\n",
              "    </tr>\n",
              "    <tr>\n",
              "      <th>14862527</th>\n",
              "      <td>187595</td>\n",
              "      <td>1128</td>\n",
              "      <td>0.02925</td>\n",
              "      <td>zombies</td>\n",
              "    </tr>\n",
              "  </tbody>\n",
              "</table>\n",
              "<p>14839968 rows × 4 columns</p>\n",
              "</div>\n",
              "      <button class=\"colab-df-convert\" onclick=\"convertToInteractive('df-0aa0d861-acd2-475e-97e0-7f33d554e008')\"\n",
              "              title=\"Convert this dataframe to an interactive table.\"\n",
              "              style=\"display:none;\">\n",
              "        \n",
              "  <svg xmlns=\"http://www.w3.org/2000/svg\" height=\"24px\"viewBox=\"0 0 24 24\"\n",
              "       width=\"24px\">\n",
              "    <path d=\"M0 0h24v24H0V0z\" fill=\"none\"/>\n",
              "    <path d=\"M18.56 5.44l.94 2.06.94-2.06 2.06-.94-2.06-.94-.94-2.06-.94 2.06-2.06.94zm-11 1L8.5 8.5l.94-2.06 2.06-.94-2.06-.94L8.5 2.5l-.94 2.06-2.06.94zm10 10l.94 2.06.94-2.06 2.06-.94-2.06-.94-.94-2.06-.94 2.06-2.06.94z\"/><path d=\"M17.41 7.96l-1.37-1.37c-.4-.4-.92-.59-1.43-.59-.52 0-1.04.2-1.43.59L10.3 9.45l-7.72 7.72c-.78.78-.78 2.05 0 2.83L4 21.41c.39.39.9.59 1.41.59.51 0 1.02-.2 1.41-.59l7.78-7.78 2.81-2.81c.8-.78.8-2.07 0-2.86zM5.41 20L4 18.59l7.72-7.72 1.47 1.35L5.41 20z\"/>\n",
              "  </svg>\n",
              "      </button>\n",
              "      \n",
              "  <style>\n",
              "    .colab-df-container {\n",
              "      display:flex;\n",
              "      flex-wrap:wrap;\n",
              "      gap: 12px;\n",
              "    }\n",
              "\n",
              "    .colab-df-convert {\n",
              "      background-color: #E8F0FE;\n",
              "      border: none;\n",
              "      border-radius: 50%;\n",
              "      cursor: pointer;\n",
              "      display: none;\n",
              "      fill: #1967D2;\n",
              "      height: 32px;\n",
              "      padding: 0 0 0 0;\n",
              "      width: 32px;\n",
              "    }\n",
              "\n",
              "    .colab-df-convert:hover {\n",
              "      background-color: #E2EBFA;\n",
              "      box-shadow: 0px 1px 2px rgba(60, 64, 67, 0.3), 0px 1px 3px 1px rgba(60, 64, 67, 0.15);\n",
              "      fill: #174EA6;\n",
              "    }\n",
              "\n",
              "    [theme=dark] .colab-df-convert {\n",
              "      background-color: #3B4455;\n",
              "      fill: #D2E3FC;\n",
              "    }\n",
              "\n",
              "    [theme=dark] .colab-df-convert:hover {\n",
              "      background-color: #434B5C;\n",
              "      box-shadow: 0px 1px 3px 1px rgba(0, 0, 0, 0.15);\n",
              "      filter: drop-shadow(0px 1px 2px rgba(0, 0, 0, 0.3));\n",
              "      fill: #FFFFFF;\n",
              "    }\n",
              "  </style>\n",
              "\n",
              "      <script>\n",
              "        const buttonEl =\n",
              "          document.querySelector('#df-0aa0d861-acd2-475e-97e0-7f33d554e008 button.colab-df-convert');\n",
              "        buttonEl.style.display =\n",
              "          google.colab.kernel.accessAllowed ? 'block' : 'none';\n",
              "\n",
              "        async function convertToInteractive(key) {\n",
              "          const element = document.querySelector('#df-0aa0d861-acd2-475e-97e0-7f33d554e008');\n",
              "          const dataTable =\n",
              "            await google.colab.kernel.invokeFunction('convertToInteractive',\n",
              "                                                     [key], {});\n",
              "          if (!dataTable) return;\n",
              "\n",
              "          const docLinkHtml = 'Like what you see? Visit the ' +\n",
              "            '<a target=\"_blank\" href=https://colab.research.google.com/notebooks/data_table.ipynb>data table notebook</a>'\n",
              "            + ' to learn more about interactive tables.';\n",
              "          element.innerHTML = '';\n",
              "          dataTable['output_type'] = 'display_data';\n",
              "          await google.colab.output.renderOutput(dataTable, element);\n",
              "          const docLink = document.createElement('div');\n",
              "          docLink.innerHTML = docLinkHtml;\n",
              "          element.appendChild(docLink);\n",
              "        }\n",
              "      </script>\n",
              "    </div>\n",
              "  </div>\n",
              "  "
            ]
          },
          "metadata": {},
          "execution_count": 21
        }
      ]
    },
    {
      "cell_type": "code",
      "source": [
        "genome_scores.sketch.howto('Get max relevance for every movieId')"
      ],
      "metadata": {
        "colab": {
          "base_uri": "https://localhost:8080/",
          "height": 52
        },
        "id": "zLFZ7HRC5PBB",
        "outputId": "5b168628-89ad-4796-c845-44b610ef01e8"
      },
      "execution_count": null,
      "outputs": [
        {
          "output_type": "display_data",
          "data": {
            "text/plain": [
              "<IPython.core.display.HTML object>"
            ],
            "text/html": [
              "<div style=\"display:flex;flex-direction:row;justify-content:space-between;\">\n",
              "                <pre style=\"width: 100%; white-space: pre-wrap;\" id=\"57753d45-7ec1-46a7-b502-b2df89bfb952\">\n",
              "# Get first relevance for every movieId\n",
              "df.groupby('movieId')['relevance'].first()\n",
              "</pre>\n",
              "                <button style=\"height: fit-content;\" onclick=\"navigator.clipboard.writeText(JSON.parse(atob(`IlxuIyBHZXQgZmlyc3QgcmVsZXZhbmNlIGZvciBldmVyeSBtb3ZpZUlkXG5kZi5ncm91cGJ5KCdtb3ZpZUlkJylbJ3JlbGV2YW5jZSddLmZpcnN0KClcbiI=`)))\">Copy</button>\n",
              "                </div>"
            ]
          },
          "metadata": {}
        }
      ]
    },
    {
      "cell_type": "code",
      "source": [
        "# это максимальное значение. Можно сделать ещё 2, 3 и тд по релевантности тег\n",
        "genome_scores.groupby('movieId')['relevance'].max()"
      ],
      "metadata": {
        "colab": {
          "base_uri": "https://localhost:8080/"
        },
        "id": "sAn7-h9A5MYZ",
        "outputId": "5e639a12-1e0f-4ea2-d89a-300f41205bf7"
      },
      "execution_count": null,
      "outputs": [
        {
          "output_type": "execute_result",
          "data": {
            "text/plain": [
              "movieId\n",
              "1         0.99950\n",
              "2         0.97800\n",
              "3         0.97000\n",
              "4         0.97625\n",
              "5         0.96925\n",
              "           ...   \n",
              "185435    0.88750\n",
              "185585    0.76700\n",
              "186587    0.91875\n",
              "187593    0.85325\n",
              "187595    0.88225\n",
              "Name: relevance, Length: 13156, dtype: float64"
            ]
          },
          "metadata": {},
          "execution_count": 24
        }
      ]
    },
    {
      "cell_type": "code",
      "source": [
        "genome_scores.query(\"movieId == 1\").relevance.sort_values(ascending=False).head(20)"
      ],
      "metadata": {
        "colab": {
          "base_uri": "https://localhost:8080/"
        },
        "id": "UNSLorw55OHW",
        "outputId": "eb3e34a5-007f-4741-eab0-6da24e6343ec"
      },
      "execution_count": null,
      "outputs": [
        {
          "output_type": "execute_result",
          "data": {
            "text/plain": [
              "1035    0.99950\n",
              "243     0.99900\n",
              "785     0.99550\n",
              "63      0.98875\n",
              "588     0.98850\n",
              "587     0.97850\n",
              "784     0.96975\n",
              "185     0.95850\n",
              "62      0.95500\n",
              "203     0.95450\n",
              "411     0.93350\n",
              "535     0.92875\n",
              "970     0.91700\n",
              "28      0.90700\n",
              "202     0.90550\n",
              "468     0.90400\n",
              "602     0.88475\n",
              "741     0.88225\n",
              "1061    0.88200\n",
              "309     0.87000\n",
              "Name: relevance, dtype: float64"
            ]
          },
          "metadata": {},
          "execution_count": 26
        }
      ]
    },
    {
      "cell_type": "code",
      "source": [],
      "metadata": {
        "id": "hBc4DtIhOQWq"
      },
      "execution_count": null,
      "outputs": []
    },
    {
      "cell_type": "markdown",
      "source": [
        "## Summary"
      ],
      "metadata": {
        "id": "XwTYqY56-pkJ"
      }
    },
    {
      "cell_type": "code",
      "source": [
        "user_movie_raw.userId.values.shape, mea_score.shape, user_rating_count.shape, summ.shape"
      ],
      "metadata": {
        "colab": {
          "base_uri": "https://localhost:8080/"
        },
        "id": "_hOb5-MyRnMZ",
        "outputId": "248e15ae-3ff3-4161-e9e7-6e290e628e1b"
      },
      "execution_count": 16,
      "outputs": [
        {
          "output_type": "execute_result",
          "data": {
            "text/plain": [
              "((25499629,), (143545,), (143545,), (143545,))"
            ]
          },
          "metadata": {},
          "execution_count": 16
        }
      ]
    },
    {
      "cell_type": "code",
      "source": [
        "user_ftr = pd.DataFrame({\n",
        "    'userId': user_movie.userId.values,\n",
        "    'mean_score': mea_score,\n",
        "    'quantity': user_rating_count,\n",
        "    'summ': summ\n",
        "    })"
      ],
      "metadata": {
        "id": "oedt-tvCPhCo"
      },
      "execution_count": null,
      "outputs": []
    },
    {
      "cell_type": "code",
      "source": [
        "movie_ftr = pd.DataFrame({\n",
        "    # 'movieId': user_movie_raw.movieId.unique().values, # раскоментить, когда будет доступен user_movie_raw\n",
        "    'average_mark': [],\n",
        "\n",
        "    })"
      ],
      "metadata": {
        "id": "dLHMH244RVSp"
      },
      "execution_count": null,
      "outputs": []
    }
  ]
}